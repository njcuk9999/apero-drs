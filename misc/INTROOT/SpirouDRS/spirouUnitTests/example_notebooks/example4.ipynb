{
 "cells": [
  {
   "cell_type": "markdown",
   "metadata": {
    "collapsed": true
   },
   "source": [
    "# Using custom arguments\n",
    "\n",
    "By default the recipes expect the following inputs:\n",
    "\n",
    "\t- night_name - the string containing the path inside the raw data folder\n",
    "\t- files - the list of filenames (at location: `raw data folder/night_name/`)\n",
    "\n",
    "In some cases different or additional arguments are required. Examples of recipes where this is true are:\n",
    "\t- cal_BADPIX_spirou.py\n",
    "\t- cal_CCF_E2DS_spirou.py\n",
    "\t- cal_DRIFT_E2DS_spirou.py\n",
    "\t- cal_DRIFTPEAK_E2DS_spirou.py\n",
    "\t- cal_WAVE_E2DS_spirou.py\n",
    "\n",
    "Below we describe how to a slightly modified set up routine to deal with any number of custom arguments required."
   ]
  },
  {
   "cell_type": "markdown",
   "metadata": {},
   "source": [
    "## Example with cal_BADPIX_spirou\n",
    "\n",
    "The recipe cal_BADPIX takes two arguments (after the night_name), this could use the default format requiring two and only two arguments pushed into the list of files.\n",
    "\n",
    "This is what the user is expected to input:\n",
    "```\n",
    "\tcal_BADPIX_spirou.py [night_directory] [flat_flat_*.fits] [dark_dark_*.fits]\n",
    "```\n",
    "\n",
    "And below is the code to deal with these two arguments:"
   ]
  },
  {
   "cell_type": "code",
   "execution_count": 6,
   "metadata": {},
   "outputs": [],
   "source": [
    "# imports and variable definition\n",
    "\n",
    "from __future__ import division\n",
    "import numpy as np\n",
    "import os\n",
    "\n",
    "from SpirouDRS import spirouCDB\n",
    "from SpirouDRS import spirouConfig\n",
    "from SpirouDRS import spirouCore\n",
    "from SpirouDRS import spirouImage\n",
    "from SpirouDRS import spirouStartup\n",
    "\n",
    "# =============================================================================\n",
    "# Define variables\n",
    "# =============================================================================\n",
    "# Name of program\n",
    "__NAME__ = 'cal_BADPIX_spirou.py'\n",
    "# Get version and author\n",
    "__version__ = spirouConfig.Constants.VERSION()\n",
    "__author__ = spirouConfig.Constants.AUTHORS()\n",
    "__date__ = spirouConfig.Constants.LATEST_EDIT()\n",
    "__release__ = spirouConfig.Constants.RELEASE()\n",
    "# Get Logging function\n",
    "WLOG = spirouCore.wlog\n",
    "# Get plotting functions\n",
    "sPlt = spirouCore.sPlt\n",
    "\n",
    "# these are the arguments of the main function (taken out to show below)\n",
    "#    they are all set to None by default - and hence will cause an exception\n",
    "#    unless the user enters these required values (all strings)\n",
    "night_name=None\n",
    "darkfile=None\n",
    "flatfile=None\n",
    "\n",
    "# force the runtime arguments (notebook only)\n",
    "import sys\n",
    "sys.argv = ['cal_BADPIX_spirou.py', '20170710', 'flat_flat02f10.fits', 'dark_dark02d406.fits']"
   ]
  },
  {
   "cell_type": "markdown",
   "metadata": {},
   "source": [
    "First (as always) we run the **Begin()** function to load variables from \"config.py\":"
   ]
  },
  {
   "cell_type": "code",
   "execution_count": 12,
   "metadata": {},
   "outputs": [
    {
     "name": "stdout",
     "output_type": "stream",
     "text": [
      "\u001b[92;1m15:48:26.0 -   || *****************************************\u001b[0;0m\n\u001b[92;1m15:48:26.0 -   || * SPIROU @(#) Geneva Observatory (0.1.030)\u001b[0;0m\n\u001b[92;1m15:48:26.0 -   || *****************************************\u001b[0;0m\n\u001b[92;1m15:48:26.0 -   ||(dir_data_raw)      DRS_DATA_RAW=/scratch/Projects/spirou_py3/data/raw\u001b[0;0m\n\u001b[92;1m15:48:26.0 -   ||(dir_data_reduc)    DRS_DATA_REDUC=/scratch/Projects/spirou_py3/data/reduced\u001b[0;0m\n\u001b[92;1m15:48:26.0 -   ||(dir_calib_db)      DRS_CALIB_DB=/scratch/Projects/spirou_py3/data/calibDB\u001b[0;0m\n\u001b[92;1m15:48:26.0 -   ||(dir_data_msg)      DRS_DATA_MSG=/scratch/Projects/spirou_py3/data/msg\u001b[0;0m\n\u001b[92;1m15:48:26.0 -   ||(print_level)       PRINT_LEVEL=all         %(error/warning/info/all)\u001b[0;0m\n\u001b[92;1m15:48:26.0 -   ||(log_level)         LOG_LEVEL=all         %(error/warning/info/all)\u001b[0;0m\n\u001b[92;1m15:48:26.0 -   ||(plot_graph)        DRS_PLOT=1            %(def/undef/trigger)\u001b[0;0m\n\u001b[92;1m15:48:26.0 -   ||(used_date)         DRS_USED_DATE=undefined\u001b[0;0m\n\u001b[92;1m15:48:26.0 -   ||(working_dir)       DRS_DATA_WORKING=/scratch/Projects/spirou_py3/data/tmp\u001b[0;0m\n\u001b[92;1m15:48:26.0 -   ||                    DRS_INTERACTIVE is not set, running on-line mode\u001b[0;0m\n"
     ]
    }
   ],
   "source": [
    "    # ----------------------------------------------------------------------\n",
    "    # Set up\n",
    "    # ----------------------------------------------------------------------\n",
    "    # get parameters from config files/run time args/load paths + calibdb\n",
    "    p = spirouStartup.Begin()"
   ]
  },
  {
   "cell_type": "markdown",
   "metadata": {},
   "source": [
    "Now we define the custom arguments. First we define pos (position), fmt (types), names and call (calls) and then we use **GetCustomFromRuntime()** to create the custom arguments in the correct format."
   ]
  },
  {
   "cell_type": "code",
   "execution_count": 13,
   "metadata": {},
   "outputs": [],
   "source": [
    "# deal with arguments being None (i.e. get from sys.argv)\n",
    "pos = [0, 1]\n",
    "fmt = [str, str]\n",
    "names = ['flatfile', 'darkfile']\n",
    "call = [darkfile, flatfile]\n",
    "# now get custom arguments\n",
    "customargs = spirouStartup.GetCustomFromRuntime(pos, fmt, names, calls=call)"
   ]
  },
  {
   "cell_type": "markdown",
   "metadata": {},
   "source": [
    "This gets the arguments either from runtime (user input - here via sys.argv) or from the arguments defined in main() (hence darkfile and flatfile both set to None).\n",
    "\n",
    "The result is \"customargs\" a dictionary containing all the correct parameters with correct formats."
   ]
  },
  {
   "cell_type": "code",
   "execution_count": 14,
   "metadata": {},
   "outputs": [
    {
     "data": {
      "text/plain": [
       "{'darkfile': 'dark_dark02d406.fits', 'flatfile': 'flat_flat02f10.fits'}"
      ]
     },
     "execution_count": 14,
     "metadata": {},
     "output_type": "execute_result"
    }
   ],
   "source": [
    "customargs"
   ]
  },
  {
   "cell_type": "markdown",
   "metadata": {},
   "source": [
    "\"customargs\" is then used in **LoadArguments()** and a mainfitsfile **HAS** to be defined (this is responsible for setting which file is defined as \"fitsfilename\" and is subsequentally used to load the calibration database file if needed. It can only be left blank if a recipe is not using \"fitsfilename\", \"arg_file_names\" or the calibration database."
   ]
  },
  {
   "cell_type": "code",
   "execution_count": 15,
   "metadata": {},
   "outputs": [
    {
     "name": "stdout",
     "output_type": "stream",
     "text": [
      "\u001b[92;1m15:48:30.0 -   |cal_BADPIX_spirou|Now running : cal_BADPIX_spirou with: \u001b[0;0m\n\u001b[92;1m15:48:30.0 -   |cal_BADPIX_spirou|       -- flatfile=flat_flat02f10.fits \u001b[0;0m\n\u001b[92;1m15:48:30.0 -   |cal_BADPIX_spirou|       -- darkfile=dark_dark02d406.fits \u001b[0;0m\n\u001b[92;1m15:48:30.0 -   |cal_BADPIX_spirou|ICDP_NAME loaded from: /scratch/Projects/spirou_py3/spirou_py3/INTROOT/config/constants_SPIROU.py\u001b[0;0m\n\u001b[92;1m15:48:30.0 -   |cal_BADPIX_spirou|Calibration file: 20170710_flat_flat02f10_badpixel.fits already exists - not copied\u001b[0;0m\n\u001b[92;1m15:48:30.0 -   |cal_BADPIX_spirou|Calibration file: 20170710_flat_dark02f10_blaze_AB.fits already exists - not copied\u001b[0;0m\n\u001b[92;1m15:48:30.0 -   |cal_BADPIX_spirou|Calibration file: 20170710_dark_flat02f10_blaze_C.fits already exists - not copied\u001b[0;0m\n\u001b[92;1m15:48:30.0 -   |cal_BADPIX_spirou|Calibration file: 20170710_dark_dark02d406.fits already exists - not copied\u001b[0;0m\n\u001b[92;1m15:48:30.0 -   |cal_BADPIX_spirou|Calibration file: 20170710_flat_dark02f10_flat_AB.fits already exists - not copied\u001b[0;0m\n\u001b[92;1m15:48:30.0 -   |cal_BADPIX_spirou|Calibration file: 20170710_dark_flat02f10_flat_C.fits already exists - not copied\u001b[0;0m\n\u001b[92;1m15:48:30.0 -   |cal_BADPIX_spirou|Calibration file: 20170710_flat_dark02f10_loco_AB.fits already exists - not copied\u001b[0;0m\n\u001b[92;1m15:48:30.0 -   |cal_BADPIX_spirou|Calibration file: 20170710_dark_flat02f10_loco_C.fits already exists - not copied\u001b[0;0m\n\u001b[92;1m15:48:30.0 -   |cal_BADPIX_spirou|Calibration file: 20170710_flat_dark02f10_order_profile_AB.fits already exists - not copied\u001b[0;0m\n\u001b[92;1m15:48:30.0 -   |cal_BADPIX_spirou|Calibration file: 20170710_dark_flat02f10_order_profile_C.fits already exists - not copied\u001b[0;0m\n\u001b[92;1m15:48:30.0 -   |cal_BADPIX_spirou|Calibration file: 20170710_fp_fp02a203_tilt.fits already exists - not copied\u001b[0;0m\n\u001b[92;1m15:48:30.0 -   |cal_BADPIX_spirou|Calibration file: spirou_wave_ini3.fits already exists - not copied\u001b[0;0m\n\u001b[92;1m15:48:30.0 -   |cal_BADPIX_spirou|Calibration file: 2017-10-11_21-32-17_hcone_hcone02c406_wave_AB.fits already exists - not copied\u001b[0;0m\n\u001b[92;1m15:48:30.0 -   |cal_BADPIX_spirou|Calibration file: spirou_wave_ini3.fits already exists - not copied\u001b[0;0m\n\u001b[92;1m15:48:30.0 -   |cal_BADPIX_spirou|Calibration file: 2017-10-11_21-32-17_hcone_hcone02c406_wave_C.fits already exists - not copied\u001b[0;0m\n"
     ]
    }
   ],
   "source": [
    "# get parameters from configuration files and run time arguments\n",
    "p = spirouStartup.LoadArguments(p, night_name, customargs=customargs,\n",
    "                                    mainfitsfile='flatfile')\n",
    "# as we have custom arguments need to load the calibration database\n",
    "p = spirouStartup.LoadCalibDB(p)"
   ]
  },
  {
   "cell_type": "markdown",
   "metadata": {},
   "source": [
    "Packaged up in the main function the setup routines will look as follows:"
   ]
  },
  {
   "cell_type": "code",
   "execution_count": 16,
   "metadata": {},
   "outputs": [],
   "source": [
    "# =============================================================================\n",
    "# Define functions\n",
    "# =============================================================================\n",
    "def main(night_name=None, darkfile=None, flatfile=None):\n",
    "    # ----------------------------------------------------------------------\n",
    "    # Set up\n",
    "    # ----------------------------------------------------------------------\n",
    "    # get parameters from config files/run time args/load paths + calibdb\n",
    "    p = spirouStartup.Begin()\n",
    "    # deal with arguments being None (i.e. get from sys.argv)\n",
    "    pos = [0, 1]\n",
    "    fmt = [str, str]\n",
    "    names = ['flatfile', 'darkfile']\n",
    "    call = [darkfile, flatfile]\n",
    "    # now get custom arguments\n",
    "    customargs = spirouStartup.GetCustomFromRuntime(pos, fmt, names, calls=call)\n",
    "    # get parameters from configuration files and run time arguments\n",
    "    p = spirouStartup.LoadArguments(p, night_name, customargs=customargs,\n",
    "                                    mainfitsfile='flatfile')\n",
    "    # as we have custom arguments need to load the calibration database\n",
    "    p = spirouStartup.LoadCalibDB(p)\n",
    "    \n",
    "    # ----------------------------------------------------------------------\n",
    "    # Rest of function here\n",
    "    # ----------------------------------------------------------------------"
   ]
  },
  {
   "cell_type": "markdown",
   "metadata": {},
   "source": [
    "## Example with cal_CCF_E2DS_spirou\n",
    "\n",
    "The recipe cal_CCF_E2DS_spirou.py requires 5 additional arguements (after night_name) and input is as follows:\n",
    "\n",
    "```\n",
    "\tcal_CCF_E2DS_spirou.py [night_directory] [E2DSfilename] [mask] [RV] [width] [step]\n",
    "```\n",
    "\n",
    "In the recipe this is packaged up as follows:"
   ]
  },
  {
   "cell_type": "code",
   "execution_count": 21,
   "metadata": {},
   "outputs": [],
   "source": [
    "def main(night_name=None, e2dsfile=None, mask=None, rv=None, width=None,\n",
    "         step=None):\n",
    "    # ----------------------------------------------------------------------\n",
    "    # Set up\n",
    "    # ----------------------------------------------------------------------\n",
    "    # get parameters from config files/run time args/load paths + calibdb\n",
    "    p = spirouStartup.Begin()\n",
    "\n",
    "    # deal with arguments being None (i.e. get from sys.argv)\n",
    "    pos = [0, 1, 2, 3, 4]\n",
    "    fmt = [str, str, float, float, float]\n",
    "    name = ['e2dsfile', 'ccf_mask', 'target_rv', 'ccf_width', 'ccf_step']\n",
    "    lname = ['input_file', 'CCF_mask', 'RV', 'CCF_width', 'CCF_step']\n",
    "    req = [True, True, True, False, False]\n",
    "    call = [e2dsfile, mask, rv, width, step]\n",
    "    call_priority = [True, True, True, True, True]\n",
    "    # now get custom arguments\n",
    "    customargs = spirouStartup.GetCustomFromRuntime(pos, fmt, name, req, call,\n",
    "                                                    call_priority, lname)\n",
    "    # get parameters from configuration files and run time arguments\n",
    "    p = spirouStartup.LoadArguments(p, night_name, customargs=customargs,\n",
    "                                    mainfitsfile='e2dsfile',\n",
    "                                    mainfitsdir='reduced')\n",
    "    # as we have custom arguments need to load the calibration database\n",
    "    p = spirouStartup.LoadCalibDB(p)"
   ]
  },
  {
   "cell_type": "markdown",
   "metadata": {},
   "source": [
    "where this time CCF_width and CCF_step are not required (they have a default value) and an additional parameter was added to **LoadArguments()**. \n",
    "\n",
    "This additional parameter is \"mainfitsdir\" and can either have the value \"reduced\" or \"raw\" \"calibDB\" or be a valid absolute path to the folder. This allows the \"mainfitsfile\" to be located in a folder other than the default (\"raw\") folder (this was the case above for cal_BADPIX_spirou.py).\n",
    "\n",
    "The content of customargs is shown below and finally how they appear in the parameter dictionary \"p\" is shown at the end."
   ]
  },
  {
   "cell_type": "code",
   "execution_count": 37,
   "metadata": {},
   "outputs": [
    {
     "name": "stdout",
     "output_type": "stream",
     "text": [
      "\u001b[92;1m16:00:12.0 -   || *****************************************\u001b[0;0m\n\u001b[92;1m16:00:12.0 -   || * SPIROU @(#) Geneva Observatory (0.1.030)\u001b[0;0m\n\u001b[92;1m16:00:12.0 -   || *****************************************\u001b[0;0m\n\u001b[92;1m16:00:12.0 -   ||(dir_data_raw)      DRS_DATA_RAW=/scratch/Projects/spirou_py3/data/raw\u001b[0;0m\n\u001b[92;1m16:00:12.0 -   ||(dir_data_reduc)    DRS_DATA_REDUC=/scratch/Projects/spirou_py3/data/reduced\u001b[0;0m\n\u001b[92;1m16:00:12.0 -   ||(dir_calib_db)      DRS_CALIB_DB=/scratch/Projects/spirou_py3/data/calibDB\u001b[0;0m\n\u001b[92;1m16:00:12.0 -   ||(dir_data_msg)      DRS_DATA_MSG=/scratch/Projects/spirou_py3/data/msg\u001b[0;0m\n\u001b[92;1m16:00:12.0 -   ||(print_level)       PRINT_LEVEL=all         %(error/warning/info/all)\u001b[0;0m\n\u001b[92;1m16:00:12.0 -   ||(log_level)         LOG_LEVEL=all         %(error/warning/info/all)\u001b[0;0m\n\u001b[92;1m16:00:12.0 -   ||(plot_graph)        DRS_PLOT=1            %(def/undef/trigger)\u001b[0;0m\n\u001b[92;1m16:00:12.0 -   ||(used_date)         DRS_USED_DATE=undefined\u001b[0;0m\n\u001b[92;1m16:00:12.0 -   ||(working_dir)       DRS_DATA_WORKING=/scratch/Projects/spirou_py3/data/tmp\u001b[0;0m\n\u001b[92;1m16:00:12.0 -   ||                    DRS_INTERACTIVE is not set, running on-line mode\u001b[0;0m\n\u001b[92;1m16:00:12.0 -   |cal_CCF_E2DS_spirou|Now running : cal_CCF_E2DS_spirou with: \u001b[0;0m\n\u001b[92;1m16:00:12.0 -   |cal_CCF_E2DS_spirou|       -- e2dsfile=fp_fp02a203_e2ds_AB.fits \u001b[0;0m\n\u001b[92;1m16:00:12.0 -   |cal_CCF_E2DS_spirou|       -- ccf_mask=UrNe.mas \u001b[0;0m\n\u001b[92;1m16:00:12.0 -   |cal_CCF_E2DS_spirou|       -- target_rv=0.0 \u001b[0;0m\n\u001b[92;1m16:00:12.0 -   |cal_CCF_E2DS_spirou|       -- ccf_width=10.0 \u001b[0;0m\n\u001b[92;1m16:00:12.0 -   |cal_CCF_E2DS_spirou|       -- ccf_step=0.1 \u001b[0;0m\n\u001b[92;1m16:00:12.0 -   |cal_CCF_E2DS_spirou|ICDP_NAME loaded from: /scratch/Projects/spirou_py3/spirou_py3/INTROOT/config/constants_SPIROU.py\u001b[0;0m\n\u001b[92;1m16:00:12.0 -   |cal_CCF_E2DS_spirou|Calibration file: 20170710_flat_flat02f10_badpixel.fits already exists - not copied\u001b[0;0m\n\u001b[92;1m16:00:12.0 -   |cal_CCF_E2DS_spirou|Calibration file: 20170710_flat_dark02f10_blaze_AB.fits already exists - not copied\u001b[0;0m\n\u001b[92;1m16:00:12.0 -   |cal_CCF_E2DS_spirou|Calibration file: 20170710_dark_flat02f10_blaze_C.fits already exists - not copied\u001b[0;0m\n\u001b[92;1m16:00:12.0 -   |cal_CCF_E2DS_spirou|Calibration file: 20170710_dark_dark02d406.fits already exists - not copied\u001b[0;0m\n\u001b[92;1m16:00:12.0 -   |cal_CCF_E2DS_spirou|Calibration file: 20170710_flat_dark02f10_flat_AB.fits already exists - not copied\u001b[0;0m\n\u001b[92;1m16:00:12.0 -   |cal_CCF_E2DS_spirou|Calibration file: 20170710_dark_flat02f10_flat_C.fits already exists - not copied\u001b[0;0m\n\u001b[92;1m16:00:12.0 -   |cal_CCF_E2DS_spirou|Calibration file: 20170710_flat_dark02f10_loco_AB.fits already exists - not copied\u001b[0;0m\n\u001b[92;1m16:00:12.0 -   |cal_CCF_E2DS_spirou|Calibration file: 20170710_dark_flat02f10_loco_C.fits already exists - not copied\u001b[0;0m\n\u001b[92;1m16:00:12.0 -   |cal_CCF_E2DS_spirou|Calibration file: 20170710_flat_dark02f10_order_profile_AB.fits already exists - not copied\u001b[0;0m\n\u001b[92;1m16:00:12.0 -   |cal_CCF_E2DS_spirou|Calibration file: 20170710_dark_flat02f10_order_profile_C.fits already exists - not copied\u001b[0;0m\n\u001b[92;1m16:00:12.0 -   |cal_CCF_E2DS_spirou|Calibration file: 20170710_fp_fp02a203_tilt.fits already exists - not copied\u001b[0;0m\n\u001b[92;1m16:00:12.0 -   |cal_CCF_E2DS_spirou|Calibration file: spirou_wave_ini3.fits already exists - not copied\u001b[0;0m\n\u001b[92;1m16:00:12.0 -   |cal_CCF_E2DS_spirou|Calibration file: 2017-10-11_21-32-17_hcone_hcone02c406_wave_AB.fits already exists - not copied\u001b[0;0m\n\u001b[92;1m16:00:12.0 -   |cal_CCF_E2DS_spirou|Calibration file: spirou_wave_ini3.fits already exists - not copied\u001b[0;0m\n\u001b[92;1m16:00:12.0 -   |cal_CCF_E2DS_spirou|Calibration file: 2017-10-11_21-32-17_hcone_hcone02c406_wave_C.fits already exists - not copied\u001b[0;0m\n"
     ]
    }
   ],
   "source": [
    "   \n",
    "# these are the arguments of the main function (taken out to show below)\n",
    "#    they are all set to None by default - and hence will cause an exception\n",
    "#    unless the user enters these required values (all strings)\n",
    "night_name=None\n",
    "e2dsfile=None\n",
    "mask=None\n",
    "rv=None\n",
    "width=None\n",
    "step=None\n",
    "\n",
    "# force the runtime arguments (notebook only)\n",
    "import sys\n",
    "sys.argv = ['cal_CCF_E2DS_spirou.py', '20170710', 'fp_fp02a203_e2ds_AB.fits',  'UrNe.mas', '0', '10', '0.1']\n",
    "\n",
    "# ----------------------------------------------------------------------\n",
    "# Set up\n",
    "# ----------------------------------------------------------------------\n",
    "# get parameters from config files/run time args/load paths + calibdb\n",
    "p = spirouStartup.Begin(recipe=__NAME__)\n",
    "# deal with arguments being None (i.e. get from sys.argv)\n",
    "pos = [0, 1, 2, 3, 4]\n",
    "fmt = [str, str, float, float, float]\n",
    "name = ['e2dsfile', 'ccf_mask', 'target_rv', 'ccf_width', 'ccf_step']\n",
    "lname = ['input_file', 'CCF_mask', 'RV', 'CCF_width', 'CCF_step']\n",
    "req = [True, True, True, False, False]\n",
    "call = [e2dsfile, mask, rv, width, step]\n",
    "call_priority = [True, True, True, True, True]\n",
    "# now get custom arguments\n",
    "customargs = spirouStartup.GetCustomFromRuntime(pos, fmt, name, req, call,\n",
    "                                                    call_priority, lname)\n",
    "# get parameters from configuration files and run time arguments\n",
    "p = spirouStartup.LoadArguments(p, night_name, customargs=customargs,\n",
    "                                mainfitsfile='e2dsfile',\n",
    "                                mainfitsdir='reduced')\n",
    "# as we have custom arguments need to load the calibration database\n",
    "p = spirouStartup.LoadCalibDB(p)\n"
   ]
  },
  {
   "cell_type": "code",
   "execution_count": 40,
   "metadata": {},
   "outputs": [
    {
     "data": {
      "text/plain": [
       "{'ccf_mask': 'UrNe.mas',\n 'ccf_step': 0.1,\n 'ccf_width': 10.0,\n 'e2dsfile': 'fp_fp02a203_e2ds_AB.fits',\n 'target_rv': 0.0}"
      ]
     },
     "execution_count": 40,
     "metadata": {},
     "output_type": "execute_result"
    }
   ],
   "source": [
    "# display customargs\n",
    "customargs"
   ]
  },
  {
   "cell_type": "code",
   "execution_count": 39,
   "metadata": {},
   "outputs": [
    {
     "name": "stdout",
     "output_type": "stream",
     "text": [
      "\n - key = \"E2DSFILE\"\n\tvalue=fp_fp02a203_e2ds_AB.fits\n\ttype=<class 'str'>\n\tsource=From run time arguments (sys.argv)\n\n - key = \"CCF_MASK\"\n\tvalue=UrNe.mas\n\ttype=<class 'str'>\n\tsource=From run time arguments (sys.argv)\n\n - key = \"TARGET_RV\"\n\tvalue=0.0\n\ttype=<class 'float'>\n\tsource=From run time arguments (sys.argv)\n\n - key = \"CCF_WIDTH\"\n\tvalue=10.0\n\ttype=<class 'float'>\n\tsource=From run time arguments (sys.argv)\n\n - key = \"CCF_STEP\"\n\tvalue=0.1\n\ttype=<class 'float'>\n\tsource=From run time arguments (sys.argv)\n"
     ]
    }
   ],
   "source": [
    "# display parameters in p\n",
    "keys = ['E2DSFILE', 'CCF_MASK', 'TARGET_RV', 'CCF_WIDTH', 'CCF_STEP']\n",
    "\n",
    "for key in keys:\n",
    "    args = [key, p[key], type(p[key]), p.sources[key]]\n",
    "    print('\\n - key = \"{0}\"\\n\\tvalue={1}\\n\\ttype={2}\\n\\tsource={3}'.format(*args))"
   ]
  }
 ],
 "metadata": {
  "kernelspec": {
   "display_name": "Python 2",
   "language": "python",
   "name": "python2"
  },
  "language_info": {
   "codemirror_mode": {
    "name": "ipython",
    "version": 2
   },
   "file_extension": ".py",
   "mimetype": "text/x-python",
   "name": "python",
   "nbconvert_exporter": "python",
   "pygments_lexer": "ipython2",
   "version": "2.7.6"
  }
 },
 "nbformat": 4,
 "nbformat_minor": 0
}
