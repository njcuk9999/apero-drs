{
 "cells": [
  {
   "cell_type": "markdown",
   "metadata": {
    "collapsed": true
   },
   "source": [
    "# Opening and saving files in an optimised way\n",
    "\n",
    "One of the main speed ups is a simple change in the efficiency of how we open and close files (especially fits files).\n",
    "\n",
    "Previously fits files were openned and closed at multiple points through out a single recipe, even when this was to/from the same fits file (i.e. when one wants to read/write the data or read/write fits header keys to a file.\n",
    "\n",
    "Below shows how this has been stream-lined to increase running speeds.\n",
    "\n",
    "\n",
    "Before we start we will set up a \"mock\" DRS recipe:"
   ]
  },
  {
   "cell_type": "code",
   "execution_count": 94,
   "metadata": {
    "collapsed": false
   },
   "outputs": [
    {
     "name": "stdout",
     "output_type": "stream",
     "text": [
      "\u001b[92;1m15:19:27.0 -   || *****************************************\u001b[0;0m\n\u001b[92;1m15:19:27.0 -   || * SPIROU @(#) Geneva Observatory (0.1.032)\u001b[0;0m\n\u001b[92;1m15:19:27.0 -   || *****************************************\u001b[0;0m\n\u001b[92;1m15:19:27.0 -   ||(dir_data_raw)      DRS_DATA_RAW=/scratch/Projects/spirou_py3/data/raw\u001b[0;0m\n\u001b[92;1m15:19:27.0 -   ||(dir_data_reduc)    DRS_DATA_REDUC=/scratch/Projects/spirou_py3/data/reduced\u001b[0;0m\n\u001b[92;1m15:19:27.0 -   ||(dir_calib_db)      DRS_CALIB_DB=/scratch/Projects/spirou_py3/data/calibDB\u001b[0;0m\n\u001b[92;1m15:19:27.0 -   ||(dir_data_msg)      DRS_DATA_MSG=/scratch/Projects/spirou_py3/data/msg\u001b[0;0m\n\u001b[92;1m15:19:27.0 -   ||(print_level)       PRINT_LEVEL=all         %(error/warning/info/all)\u001b[0;0m\n\u001b[92;1m15:19:27.0 -   ||(log_level)         LOG_LEVEL=all         %(error/warning/info/all)\u001b[0;0m\n\u001b[92;1m15:19:27.0 -   ||(plot_graph)        DRS_PLOT=1            %(def/undef/trigger)\u001b[0;0m\n\u001b[92;1m15:19:27.0 -   ||(used_date)         DRS_USED_DATE=undefined\u001b[0;0m\n\u001b[92;1m15:19:27.0 -   ||(working_dir)       DRS_DATA_WORKING=/scratch/Projects/spirou_py3/data/tmp\u001b[0;0m\n\u001b[92;1m15:19:27.0 -   ||                    DRS_INTERACTIVE is not set, running on-line mode\u001b[0;0m\n\u001b[92;1m15:19:27.0 -   |example6|Now running : example6 with: \u001b[0;0m\n\u001b[92;1m15:19:27.0 -   |example6|       -- inputfile=flat_flat02f10.fits \u001b[0;0m\n\u001b[92;1m15:19:27.0 -   |example6|       -- outputfile=flat_out.fits \u001b[0;0m\n\u001b[92;1m15:19:27.0 -   |example6|ICDP_NAME loaded from: /scratch/Projects/spirou_py3/spirou_py3/INTROOT/config/constants_SPIROU.py\u001b[0;0m\n\u001b[92;1m15:19:27.0 -   |example6|Calibration file: 20170710_flat_flat02f10_badpixel.fits already exists - not copied\u001b[0;0m\n\u001b[92;1m15:19:27.0 -   |example6|Calibration file: 20170710_flat_dark02f10_blaze_AB.fits already exists - not copied\u001b[0;0m\n\u001b[92;1m15:19:27.0 -   |example6|Calibration file: 20170710_dark_flat02f10_blaze_C.fits already exists - not copied\u001b[0;0m\n\u001b[92;1m15:19:27.0 -   |example6|Calibration file: 20170710_dark_dark02d406.fits already exists - not copied\u001b[0;0m\n\u001b[92;1m15:19:27.0 -   |example6|Calibration file: 20170710_flat_dark02f10_flat_AB.fits already exists - not copied\u001b[0;0m\n\u001b[92;1m15:19:27.0 -   |example6|Calibration file: 20170710_dark_flat02f10_flat_C.fits already exists - not copied\u001b[0;0m\n\u001b[92;1m15:19:27.0 -   |example6|Calibration file: 20170710_flat_dark02f10_loco_AB.fits already exists - not copied\u001b[0;0m\n\u001b[92;1m15:19:27.0 -   |example6|Calibration file: 20170710_dark_flat02f10_loco_C.fits already exists - not copied\u001b[0;0m\n\u001b[92;1m15:19:27.0 -   |example6|Calibration file: 20170710_flat_dark02f10_order_profile_AB.fits already exists - not copied\u001b[0;0m\n\u001b[92;1m15:19:27.0 -   |example6|Calibration file: 20170710_dark_flat02f10_order_profile_C.fits already exists - not copied\u001b[0;0m\n\u001b[92;1m15:19:27.0 -   |example6|Calibration file: 20170710_fp_fp02a203_tilt.fits already exists - not copied\u001b[0;0m\n\u001b[92;1m15:19:27.0 -   |example6|Calibration file: spirou_wave_ini3.fits already exists - not copied\u001b[0;0m\n\u001b[92;1m15:19:27.0 -   |example6|Calibration file: 2017-10-11_21-32-17_hcone_hcone02c406_wave_AB.fits already exists - not copied\u001b[0;0m\n\u001b[92;1m15:19:27.0 -   |example6|Calibration file: spirou_wave_ini3.fits already exists - not copied\u001b[0;0m\n\u001b[92;1m15:19:27.0 -   |example6|Calibration file: 2017-10-11_21-32-17_hcone_hcone02c406_wave_C.fits already exists - not copied\u001b[0;0m\n"
     ]
    }
   ],
   "source": [
    "# imports \n",
    "from __future__ import division\n",
    "import numpy as np\n",
    "import os\n",
    "from collections import OrderedDict\n",
    "\n",
    "from SpirouDRS import spirouConfig\n",
    "from SpirouDRS import spirouCore\n",
    "from SpirouDRS import spirouImage\n",
    "from SpirouDRS import spirouLOCOR\n",
    "from SpirouDRS import spirouStartup\n",
    "\n",
    "# =============================================================================\n",
    "# Define variables\n",
    "# =============================================================================\n",
    "# Name of program\n",
    "__NAME__ = 'cal_BADPIX_spirou.py'\n",
    "# Get version and author\n",
    "__version__ = spirouConfig.Constants.VERSION()\n",
    "__author__ = spirouConfig.Constants.AUTHORS()\n",
    "__date__ = spirouConfig.Constants.LATEST_EDIT()\n",
    "__release__ = spirouConfig.Constants.RELEASE()\n",
    "# Get Logging function\n",
    "WLOG = spirouCore.wlog\n",
    "# Get plotting functions\n",
    "sPlt = spirouCore.sPlt\n",
    "\n",
    "# noteboook only\n",
    "import sys\n",
    "sys.argv = ['example6.py']\n",
    "\n",
    "# setup some fake file names\n",
    "night_name = '20170710'\n",
    "input_file = 'flat_flat02f10.fits'\n",
    "output_file = 'flat_out.fits'\n",
    "\n",
    "# ----------------------------------------------------------------------\n",
    "# Set up\n",
    "# ----------------------------------------------------------------------\n",
    "# get parameters from config files/run time args/load paths + calibdb\n",
    "p = spirouStartup.Begin(recipe=__NAME__)\n",
    "# deal with arguments being None (i.e. get from sys.argv)\n",
    "pos = [0, 1]\n",
    "fmt = [str, str]\n",
    "names = ['inputfile', 'outputfile']\n",
    "call = [input_file, output_file]\n",
    "# now get custom arguments\n",
    "customargs = spirouStartup.GetCustomFromRuntime(pos, fmt, names, calls=call)\n",
    "# get parameters from configuration files and run time arguments\n",
    "p = spirouStartup.LoadArguments(p, night_name, customargs=customargs,\n",
    "                                mainfitsfile='inputfile')\n",
    "# as we have custom arguments need to load the calibration database\n",
    "p = spirouStartup.LoadCalibDB(p)\n"
   ]
  },
  {
   "cell_type": "markdown",
   "metadata": {},
   "source": [
    "Lets test to see what this gives us in the parameter dictionary \"p\":"
   ]
  },
  {
   "cell_type": "code",
   "execution_count": 66,
   "metadata": {
    "collapsed": false
   },
   "outputs": [
    {
     "name": "stdout",
     "output_type": "stream",
     "text": [
      "\u001b[92;1m15:04:12.0 -   |example6|p.startswith(\"r\") = ['REDUCED_DIR', 'RAW_DIR']\u001b[0;0m\n\u001b[92;1m15:04:12.0 -   |example6|p[\"inputfile\"] = flat_flat02f10.fits\u001b[0;0m\n\u001b[92;1m15:04:12.0 -   |example6|p[\"outputfile\"] = flat_out.fits\u001b[0;0m\n"
     ]
    }
   ],
   "source": [
    "# parameters in \"p\" starting with the letter \"r\"\n",
    "WLOG(p, '', 'p.startswith(\"r\") = {0}'.format(p.startswith('r')))\n",
    "# the input file\n",
    "WLOG(p, '', 'p[\"inputfile\"] = {INPUTFILE}'.format(**p))\n",
    "# the output file\n",
    "WLOG(p, '', 'p[\"outputfile\"] = {OUTPUTFILE}'.format(**p))"
   ]
  },
  {
   "cell_type": "markdown",
   "metadata": {},
   "source": [
    "Note here that these two variables were setup as custom inputs and do not have any information about the absolute path associated with the file. Also we used the startswidth command in p to look at which variables in p \"start with\" the letter \"r\"."
   ]
  },
  {
   "cell_type": "markdown",
   "metadata": {
    "collapsed": true
   },
   "source": [
    "## Reading fits files\n",
    "\n",
    "In general this is done as before. However when opening a fits file for the first time as well as reading the data the header is also read (and stored for later use).\n",
    "\n",
    "This means any time a HEADER key is needed there should be thought to whether the header already exists in the code (with the only exception being when we need a HEADER key from a previously unopened file).\n",
    "\n",
    "The main read functions are shown below:"
   ]
  },
  {
   "cell_type": "markdown",
   "metadata": {},
   "source": [
    "### ReadImage\n",
    "\n",
    "Read image is a simple function which reads the input image and header. \n",
    "\n",
    "It returns the data, the header and comment dictionaries (header dictionary contains the header keys and their values, the comment dictionary contains the header keys and their comment values) and the dimensions of the image.\n",
    "\n",
    "\"kind\" keyword arguement sets the log name (i.e. \"Reading {KIND} Image {filename}\")\n",
    "\n",
    "The logging can be turned off in this function by using the log=False keyword argument."
   ]
  },
  {
   "cell_type": "code",
   "execution_count": 55,
   "metadata": {},
   "outputs": [
    {
     "name": "stdout",
     "output_type": "stream",
     "text": [
      "\u001b[92;1m15:02:41.0 -   |example6|Flat file name is: /scratch/Projects/spirou_py3/data/raw/20170710/flat_flat02f10.fits\u001b[0;0m\n\u001b[92;1m15:02:41.0 -   |example6|Reading FLAT Image /scratch/Projects/spirou_py3/data/raw/20170710/flat_flat02f10.fits\u001b[0;0m\n\u001b[92;1m15:02:41.0 -   |example6|FLAT Image 2048 x 2048 loaded\u001b[0;0m\n"
     ]
    }
   ],
   "source": [
    "\n",
    "# construct file name\n",
    "flatfilename = os.path.join(p['RAW_DIR'], p['inputfile'])\n",
    "WLOG(p, '', 'Flat file name is: {0}'.format(flatfilename))\n",
    "\n",
    "# Read Image (basic version)\n",
    "flat_data, fhdr, fcmt, nx1, ny1 = spirouImage.ReadImage(p, flatfilename, kind='FLAT')"
   ]
  },
  {
   "cell_type": "code",
   "execution_count": 56,
   "metadata": {},
   "outputs": [
    {
     "name": "stdout",
     "output_type": "stream",
     "text": [
      "\u001b[92;1m15:02:43.0 -   |example6|flat_data shape is (2048, 2048)\u001b[0;0m\n\nThe header has the following keys:\n['SIMPLE', 'BITPIX', 'NAXIS', 'EXTEND', 'NEXTEND', 'FASTMODE', 'REFOUT', 'REFPIXEL', 'ACQTIME', 'ACQTIME1', 'ASIC_NUM', 'SCA_ID', 'MUXTYPE', 'NOUTPUTS', 'WARMTST', 'GLBRESET', 'FRMODE', 'CAMLINK', 'EXPMODE', 'NRESETS', 'FRMTIME', 'EXPTIME', 'ACQTYPE', 'DATAMODE', 'BZERO', 'UNITS', 'HXRGVER', 'BSCALE', 'MCLK', 'SEQNUM_R', 'FILENAME', 'PATHNAME', 'DATE', 'HSTTIME', 'IMAGESWV', 'OBSTYPE', 'EXPTYPE', 'INTT0001', 'INTT0002', 'INTT0003', 'INTT0004', 'INTT0005', 'INTT0006', 'INTT0007', 'INTT0008', 'INTT0009', 'INTT0010', 'POSE1', 'POSE2', 'POSE3', 'POSE4', 'POSE5', 'POSE6', 'POSE7', 'POSE8', 'POSE9', 'POSE10', 'SATUR1', 'SATUR2', 'INSTRUME', 'OBSERVAT', 'DARKTIME', 'GAIN', 'RDNOISE', 'RON_EST', 'NSUBEXPS', 'TMID', 'CMEAN', 'OBJECT', 'OBJTYPE', 'OBJ2MASS', 'OBJGAIA', 'EQUINOX', 'EPOCH', 'RA', 'DEC', 'HA', 'ZD', 'PMRA', 'PMDEC', 'RADV', 'J2MASS', 'H2MASS', 'K2MASS', 'DATSTART', 'DATEND', 'MJDSTART', 'MJDMID', 'MJDEND', 'AMSTART', 'AMEND', 'FWSTART', 'FWEND', 'TPLNAME', 'TPLNEXP', 'TPLEXPNO', 'INSCALIB', 'INSLAMP', 'RHOMB1', 'RHOMB2', 'COMMENT', '@@@hname', '@@@fname']\n"
     ]
    }
   ],
   "source": [
    "WLOG(p, '', 'flat_data shape is {0}'.format(flat_data.shape))\n",
    "\n",
    "print('\\nThe header has the following keys:')\n",
    "print(list(fhdr.keys()))"
   ]
  },
  {
   "cell_type": "markdown",
   "metadata": {},
   "source": [
    "### ReadImageAndCombine\n",
    "\n",
    "This is a special version of the read function which combines all the fits files in 'arg_file_names' (if there are more than one) by using the \"framemath\" keyword argument.\n",
    "\n",
    "i.e. in cal_loc_RAW_spirou.py the user can define multiple files at run time as follows:\n",
    "\n",
    " \\>\\> cal_loc_RAW_spirou.py 20170710  flat_dark02f10.fits flat_dark03f10.fits flat_dark04f10.fits flat_dark05f10.fits flat_dark06f10.fits\n",
    "\n",
    "\n",
    "These files are then combined (via adding them together):"
   ]
  },
  {
   "cell_type": "code",
   "execution_count": 57,
   "metadata": {},
   "outputs": [],
   "source": [
    "# set up user inputted variables via sys.argv\n",
    "import sys\n",
    "sys.argv = ('cal_loc_RAW_spirou.py 20170710 flat_dark02f10.fits flat_dark03f10.fits flat_dark04f10.fits '\n",
    "            'flat_dark05f10.fits flat_dark06f10.fits'.split(' '))\n",
    "# set the main function arguments to None (set from runtime via sys.argv)\n",
    "night_name = None\n",
    "files = None"
   ]
  },
  {
   "cell_type": "code",
   "execution_count": 58,
   "metadata": {},
   "outputs": [
    {
     "name": "stdout",
     "output_type": "stream",
     "text": [
      "\u001b[92;1m15:02:46.0 -   || *****************************************\u001b[0;0m\n\u001b[92;1m15:02:46.0 -   || * SPIROU @(#) Geneva Observatory (0.1.032)\u001b[0;0m\n\u001b[92;1m15:02:46.0 -   || *****************************************\u001b[0;0m\n\u001b[92;1m15:02:46.0 -   ||(dir_data_raw)      DRS_DATA_RAW=/scratch/Projects/spirou_py3/data/raw\u001b[0;0m\n\u001b[92;1m15:02:46.0 -   ||(dir_data_reduc)    DRS_DATA_REDUC=/scratch/Projects/spirou_py3/data/reduced\u001b[0;0m\n\u001b[92;1m15:02:46.0 -   ||(dir_calib_db)      DRS_CALIB_DB=/scratch/Projects/spirou_py3/data/calibDB\u001b[0;0m\n\u001b[92;1m15:02:46.0 -   ||(dir_data_msg)      DRS_DATA_MSG=/scratch/Projects/spirou_py3/data/msg\u001b[0;0m\n\u001b[92;1m15:02:46.0 -   ||(print_level)       PRINT_LEVEL=all         %(error/warning/info/all)\u001b[0;0m\n\u001b[92;1m15:02:46.0 -   ||(log_level)         LOG_LEVEL=all         %(error/warning/info/all)\u001b[0;0m\n\u001b[92;1m15:02:46.0 -   ||(plot_graph)        DRS_PLOT=1            %(def/undef/trigger)\u001b[0;0m\n\u001b[92;1m15:02:46.0 -   ||(used_date)         DRS_USED_DATE=undefined\u001b[0;0m\n\u001b[92;1m15:02:46.0 -   ||(working_dir)       DRS_DATA_WORKING=/scratch/Projects/spirou_py3/data/tmp\u001b[0;0m\n\u001b[92;1m15:02:46.0 -   ||                    DRS_INTERACTIVE is not set, running on-line mode\u001b[0;0m\n\u001b[92;1m15:02:46.0 -   |cal_loc_RAW_spirou:02f10+[...]|Now running : cal_loc_RAW_spirou on file(s): flat_dark02f10.fits, flat_dark03f10.fits, flat_dark04f10.fits, flat_dark05f10.fits, flat_dark06f10.fits\u001b[0;0m\n\u001b[92;1m15:02:46.0 -   |cal_loc_RAW_spirou:02f10+[...]|On directory /scratch/Projects/spirou_py3/data/raw/20170710\u001b[0;0m\n\u001b[92;1m15:02:46.0 -   |cal_loc_RAW_spirou:02f10+[...]|ICDP_NAME loaded from: /scratch/Projects/spirou_py3/spirou_py3/INTROOT/config/constants_SPIROU.py\u001b[0;0m\n\u001b[92;1m15:02:46.0 - * |cal_loc_RAW_spirou:02f10+[...]|Correct type of image for localisation (dark_flat or flat_dark)\u001b[0;0m\n\u001b[92;1m15:02:46.0 -   |cal_loc_RAW_spirou:02f10+[...]|Calibration file: 20170710_flat_flat02f10_badpixel.fits already exists - not copied\u001b[0;0m\n\u001b[92;1m15:02:46.0 -   |cal_loc_RAW_spirou:02f10+[...]|Calibration file: 20170710_flat_dark02f10_blaze_AB.fits already exists - not copied\u001b[0;0m\n\u001b[92;1m15:02:46.0 -   |cal_loc_RAW_spirou:02f10+[...]|Calibration file: 20170710_dark_flat02f10_blaze_C.fits already exists - not copied\u001b[0;0m\n\u001b[92;1m15:02:46.0 -   |cal_loc_RAW_spirou:02f10+[...]|Calibration file: 20170710_dark_dark02d406.fits already exists - not copied\u001b[0;0m\n\u001b[92;1m15:02:46.0 -   |cal_loc_RAW_spirou:02f10+[...]|Calibration file: 20170710_flat_dark02f10_flat_AB.fits already exists - not copied\u001b[0;0m\n\u001b[92;1m15:02:46.0 -   |cal_loc_RAW_spirou:02f10+[...]|Calibration file: 20170710_dark_flat02f10_flat_C.fits already exists - not copied\u001b[0;0m\n\u001b[92;1m15:02:46.0 -   |cal_loc_RAW_spirou:02f10+[...]|Calibration file: 20170710_flat_dark02f10_loco_AB.fits already exists - not copied\u001b[0;0m\n\u001b[92;1m15:02:46.0 -   |cal_loc_RAW_spirou:02f10+[...]|Calibration file: 20170710_dark_flat02f10_loco_C.fits already exists - not copied\u001b[0;0m\n\u001b[92;1m15:02:46.0 -   |cal_loc_RAW_spirou:02f10+[...]|Calibration file: 20170710_flat_dark02f10_order_profile_AB.fits already exists - not copied\u001b[0;0m\n\u001b[92;1m15:02:46.0 -   |cal_loc_RAW_spirou:02f10+[...]|Calibration file: 20170710_dark_flat02f10_order_profile_C.fits already exists - not copied\u001b[0;0m\n\u001b[92;1m15:02:46.0 -   |cal_loc_RAW_spirou:02f10+[...]|Calibration file: 20170710_fp_fp02a203_tilt.fits already exists - not copied\u001b[0;0m\n\u001b[92;1m15:02:46.0 -   |cal_loc_RAW_spirou:02f10+[...]|Calibration file: spirou_wave_ini3.fits already exists - not copied\u001b[0;0m\n\u001b[92;1m15:02:46.0 -   |cal_loc_RAW_spirou:02f10+[...]|Calibration file: 2017-10-11_21-32-17_hcone_hcone02c406_wave_AB.fits already exists - not copied\u001b[0;0m\n\u001b[92;1m15:02:46.0 -   |cal_loc_RAW_spirou:02f10+[...]|Calibration file: spirou_wave_ini3.fits already exists - not copied\u001b[0;0m\n\u001b[92;1m15:02:46.0 -   |cal_loc_RAW_spirou:02f10+[...]|Calibration file: 2017-10-11_21-32-17_hcone_hcone02c406_wave_C.fits already exists - not copied\u001b[0;0m\n"
     ]
    }
   ],
   "source": [
    "# ----------------------------------------------------------------------\n",
    "# Set up\n",
    "# ----------------------------------------------------------------------\n",
    "# get parameters from config files/run time args/load paths + calibdb\n",
    "p = spirouStartup.Begin(recipe=__NAME__)\n",
    "p = spirouStartup.LoadArguments(p, night_name, files)\n",
    "p = spirouStartup.InitialFileSetup(p, calibdb=True)"
   ]
  },
  {
   "cell_type": "markdown",
   "metadata": {},
   "source": [
    "The files and night_name were added in the standard way (i.e. without customisation) therefore the filenames are loaded into \"fitsfilename\" and \"arg_file_names\" as is default with the DRS:"
   ]
  },
  {
   "cell_type": "code",
   "execution_count": 59,
   "metadata": {
    "collapsed": false
   },
   "outputs": [
    {
     "name": "stdout",
     "output_type": "stream",
     "text": [
      "\u001b[92;1m15:02:48.0 -   |cal_loc_RAW_spirou:02f10+[...]|fitsfilename = /scratch/Projects/spirou_py3/data/raw/20170710/flat_dark02f10.fits\u001b[0;0m\n\u001b[92;1m15:02:48.0 -   |cal_loc_RAW_spirou:02f10+[...]|arg_file_names = ['flat_dark02f10.fits', 'flat_dark03f10.fits', 'flat_dark04f10.fits', 'flat_dark05f10.fits', 'flat_dark06f10.fits']\u001b[0;0m\n"
     ]
    }
   ],
   "source": [
    "# check the file names\n",
    "WLOG(p, '', 'fitsfilename = {FITSFILENAME}'.format(**p))\n",
    "WLOG(p, '', 'arg_file_names = {ARG_FILE_NAMES}'.format(**p))"
   ]
  },
  {
   "cell_type": "markdown",
   "metadata": {},
   "source": [
    "Now one can use ReadImageAndCombine to combine all the files in \"arg_file_names\":"
   ]
  },
  {
   "cell_type": "code",
   "execution_count": 60,
   "metadata": {},
   "outputs": [
    {
     "name": "stdout",
     "output_type": "stream",
     "text": [
      "\u001b[92;1m15:02:50.0 -   |cal_loc_RAW_spirou:02f10+[...]|Reading Image /scratch/Projects/spirou_py3/data/raw/20170710/flat_dark02f10.fits\u001b[0;0m\n\u001b[92;1m15:02:50.0 -   |cal_loc_RAW_spirou:02f10+[...]|Image 2048 x 2048 loaded\u001b[0;0m\n\u001b[92;1m15:02:50.0 - * |cal_loc_RAW_spirou:02f10+[...]|Adding 4 frame(s)\u001b[0;0m\n\u001b[92;1m15:02:50.0 -   |cal_loc_RAW_spirou:02f10+[...]|Reading File: /scratch/Projects/spirou_py3/data/raw/20170710/flat_dark03f10.fits\u001b[0;0m\n\u001b[92;1m15:02:50.0 -   |cal_loc_RAW_spirou:02f10+[...]|Reading File: /scratch/Projects/spirou_py3/data/raw/20170710/flat_dark04f10.fits\u001b[0;0m\n\u001b[92;1m15:02:50.0 -   |cal_loc_RAW_spirou:02f10+[...]|Reading File: /scratch/Projects/spirou_py3/data/raw/20170710/flat_dark05f10.fits\u001b[0;0m\n\u001b[92;1m15:02:50.0 -   |cal_loc_RAW_spirou:02f10+[...]|Reading File: /scratch/Projects/spirou_py3/data/raw/20170710/flat_dark06f10.fits\u001b[0;0m\n"
     ]
    }
   ],
   "source": [
    "# ----------------------------------------------------------------------\n",
    "# Read image file\n",
    "# ----------------------------------------------------------------------\n",
    "# read the image data\n",
    "data, hdr, cdr, nx, ny = spirouImage.ReadImageAndCombine(p, framemath='add')\n"
   ]
  },
  {
   "cell_type": "markdown",
   "metadata": {},
   "source": [
    "Note that currently to be consistent with the old DRS this process updates the value of \"fitsfilename\" to the last file called in the combining process (this is probably not wanted but is here for consistency):"
   ]
  },
  {
   "cell_type": "code",
   "execution_count": 61,
   "metadata": {},
   "outputs": [
    {
     "name": "stdout",
     "output_type": "stream",
     "text": [
      "\u001b[92;1m15:02:51.0 -   |cal_loc_RAW_spirou:02f10+[...]|fitsfilename = flat_dark06f10.fits   <------ Here\u001b[0;0m\n\u001b[92;1m15:02:51.0 -   |cal_loc_RAW_spirou:02f10+[...]|arg_file_names = ['flat_dark02f10.fits', 'flat_dark03f10.fits', 'flat_dark04f10.fits', 'flat_dark05f10.fits', 'flat_dark06f10.fits']\u001b[0;0m\n"
     ]
    }
   ],
   "source": [
    "WLOG(p, '', 'fitsfilename = {FITSFILENAME}   <------ Here'.format(**p))\n",
    "WLOG(p, '', 'arg_file_names = {ARG_FILE_NAMES}'.format(**p))"
   ]
  },
  {
   "cell_type": "markdown",
   "metadata": {},
   "source": [
    "## Writing fits file and header keys\n",
    "\n",
    "This was overhauled as it represented one of the slowest steps of any recipe.\n",
    "\n",
    "Some simple rules should be followed:\n",
    "\n",
    "1) generate the data to be saved\n",
    "\n",
    "2) generate a dictionary to save the key's and the value/comments to:\n",
    "\n",
    ">> Note hdict entries should be in the following format:\n",
    ">>>> hdict['KEY'] = ['value', 'comment']\n",
    "\n",
    "3) save the data **and** hdict one time before the recipe finishes (if at all possible)\n",
    "\n",
    "This process is shown below for a fake output file:\n"
   ]
  },
  {
   "cell_type": "code",
   "execution_count": 103,
   "metadata": {},
   "outputs": [
    {
     "name": "stdout",
     "output_type": "stream",
     "text": [
      "\u001b[92;1m15:28:23.0 -   |example6|creating fake data\u001b[0;0m\n\u001b[92;1m15:28:23.0 -   |example6|fake data shape = (100 x 100)\u001b[0;0m\n\u001b[92;1m15:28:23.0 -   |example6|output file = flat_out.fits\u001b[0;0m\n"
     ]
    }
   ],
   "source": [
    "# reset sys.argv\n",
    "import sys\n",
    "sys.argv = ['example6']\n",
    "\n",
    "# fake data\n",
    "WLOG(p, '', 'creating fake data')\n",
    "fakedata = np.random.random(size=100**2).reshape(100, 100)\n",
    "WLOG(p, '', 'fake data shape = ({0} x {1})'.format(*fakedata.shape))\n",
    "\n",
    "# check file name\n",
    "WLOG(p, '', 'output file = {OUTPUTFILE}'.format(**p))"
   ]
  },
  {
   "cell_type": "markdown",
   "metadata": {},
   "source": [
    "### Adding a header"
   ]
  },
  {
   "cell_type": "markdown",
   "metadata": {},
   "source": [
    "Now we can create hdict (the header dictionary). \n",
    "\n",
    "There are several functions that can be used to help us here.\n",
    "\n",
    "- One can import keys from another HEADER (CopyOriginalKeys)\n",
    "- One can add a single key (AddKey)\n",
    "- One can add a 1DList of keys\n",
    "- One can add a 2DList of keys\n",
    "\n",
    "These are all shown below:"
   ]
  },
  {
   "cell_type": "code",
   "execution_count": 96,
   "metadata": {},
   "outputs": [
    {
     "name": "stdout",
     "output_type": "stream",
     "text": [
      "['NEXTEND', 'FASTMODE', 'REFOUT', 'REFPIXEL', 'ACQTIME', 'ACQTIME1', 'ASIC_NUM', 'SCA_ID', 'MUXTYPE', 'NOUTPUTS', 'WARMTST', 'GLBRESET', 'FRMODE', 'CAMLINK', 'EXPMODE', 'NRESETS', 'FRMTIME', 'EXPTIME', 'ACQTYPE', 'DATAMODE', 'UNITS', 'HXRGVER', 'MCLK', 'SEQNUM_R', 'FILENAME', 'PATHNAME', 'DATE', 'HSTTIME', 'IMAGESWV', 'OBSTYPE', 'EXPTYPE', 'INTT0001', 'INTT0002', 'INTT0003', 'INTT0004', 'INTT0005', 'INTT0006', 'INTT0007', 'INTT0008', 'INTT0009', 'INTT0010', 'POSE1', 'POSE2', 'POSE3', 'POSE4', 'POSE5', 'POSE6', 'POSE7', 'POSE8', 'POSE9', 'POSE10', 'SATUR1', 'SATUR2', 'INSTRUME', 'OBSERVAT', 'DARKTIME', 'GAIN', 'RDNOISE', 'RON_EST', 'NSUBEXPS', 'TMID', 'CMEAN', 'OBJECT', 'OBJTYPE', 'OBJ2MASS', 'OBJGAIA', 'EQUINOX', 'EPOCH', 'RA', 'DEC', 'HA', 'ZD', 'PMRA', 'PMDEC', 'RADV', 'J2MASS', 'H2MASS', 'K2MASS', 'DATSTART', 'DATEND', 'MJDSTART', 'MJDMID', 'MJDEND', 'AMSTART', 'AMEND', 'FWSTART', 'FWEND', 'TPLNAME', 'TPLNEXP', 'TPLEXPNO', 'INSCALIB', 'INSLAMP', 'RHOMB1', 'RHOMB2']\n\n key = (value, comment)\n gain = (1.3, '[(e-/ADU)] gain')\n"
     ]
    }
   ],
   "source": [
    "# create the hdict (can be left for the functions to generate)\n",
    "hdict = OrderedDict()\n",
    "\n",
    "# lets copy the keys from the flat file\n",
    "#  (recall the header files were called fhdr and fcmt)\n",
    "hdict = spirouImage.CopyOriginalKeys(fhdr, fcmt, hdict=hdict)\n",
    "\n",
    "# lets print the keys:\n",
    "print(list(hdict.keys()))\n",
    "\n",
    "# and lets print one entry\n",
    "print('\\n key = (value, comment)')\n",
    "print(' gain = {GAIN}'.format(**hdict))"
   ]
  },
  {
   "cell_type": "code",
   "execution_count": 109,
   "metadata": {},
   "outputs": [
    {
     "name": "stdout",
     "output_type": "stream",
     "text": [
      "Example keyword store:\n\n\t kw_LOCO_NBO = ['LONBO', 0, 'nb orders localised']\n\n"
     ]
    }
   ],
   "source": [
    "# we need to use keyword stores to add keys\n",
    "#   These are lists that should be located in spirouKeywords.py (loaded into \"p\")\n",
    "# i.e.:\n",
    "print('Example keyword store:')\n",
    "print('\\n\\t kw_LOCO_NBO = {KW_LOCO_NBO}\\n'.format(**p))\n",
    "\n",
    "# lets create a fake one to add to\n",
    "kw_inputfile = ['INFILE', 0.0, 'The input file']\n",
    "kw_fake1dlist = ['MY1LST', 0.0, 'The fake 1D list']\n",
    "kw_fake2dlist = ['MY2LST', 0.0, 'The fake 2D list']\n",
    "\n",
    "# lets also create a fake 2D list\n",
    "my1dlist = np.arange(0, 10)\n",
    "my2dlist = np.arange(0, 30).reshape(3, 10)\n",
    "\n",
    "# reset hdict from above\n",
    "hdict = OrderedDict()\n",
    "\n",
    "# Now lets add some keys\n",
    "hdict = spirouImage.AddKey(p, hdict, p['kw_version'])\n",
    "hdict = spirouImage.AddKey(p, hdict, kw_inputfile, value=p['inputfile'])\n",
    "hdict = spirouImage.AddKey1DList(p, hdict, kw_fake1dlist, values=my1dlist)\n",
    "hdict = spirouImage.AddKey2DList(hdict, kw_fake2dlist, values=my2dlist)"
   ]
  },
  {
   "cell_type": "code",
   "execution_count": 106,
   "metadata": {},
   "outputs": [
    {
     "name": "stdout",
     "output_type": "stream",
     "text": [
      "Example header from hdict: \n\tVERSION = SPIROU_0.1.032 /DRS version\n\tINPUTFILE = flat_flat02f10.fits /The input file\n\tMY1LST0 = 0 /The fake 1D list order=0\n\tMY1LST1 = 1 /The fake 1D list order=1\n\tMY1LST2 = 2 /The fake 1D list order=2\n\tMY1LST3 = 3 /The fake 1D list order=3\n\tMY1LST4 = 4 /The fake 1D list order=4\n\tMY1LST5 = 5 /The fake 1D list order=5\n\tMY1LST6 = 6 /The fake 1D list order=6\n\tMY1LST7 = 7 /The fake 1D list order=7\n\tMY1LST8 = 8 /The fake 1D list order=8\n\tMY1LST9 = 9 /The fake 1D list order=9\n\tMY2LST0 = 0 /The fake 2D list order=0 coeff=0\n\tMY2LST1 = 1 /The fake 2D list order=0 coeff=1\n\tMY2LST2 = 2 /The fake 2D list order=0 coeff=2\n\tMY2LST3 = 3 /The fake 2D list order=0 coeff=3\n\tMY2LST4 = 4 /The fake 2D list order=0 coeff=4\n\tMY2LST5 = 5 /The fake 2D list order=0 coeff=5\n\tMY2LST6 = 6 /The fake 2D list order=0 coeff=6\n\tMY2LST7 = 7 /The fake 2D list order=0 coeff=7\n\tMY2LST8 = 8 /The fake 2D list order=0 coeff=8\n\tMY2LST9 = 9 /The fake 2D list order=0 coeff=9\n\tMY2LST10 = 10 /The fake 2D list order=1 coeff=0\n\tMY2LST11 = 11 /The fake 2D list order=1 coeff=1\n\tMY2LST12 = 12 /The fake 2D list order=1 coeff=2\n\tMY2LST13 = 13 /The fake 2D list order=1 coeff=3\n\tMY2LST14 = 14 /The fake 2D list order=1 coeff=4\n\tMY2LST15 = 15 /The fake 2D list order=1 coeff=5\n\tMY2LST16 = 16 /The fake 2D list order=1 coeff=6\n\tMY2LST17 = 17 /The fake 2D list order=1 coeff=7\n\tMY2LST18 = 18 /The fake 2D list order=1 coeff=8\n\tMY2LST19 = 19 /The fake 2D list order=1 coeff=9\n\tMY2LST20 = 20 /The fake 2D list order=2 coeff=0\n\tMY2LST21 = 21 /The fake 2D list order=2 coeff=1\n\tMY2LST22 = 22 /The fake 2D list order=2 coeff=2\n\tMY2LST23 = 23 /The fake 2D list order=2 coeff=3\n\tMY2LST24 = 24 /The fake 2D list order=2 coeff=4\n\tMY2LST25 = 25 /The fake 2D list order=2 coeff=5\n\tMY2LST26 = 26 /The fake 2D list order=2 coeff=6\n\tMY2LST27 = 27 /The fake 2D list order=2 coeff=7\n\tMY2LST28 = 28 /The fake 2D list order=2 coeff=8\n\tMY2LST29 = 29 /The fake 2D list order=2 coeff=9\n"
     ]
    }
   ],
   "source": [
    "# lets print all entries in hdict:\n",
    "print('Example header from hdict: ')\n",
    "# loop around keys\n",
    "for key in hdict:\n",
    "    # get value and comment\n",
    "    value, comment = hdict[key]\n",
    "    # print\n",
    "    print('\\t{0} = {1} /{2}'.format(key, value, comment))"
   ]
  },
  {
   "cell_type": "markdown",
   "metadata": {},
   "source": [
    "Note by default the dimension names are 'order' and 'coeff' this can be changed with the \"dim1name\" and \"dim2name\" keyword arguments:"
   ]
  },
  {
   "cell_type": "code",
   "execution_count": 110,
   "metadata": {},
   "outputs": [
    {
     "name": "stdout",
     "output_type": "stream",
     "text": [
      "Example header from hdict: \n\tVERSION = SPIROU_0.1.032 /DRS version\n\tINFILE = flat_flat02f10.fits /The input file\n\tMY1LST0 = 0 /The fake 1D list dim1=0\n\tMY1LST1 = 1 /The fake 1D list dim1=1\n\tMY1LST2 = 2 /The fake 1D list dim1=2\n\tMY1LST3 = 3 /The fake 1D list dim1=3\n\tMY1LST4 = 4 /The fake 1D list dim1=4\n\tMY1LST5 = 5 /The fake 1D list dim1=5\n\tMY1LST6 = 6 /The fake 1D list dim1=6\n\tMY1LST7 = 7 /The fake 1D list dim1=7\n\tMY1LST8 = 8 /The fake 1D list dim1=8\n\tMY1LST9 = 9 /The fake 1D list dim1=9\n\tMY2LST0 = 0 /The fake 2D list dim1=0 dim2=0\n\tMY2LST1 = 1 /The fake 2D list dim1=0 dim2=1\n\tMY2LST2 = 2 /The fake 2D list dim1=0 dim2=2\n\tMY2LST3 = 3 /The fake 2D list dim1=0 dim2=3\n\tMY2LST4 = 4 /The fake 2D list dim1=0 dim2=4\n\tMY2LST5 = 5 /The fake 2D list dim1=0 dim2=5\n\tMY2LST6 = 6 /The fake 2D list dim1=0 dim2=6\n\tMY2LST7 = 7 /The fake 2D list dim1=0 dim2=7\n\tMY2LST8 = 8 /The fake 2D list dim1=0 dim2=8\n\tMY2LST9 = 9 /The fake 2D list dim1=0 dim2=9\n\tMY2LST10 = 10 /The fake 2D list dim1=1 dim2=0\n\tMY2LST11 = 11 /The fake 2D list dim1=1 dim2=1\n\tMY2LST12 = 12 /The fake 2D list dim1=1 dim2=2\n\tMY2LST13 = 13 /The fake 2D list dim1=1 dim2=3\n\tMY2LST14 = 14 /The fake 2D list dim1=1 dim2=4\n\tMY2LST15 = 15 /The fake 2D list dim1=1 dim2=5\n\tMY2LST16 = 16 /The fake 2D list dim1=1 dim2=6\n\tMY2LST17 = 17 /The fake 2D list dim1=1 dim2=7\n\tMY2LST18 = 18 /The fake 2D list dim1=1 dim2=8\n\tMY2LST19 = 19 /The fake 2D list dim1=1 dim2=9\n\tMY2LST20 = 20 /The fake 2D list dim1=2 dim2=0\n\tMY2LST21 = 21 /The fake 2D list dim1=2 dim2=1\n\tMY2LST22 = 22 /The fake 2D list dim1=2 dim2=2\n\tMY2LST23 = 23 /The fake 2D list dim1=2 dim2=3\n\tMY2LST24 = 24 /The fake 2D list dim1=2 dim2=4\n\tMY2LST25 = 25 /The fake 2D list dim1=2 dim2=5\n\tMY2LST26 = 26 /The fake 2D list dim1=2 dim2=6\n\tMY2LST27 = 27 /The fake 2D list dim1=2 dim2=7\n\tMY2LST28 = 28 /The fake 2D list dim1=2 dim2=8\n\tMY2LST29 = 29 /The fake 2D list dim1=2 dim2=9\n"
     ]
    }
   ],
   "source": [
    "# reset hdict from above\n",
    "hdict = OrderedDict()\n",
    "\n",
    "# Now lets add some keys\n",
    "hdict = spirouImage.AddKey(p, hdict, p['kw_version'])\n",
    "hdict = spirouImage.AddKey(p, hdict, kw_inputfile, value=p['inputfile'])\n",
    "hdict = spirouImage.AddKey1DList(p, hdict, kw_fake1dlist, values=my1dlist, dim1name='dim1')\n",
    "hdict = spirouImage.AddKey2DList(hdict, kw_fake2dlist, values=my2dlist, dim1name='dim1', dim2name='dim2')\n",
    "\n",
    "# lets print all entries in hdict:\n",
    "print('Example header from hdict: ')\n",
    "# loop around keys\n",
    "for key in hdict:\n",
    "    # get value and comment\n",
    "    value, comment = hdict[key]\n",
    "    # print\n",
    "    print('\\t{0} = {1} /{2}'.format(key, value, comment))"
   ]
  },
  {
   "cell_type": "markdown",
   "metadata": {},
   "source": [
    "### Saving the file and header (**ONCE**)\n",
    "\n",
    "After the data has be generated and the hdict dictionary made (as above) one can save both of these in one operation:"
   ]
  },
  {
   "cell_type": "code",
   "execution_count": 112,
   "metadata": {},
   "outputs": [
    {
     "name": "stdout",
     "output_type": "stream",
     "text": [
      "\u001b[92;1m15:29:41.0 -   |example6|Writing file /scratch/Projects/spirou_py3/data/reduced/20170710/flat_out.fits to disk\u001b[0;0m\n"
     ]
    }
   ],
   "source": [
    "# construct absolute filename\n",
    "fakeoutfile = os.path.join(p['REDUCED_DIR'], p['outputfile'])\n",
    "# write to file (filename, data, hdict)\n",
    "WLOG(p, '', 'Writing file {0} to disk'.format(fakeoutfile))\n",
    "spirouImage.WriteImage(fakeoutfile, fakedata, hdict)"
   ]
  }
 ],
 "metadata": {
  "kernelspec": {
   "display_name": "Python 2",
   "language": "python",
   "name": "python2"
  },
  "language_info": {
   "codemirror_mode": {
    "name": "ipython",
    "version": 2
   },
   "file_extension": ".py",
   "mimetype": "text/x-python",
   "name": "python",
   "nbconvert_exporter": "python",
   "pygments_lexer": "ipython2",
   "version": "2.7.6"
  }
 },
 "nbformat": 4,
 "nbformat_minor": 0
}
