{
 "cells": [
  {
   "cell_type": "markdown",
   "metadata": {
    "collapsed": true
   },
   "source": [
    "# Using the calibration database\n",
    "\n",
    "The calibration database is an important part of the DRS. \n",
    "\n",
    "## Loading the calibration database (with unique entries for each key)\n",
    "\n",
    "By default the calibration database should be opened in the setup procedure of the recipe.\n",
    "\n",
    "For this to happen it requires an acquisition time (to make a choice between the calibration database files).\n",
    "\n",
    "Therefore during setup a file must be marked as the main fits file.\n",
    "\n",
    "This is done by default is using the standard recipe options (i.e. RECIPE NIGHT_NAME FILES) - the first file is used as the main fits file (and therefore defines \"fitsfilename\")\n",
    "\n",
    "For custom arguments one has to set this file name manually (using the \"mainfitsfile\" arguement in \"LoadArguments\" where \"mainfitsfile\" must be one of the names (see example 4).\n",
    "Also recall that if one uses custom arguments one must manually load he calibration database (```spirouStartup.LoadCalibDB(p)```).\n",
    "\n",
    "Below we use cal_loc_RAW_spirou.py as an example"
   ]
  },
  {
   "cell_type": "code",
   "execution_count": 1,
   "metadata": {},
   "outputs": [],
   "source": [
    "# notebook only setup run time arguments via sys.argv\n",
    "import sys\n",
    "sys.argv = ('cal_loc_RAW_spirou.py 20170710 flat_dark02f10.fits flat_dark03f10.fits flat_dark04f10.fits '\n",
    "            'flat_dark05f10.fits flat_dark06f10.fits'.split(' '))"
   ]
  },
  {
   "cell_type": "code",
   "execution_count": 2,
   "metadata": {},
   "outputs": [
    {
     "name": "stdout",
     "output_type": "stream",
     "text": [
      "\u001b[92;1m15:38:55.0 -   || *****************************************\u001b[0;0m\n\u001b[92;1m15:38:55.0 -   || * SPIROU @(#) Geneva Observatory (0.1.032)\u001b[0;0m\n\u001b[92;1m15:38:55.0 -   || *****************************************\u001b[0;0m\n\u001b[92;1m15:38:55.0 -   ||(dir_data_raw)      DRS_DATA_RAW=/scratch/Projects/spirou_py3/data/raw\u001b[0;0m\n\u001b[92;1m15:38:55.0 -   ||(dir_data_reduc)    DRS_DATA_REDUC=/scratch/Projects/spirou_py3/data/reduced\u001b[0;0m\n\u001b[92;1m15:38:55.0 -   ||(dir_calib_db)      DRS_CALIB_DB=/scratch/Projects/spirou_py3/data/calibDB\u001b[0;0m\n\u001b[92;1m15:38:55.0 -   ||(dir_data_msg)      DRS_DATA_MSG=/scratch/Projects/spirou_py3/data/msg\u001b[0;0m\n\u001b[92;1m15:38:55.0 -   ||(print_level)       PRINT_LEVEL=all         %(error/warning/info/all)\u001b[0;0m\n\u001b[92;1m15:38:55.0 -   ||(log_level)         LOG_LEVEL=all         %(error/warning/info/all)\u001b[0;0m\n\u001b[92;1m15:38:55.0 -   ||(plot_graph)        DRS_PLOT=1            %(def/undef/trigger)\u001b[0;0m\n\u001b[92;1m15:38:55.0 -   ||(used_date)         DRS_USED_DATE=undefined\u001b[0;0m\n\u001b[92;1m15:38:55.0 -   ||(working_dir)       DRS_DATA_WORKING=/scratch/Projects/spirou_py3/data/tmp\u001b[0;0m\n\u001b[92;1m15:38:55.0 -   ||                    DRS_INTERACTIVE is not set, running on-line mode\u001b[0;0m\n\u001b[92;1m15:38:55.0 -   |cal_loc_RAW_spirou:02f10+[...]|Now running : cal_loc_RAW_spirou on file(s): flat_dark02f10.fits, flat_dark03f10.fits, flat_dark04f10.fits, flat_dark05f10.fits, flat_dark06f10.fits\u001b[0;0m\n\u001b[92;1m15:38:55.0 -   |cal_loc_RAW_spirou:02f10+[...]|On directory /scratch/Projects/spirou_py3/data/raw/20170710\u001b[0;0m\n\u001b[92;1m15:38:55.0 -   |cal_loc_RAW_spirou:02f10+[...]|ICDP_NAME loaded from: /scratch/Projects/spirou_py3/spirou_py3/INTROOT/config/constants_SPIROU.py\u001b[0;0m\n\u001b[92;1m15:38:55.0 - * |cal_loc_RAW_spirou:02f10+[...]|Correct type of image for localisation (dark_flat or flat_dark)\u001b[0;0m\n\u001b[92;1m15:38:55.0 -   |cal_loc_RAW_spirou:02f10+[...]|Calibration file: 20170710_flat_flat02f10_badpixel.fits already exists - not copied\u001b[0;0m\n\u001b[92;1m15:38:55.0 -   |cal_loc_RAW_spirou:02f10+[...]|Calibration file: 20170710_flat_dark02f10_blaze_AB.fits already exists - not copied\u001b[0;0m\n\u001b[92;1m15:38:55.0 -   |cal_loc_RAW_spirou:02f10+[...]|Calibration file: 20170710_dark_flat02f10_blaze_C.fits already exists - not copied\u001b[0;0m\n\u001b[92;1m15:38:55.0 -   |cal_loc_RAW_spirou:02f10+[...]|Calibration file: 20170710_dark_dark02d406.fits already exists - not copied\u001b[0;0m\n\u001b[92;1m15:38:55.0 -   |cal_loc_RAW_spirou:02f10+[...]|Calibration file: 20170710_flat_dark02f10_flat_AB.fits already exists - not copied\u001b[0;0m\n\u001b[92;1m15:38:55.0 -   |cal_loc_RAW_spirou:02f10+[...]|Calibration file: 20170710_dark_flat02f10_flat_C.fits already exists - not copied\u001b[0;0m\n\u001b[92;1m15:38:55.0 -   |cal_loc_RAW_spirou:02f10+[...]|Calibration file: 20170710_flat_dark02f10_loco_AB.fits already exists - not copied\u001b[0;0m\n\u001b[92;1m15:38:55.0 -   |cal_loc_RAW_spirou:02f10+[...]|Calibration file: 20170710_dark_flat02f10_loco_C.fits already exists - not copied\u001b[0;0m\n\u001b[92;1m15:38:55.0 -   |cal_loc_RAW_spirou:02f10+[...]|Calibration file: 20170710_flat_dark02f10_order_profile_AB.fits already exists - not copied\u001b[0;0m\n\u001b[92;1m15:38:55.0 -   |cal_loc_RAW_spirou:02f10+[...]|Calibration file: 20170710_dark_flat02f10_order_profile_C.fits already exists - not copied\u001b[0;0m\n\u001b[92;1m15:38:55.0 -   |cal_loc_RAW_spirou:02f10+[...]|Calibration file: 20170710_fp_fp02a203_tilt.fits already exists - not copied\u001b[0;0m\n\u001b[92;1m15:38:55.0 -   |cal_loc_RAW_spirou:02f10+[...]|Calibration file: spirou_wave_ini3.fits already exists - not copied\u001b[0;0m\n\u001b[92;1m15:38:55.0 -   |cal_loc_RAW_spirou:02f10+[...]|Calibration file: 2017-10-11_21-32-17_hcone_hcone02c406_wave_AB.fits already exists - not copied\u001b[0;0m\n\u001b[92;1m15:38:55.0 -   |cal_loc_RAW_spirou:02f10+[...]|Calibration file: spirou_wave_ini3.fits already exists - not copied\u001b[0;0m\n\u001b[92;1m15:38:55.0 -   |cal_loc_RAW_spirou:02f10+[...]|Calibration file: 2017-10-11_21-32-17_hcone_hcone02c406_wave_C.fits already exists - not copied\u001b[0;0m\n"
     ]
    }
   ],
   "source": [
    "# imports and setup\n",
    "from __future__ import division\n",
    "import numpy as np\n",
    "import os\n",
    "\n",
    "from SpirouDRS import spirouBACK\n",
    "from SpirouDRS import spirouCDB\n",
    "from SpirouDRS import spirouConfig\n",
    "from SpirouDRS import spirouCore\n",
    "from SpirouDRS import spirouImage\n",
    "from SpirouDRS import spirouLOCOR\n",
    "from SpirouDRS import spirouStartup\n",
    "\n",
    "# =============================================================================\n",
    "# Define variables\n",
    "# =============================================================================\n",
    "# Get Logging function\n",
    "WLOG = spirouCore.wlog\n",
    "# Get plotting functions\n",
    "sPlt = spirouCore.sPlt\n",
    "# Name of program\n",
    "__NAME__ = 'cal_loc_RAW_spirou.py'\n",
    "# Get version and author\n",
    "__version__ = spirouConfig.Constants.VERSION()\n",
    "__author__ = spirouConfig.Constants.AUTHORS()\n",
    "__date__ = spirouConfig.Constants.LATEST_EDIT()\n",
    "__release__ = spirouConfig.Constants.RELEASE()\n",
    "# Custom parameter dictionary\n",
    "ParamDict = spirouConfig.ParamDict\n",
    "\n",
    "# calls to main function (missing here) and set to None to use run time arguments\n",
    "night_name = None\n",
    "files = None\n",
    "\n",
    "# ----------------------------------------------------------------------\n",
    "# Set up\n",
    "# ----------------------------------------------------------------------\n",
    "# get parameters from config files/run time args/load paths + calibdb\n",
    "p = spirouStartup.Begin()\n",
    "p = spirouStartup.LoadArguments(p, night_name, files)\n",
    "# run specific start up\n",
    "params2add = dict()\n",
    "params2add['dark_flat'] = spirouLOCOR.FiberParams(p, 'C')\n",
    "params2add['flat_dark'] = spirouLOCOR.FiberParams(p, 'AB')\n",
    "p = spirouStartup.InitialFileSetup(p, kind='localisation',\n",
    "                                   prefixes=['dark_flat', 'flat_dark'],\n",
    "                                   add_to_p=params2add, calibdb=True)"
   ]
  },
  {
   "cell_type": "markdown",
   "metadata": {},
   "source": [
    "As mentioned above the calibration database was loaded automatically here:"
   ]
  },
  {
   "cell_type": "code",
   "execution_count": 10,
   "metadata": {
    "collapsed": false
   },
   "outputs": [
    {
     "data": {
      "text/plain": [
       "{'BADPIX': ['20170710', '20170710_flat_flat02f10_badpixel.fits'],\n 'BLAZE_AB': ['20170710', '20170710_flat_dark02f10_blaze_AB.fits'],\n 'BLAZE_C': ['20170710', '20170710_dark_flat02f10_blaze_C.fits'],\n 'DARK': ['20170710', '20170710_dark_dark02d406.fits'],\n 'FLAT_AB': ['20170710', '20170710_flat_dark02f10_flat_AB.fits'],\n 'FLAT_C': ['20170710', '20170710_dark_flat02f10_flat_C.fits'],\n 'LOC_AB': ['20170710', '20170710_flat_dark02f10_loco_AB.fits'],\n 'LOC_C': ['20170710', '20170710_dark_flat02f10_loco_C.fits'],\n 'ORDER_PROFILE_AB': ['20170710',\n  '20170710_flat_dark02f10_order_profile_AB.fits'],\n 'ORDER_PROFILE_C': ['20170710',\n  '20170710_dark_flat02f10_order_profile_C.fits'],\n 'TILT': ['20170710', '20170710_fp_fp02a203_tilt.fits'],\n 'WAVE_A': ['20170710', 'spirou_wave_ini3.fits'],\n 'WAVE_AB': ['AT4-04/2017-10-11_21-32-17',\n  '2017-10-11_21-32-17_hcone_hcone02c406_wave_AB.fits'],\n 'WAVE_B': ['20170710', 'spirou_wave_ini3.fits'],\n 'WAVE_C': ['AT4-04/2017-10-11_21-32-17',\n  '2017-10-11_21-32-17_hcone_hcone02c406_wave_C.fits']}"
      ]
     },
     "execution_count": 10,
     "metadata": {},
     "output_type": "execute_result"
    }
   ],
   "source": [
    "p['calibDB']"
   ]
  },
  {
   "cell_type": "code",
   "execution_count": 8,
   "metadata": {},
   "outputs": [
    {
     "name": "stdout",
     "output_type": "stream",
     "text": [
      "max_time_human = 2017-07-10-13:04:34.44\nmax_time_unix = 1499691874.44\n"
     ]
    }
   ],
   "source": [
    "# Note the acquisition time used is stored in two forms:\n",
    "print('max_time_human = {MAX_TIME_HUMAN}'.format(**p))\n",
    "print('max_time_unix = {MAX_TIME_UNIX}'.format(**p))"
   ]
  },
  {
   "cell_type": "markdown",
   "metadata": {},
   "source": [
    "Also note that the acquisition time decides which calibDB files are used. This depends on the constants.\n",
    "\n",
    "- If ```calib_db_match=\"older``` the recipes will only allow calibDB entries that are OLDER than the time in the main fits file (i.e. ```< max_time_human``` and ```< max_time_unix```. This is the setup in the old DRS.\n",
    "\n",
    "- If ```calib_db_match=\"closest``` the recipes will used the closest entry in time to ```max_time_human``` and ```max_time_unix```.\n",
    "\n",
    "Note for this reason there is a check that ```max_time_human``` and ``max_time_unix``` are the same and that the human time and unix time in the calibration database file are the same!  "
   ]
  },
  {
   "cell_type": "markdown",
   "metadata": {},
   "source": [
    "## Updating the calibration database\n",
    "\n",
    "This is very similar to before and involves a \"PutFile\" command to move a file into the calibration database folder and a \"UpdateMaster\" command to updated the master calibration database file (note one would have to re-run ```LoadCalibDB``` to update the in-memory version of the calibration database.\n",
    "\n"
   ]
  },
  {
   "cell_type": "code",
   "execution_count": 21,
   "metadata": {},
   "outputs": [
    {
     "name": "stdout",
     "output_type": "stream",
     "text": [
      "\u001b[92;1m16:01:51.0 -   |cal_loc_RAW_spirou:02f10+[...]|Reading TESTDATA Image /scratch/Projects/spirou_py3/data/raw/20170710/flat_dark02f10.fits\u001b[0;0m\n\u001b[92;1m16:01:51.0 -   |cal_loc_RAW_spirou:02f10+[...]|TESTDATA Image 2048 x 2048 loaded\u001b[0;0m\n\u001b[92;1m16:01:51.0 -   |cal_loc_RAW_spirou:02f10+[...]|ACQTIME = 2457945.0448379633 /UTC Julian time\u001b[0;0m\n\u001b[92;1m16:01:51.0 - * |cal_loc_RAW_spirou:02f10+[...]|Updating Calib Data Base with TEST\u001b[0;0m\n"
     ]
    }
   ],
   "source": [
    "# need a header for acquisition time in master calibration database file\n",
    "data, hdr, cmt, nx, ny = spirouImage.ReadImage(p, p['fitsfilename'], kind='TESTDATA')\n",
    "# print header ACQTIME\n",
    "wargs = ['ACQTIME', hdr['ACQTIME'], cmt['ACQTIME']]\n",
    "WLOG(p, '', '{0} = {1} /{2}'.format(*wargs))\n",
    "# test output file\n",
    "outputfilename = '20170710_dark_dark02d406.fits'\n",
    "outputfile = os.path.join(p['REDUCED_DIR'], outputfilename)\n",
    "# set database key\n",
    "keydb = 'TEST'\n",
    "# copy localisation file to the calibDB folder\n",
    "spirouCDB.PutFile(p, outputfile)\n",
    "# update the master calib DB file with new key\n",
    "spirouCDB.UpdateMaster(p, keydb, outputfilename, hdr)"
   ]
  },
  {
   "cell_type": "markdown",
   "metadata": {},
   "source": [
    "And the output in the master calibration database file is as follows:\n",
    "```\n",
    "\tTEST 20170710 20170710_dark_dark02d406.fits 2017-07-10-13:04:34.440000 1499691874.44\n",
    "```"
   ]
  }
 ],
 "metadata": {
  "kernelspec": {
   "display_name": "Python 2",
   "language": "python",
   "name": "python2"
  },
  "language_info": {
   "codemirror_mode": {
    "name": "ipython",
    "version": 2
   },
   "file_extension": ".py",
   "mimetype": "text/x-python",
   "name": "python",
   "nbconvert_exporter": "python",
   "pygments_lexer": "ipython2",
   "version": "2.7.6"
  }
 },
 "nbformat": 4,
 "nbformat_minor": 0
}
