{
 "cells": [
  {
   "cell_type": "markdown",
   "metadata": {
    "collapsed": true
   },
   "source": [
    "# Debug mode log error exception handling"
   ]
  },
  {
   "cell_type": "markdown",
   "metadata": {},
   "source": [
    "Below we show how the logger (WLOG) is handled in debugging mode, using cal_DARK_spirou as an example:"
   ]
  },
  {
   "cell_type": "code",
   "execution_count": 14,
   "metadata": {},
   "outputs": [
    {
     "name": "stdout",
     "output_type": "stream",
     "text": [
      "\u001b[92;1m13:44:04.0 -   || *****************************************\u001b[0;0m\n\u001b[92;1m13:44:04.0 -   || * SPIROU @(#) Geneva Observatory (0.1.029)\u001b[0;0m\n\u001b[92;1m13:44:04.0 -   || *****************************************\u001b[0;0m\n\u001b[92;1m13:44:04.0 -   ||(dir_data_raw)      DRS_DATA_RAW=/scratch/Projects/spirou_py3/data/raw\u001b[0;0m\n\u001b[92;1m13:44:04.0 -   ||(dir_data_reduc)    DRS_DATA_REDUC=/scratch/Projects/spirou_py3/data/reduced\u001b[0;0m\n\u001b[92;1m13:44:04.0 -   ||(dir_calib_db)      DRS_CALIB_DB=/scratch/Projects/spirou_py3/data/calibDB\u001b[0;0m\n\u001b[92;1m13:44:04.0 -   ||(dir_data_msg)      DRS_DATA_MSG=/scratch/Projects/spirou_py3/data/msg\u001b[0;0m\n\u001b[92;1m13:44:04.0 -   ||(print_level)       PRINT_LEVEL=all         %(error/warning/info/all)\u001b[0;0m\n\u001b[92;1m13:44:04.0 -   ||(log_level)         LOG_LEVEL=all         %(error/warning/info/all)\u001b[0;0m\n\u001b[92;1m13:44:04.0 -   ||(plot_graph)        DRS_PLOT=1            %(def/undef/trigger)\u001b[0;0m\n\u001b[92;1m13:44:04.0 -   ||(used_date)         DRS_USED_DATE=undefined\u001b[0;0m\n\u001b[92;1m13:44:04.0 -   ||(working_dir)       DRS_DATA_WORKING=/scratch/Projects/spirou_py3/data/tmp\u001b[0;0m\n\u001b[92;1m13:44:04.0 -   ||                    DRS_INTERACTIVE is not set, running on-line mode\u001b[0;0m\n\u001b[92;1m13:44:04.0 -   ||                    DRS_DEBUG is set, debug mode level:1\u001b[0;0m\n\u001b[92;1m13:44:04.0 -   |cal_DARK_spirou|Now running : cal_DARK_spirou on file(s): \u001b[0;0m\n\u001b[92;1m13:44:04.0 -   |cal_DARK_spirou|On directory /scratch/Projects/spirou_py3/data/raw/\u001b[0;0m\n\u001b[92;1m13:44:04.0 -   |cal_DARK_spirou|ICDP_NAME loaded from: /scratch/Projects/spirou_py3/spirou_py3/INTROOT/config/constants_SPIROU.py\u001b[0;0m\n\u001b[91;1m13:44:04.0 - ! |cal_DARK_spirou|Argument Error: No fits file defined at run time argument\u001b[0;0m\n\u001b[91;1m13:44:04.0 - ! |cal_DARK_spirou|    format must be:\u001b[0;0m\n\u001b[91;1m13:44:04.0 - ! |cal_DARK_spirou|    >>> cal_DARK_spirou.py [FOLDER] [FILES]\u001b[0;0m\n\u001b[91;1m\n\n\tError found and running in DEBUG mode\n\u001b[0;0m\n"
     ]
    },
    {
     "ename": "SystemExit",
     "evalue": "1",
     "traceback": [
      "An exception has occurred, use %tb to see the full traceback.\n",
      "\u001b[0;31mSystemExit\u001b[0m\u001b[0;31m:\u001b[0m 1\n"
     ],
     "output_type": "error"
    },
    {
     "name": "stderr",
     "output_type": "stream",
     "text": [
      "/scratch/bin/anaconda3/lib/python3.6/site-packages/IPython/core/interactiveshell.py:2918: UserWarning: To exit: use 'exit', 'quit', or Ctrl-D.\n  warn(\"To exit: use 'exit', 'quit', or Ctrl-D.\", stacklevel=1)\n"
     ]
    }
   ],
   "source": [
    "# simulate cal_DARK_spirou\n",
    "from __future__ import division\n",
    "\n",
    "from SpirouDRS import spirouConfig\n",
    "from SpirouDRS import spirouCore\n",
    "from SpirouDRS import spirouStartup\n",
    "\n",
    "# =============================================================================\n",
    "# Define variables\n",
    "# =============================================================================\n",
    "# Name of program\n",
    "__NAME__ = 'cal_DARK_spirou.py'\n",
    "# Get version and author\n",
    "__version__ = spirouConfig.Constants.VERSION()\n",
    "__author__ = spirouConfig.Constants.AUTHORS()\n",
    "__date__ = spirouConfig.Constants.LATEST_EDIT()\n",
    "__release__ = spirouConfig.Constants.RELEASE()\n",
    "# Get Logging function\n",
    "WLOG = spirouCore.wlog\n",
    "# Get plotting functions\n",
    "sPlt = spirouCore.sPlt\n",
    "\n",
    "# Notebook only code\n",
    "import sys\n",
    "sys.argv = ['cal_DARK_spirou.py']\n",
    "night_name, files = None, None\n",
    "\n",
    "# ----------------------------------------------------------------------\n",
    "# Set up\n",
    "# ----------------------------------------------------------------------\n",
    "# get parameters from config files/run time args/load paths + calibdb\n",
    "p = spirouStartup.Begin(recipe=__NAME__)\n",
    "p = spirouStartup.LoadArguments(p, night_name, files)\n",
    "p = spirouStartup.InitialFileSetup(p)"
   ]
  },
  {
   "cell_type": "markdown",
   "metadata": {},
   "source": [
    "In the console the following message will be displayed:\n",
    "```\n",
    "\"Enter python debugger? [Y]es or [N]o?\"\n",
    "\n",
    "If \"N\" is selected the recipe will exit. If \"Y\" is selected the recipe will go into a python debugger:\n",
    "\n",
    "\n",
    "\n",
    "        Error found and running in DEBUG mode\n",
    "\n",
    "        Enter python debugger? [Y]es or [N]o?   Y\n",
    "\n",
    "         ==== DEBUGGER ====\n",
    "\n",
    "         - type \"list\" to list code\n",
    "         - type \"up\" to go up a level\n",
    "         - type \"interact\" to go to an interactive shell\n",
    "         - type \"print(variable)\" to print variable\n",
    "         - type \"print(dir())\" to list available variables\n",
    "         - type \"continue\" to exit\n",
    "         - type \"help\" to see all commands\n",
    "\n",
    "         ==================\n",
    "\n",
    "\n",
    "\t> /scratch/Projects/spirou_py3/spirou_py3/INTROOT/SpirouDRS/spirouCore/spirouLog.py(217)debug_start()\n",
    "\t-> print(cc + '\\n\\nCode Exited' + nocol)\n",
    "\t(Pdb) \n",
    "```\n",
    "\n",
    "This starts a basic python debugger with command such as:\n",
    "- list:  which lists the last 10 lines of code before this error was generated (will normally just show the \"error\" catching in the logger (WLOG) function)\n",
    "\n",
    "- up: this command goes \"up\" a level in the code, going up a couple of levels should get to the WLOG message which caused the crash.\n",
    "\n",
    "- interact:  this starts a python interactive session which can be used to access all variables currently stored in the memory and to see the currently assigned values of each variable\n",
    "\n",
    "\n",
    "Shown below is a typical use for the debug based on the code above (unfortunately notebooks cannot run interactive code so this is copied as text)"
   ]
  },
  {
   "cell_type": "markdown",
   "metadata": {},
   "source": [
    "\n",
    "- Here the code is \"listed\" which caused the recipe to exit (this level is where the debugger was entered so isn't the level we want to debug). \n",
    "\n",
    "As one can see we are in the **spirouLog.py debug_start()** function\n",
    "```\n",
    "\t\t> /scratch/Projects/spirou_py3/spirou_py3/INTROOT/SpirouDRS/spirouCore/spirouLog.py(217)debug_start()\n",
    "\t\t(Pdb) list\n",
    "\t\t212                       '\\n\\n\\t ==================\\n\\n' + nocol)\n",
    "\t\t213\n",
    "\t\t214                 import pdb\n",
    "\t\t215                 pdb.set_trace()\n",
    "\t\t216\n",
    "\t\t217  ->             print(cc + '\\n\\nCode Exited' + nocol)\n",
    "\t\t218                 EXIT_TYPE(1)\n",
    "\t\t219             else:\n",
    "\t\t220                 EXIT_TYPE(1)\n",
    "\t\t221         except:\n",
    "\t\t222             EXIT_TYPE(1)\n",
    "```\n",
    "\n",
    "- Here the \"up\" command was used to go to up a level (the function that called the **debug_start()** function (**spirouLog.py logger()** function) this function is the logger function thus like **debug_start()** this isn't the level we want to debug.\n",
    "```\n",
    "\t\t(Pdb) up\n",
    "\t\t> /scratch/Projects/spirou_py3/spirou_py3/INTROOT/SpirouDRS/spirouCore/spirouLog.py(136)logger()\n",
    "\t\t-> debug_start()\n",
    "\n",
    "\t\t(Pdb) list\n",
    "\t\t131                 TDATA_WARNING = 0\n",
    "\t\t132\n",
    "\t\t133         # deal with errors (if key is in EXIT_LEVELS) then exit after log/print\n",
    "\t\t134         if key in EXIT_LEVELS:\n",
    "\t\t135             if spirouConfig.Constants.DEBUG():\n",
    "\t\t136  ->             debug_start()\n",
    "\t\t137             else:\n",
    "\t\t138                 EXIT_TYPE(1)\n",
    "\t\t139\n",
    "\t\t140\n",
    "\t\t141     def printlogandcmd(message, key, human_time, dsec, option):\n",
    "```\n",
    "\n",
    "- Here again we have used the \"up\" command (as the **logger()** function level is not useful for debugging the exception. Thus we are now at the call to the **logger()** functino via the alias **WLOG()**. This shows what was happening before the log \"error\" was raised. (In this case it is due to \"fits_fn\" having a value of \"None\").\n",
    "```\n",
    "\t\t(Pdb) up\n",
    "\t\t> /scratch/Projects/spirou_py3/spirou_py3/INTROOT/SpirouDRS/spirouStartup/spirouStartup.py(259)initial_file_setup()\n",
    "\t\t-> WLOG('error', log_opt, [wmsg1, wmsg2, emsg.format(p['program'])])\n",
    "\n",
    "\t\t(Pdb) list\n",
    "\t\t254         # check that fitsfilename exists\n",
    "\t\t255         if fits_fn is None:\n",
    "\t\t256             wmsg1 = 'Argument Error: No fits file defined at run time argument'\n",
    "\t\t257             wmsg2 = '    format must be:'\n",
    "\t\t258             emsg = '    >>> {0}.py [FOLDER] [FILES]'\n",
    "\t\t259  ->         WLOG('error', log_opt, [wmsg1, wmsg2, emsg.format(p['program'])])\n",
    "\t\t260         if not os.path.exists(fits_fn):\n",
    "\t\t261             WLOG('error', log_opt, 'File : {0} does not exist'.format(fits_fn))\n",
    "\t\t262         # -------------------------------------------------------------------------\n",
    "\t\t263         # if we have prefixes defined then check that fitsfilename has them\n",
    "\t\t264         # if add_to_params is defined then add params to p accordingly\n",
    "```\n",
    "\n",
    "- At this stage it may be useful to be in interactive mode. Typing \"interact\" allows a python console to be opened (or ipython if it was detected that we were running in ipython). Below as with a standard python console we can explore the parameter space and indeed see that \"fits_fn\" has a value of \"None\". Obviously this example is trivia as we intentionally forgot to add \"night_name\" and \"files\" at run time.\n",
    "\n",
    "\t\t(Pdb) interact\n",
    "\t\t*interactive*\n",
    "\n",
    "\t\t>>> log_opt\n",
    "\t\t'cal_DARK_spirou'\n",
    "\n",
    "\t\t>>> fits_fn is None\n",
    "\t\tTrue\n"
   ]
  },
  {
   "cell_type": "code",
   "execution_count": null,
   "metadata": {},
   "outputs": [],
   "source": []
  }
 ],
 "metadata": {
  "kernelspec": {
   "display_name": "Python 2",
   "language": "python",
   "name": "python2"
  },
  "language_info": {
   "codemirror_mode": {
    "name": "ipython",
    "version": 2
   },
   "file_extension": ".py",
   "mimetype": "text/x-python",
   "name": "python",
   "nbconvert_exporter": "python",
   "pygments_lexer": "ipython2",
   "version": "2.7.6"
  }
 },
 "nbformat": 4,
 "nbformat_minor": 0
}
