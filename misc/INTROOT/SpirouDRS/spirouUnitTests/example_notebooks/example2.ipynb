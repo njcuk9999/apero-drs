{
 "cells": [
  {
   "cell_type": "markdown",
   "metadata": {
    "collapsed": true
   },
   "source": [
    "# What is a parameter dictionary?"
   ]
  },
  {
   "cell_type": "markdown",
   "metadata": {},
   "source": [
    "In the main recipes a variable \"p\" is used often. This is a instance of a custom dictionary called a parameter dictionary or \"ParamDict\" for short.\n",
    "\n",
    "We use this to store all constants and keep track (as a developer) of where constants were defined or modified.\n",
    "\n",
    "Below we explore \"p\" in more detail.\n"
   ]
  },
  {
   "cell_type": "markdown",
   "metadata": {},
   "source": [
    "First we begin as if we were in cal_DARK_spirou, importing all modules required to run the \"set up\" procedure.\n"
   ]
  },
  {
   "cell_type": "code",
   "execution_count": 21,
   "metadata": {},
   "outputs": [],
   "source": [
    "# imports as in cal_DARK_spirou.py\n",
    "from __future__ import division\n",
    "\n",
    "from SpirouDRS import spirouConfig\n",
    "from SpirouDRS import spirouCore\n",
    "from SpirouDRS import spirouStartup\n",
    "\n",
    "# ========================================\n",
    "# Define variables\n",
    "# ========================================\n",
    "# Name of program\n",
    "__NAME__ = 'cal_DARK_spirou.py'\n",
    "# Get version and author\n",
    "__version__ = spirouConfig.Constants.VERSION()\n",
    "__author__ = spirouConfig.Constants.AUTHORS()\n",
    "__date__ = spirouConfig.Constants.LATEST_EDIT()\n",
    "__release__ = spirouConfig.Constants.RELEASE()\n",
    "# Get Logging function\n",
    "WLOG = spirouCore.wlog\n",
    "# Get plotting functions\n",
    "sPlt = spirouCore.sPlt"
   ]
  },
  {
   "cell_type": "markdown",
   "metadata": {},
   "source": [
    "The next section is generally inside the \"main\" function of a recipe, here we keep it outside so we can show the features easily. The setup of normal routines uses three functions \"Begin\", \"LoadArguments\" and \"InitialFileSetup\". We will go through each using cal_DARK_spirou.py as an example."
   ]
  },
  {
   "cell_type": "markdown",
   "metadata": {},
   "source": [
    "## The begin function"
   ]
  },
  {
   "cell_type": "markdown",
   "metadata": {},
   "source": [
    "This is the first function that will be run in any recipe \"main\" function. It loads all the primary constants (from the config.py file) as well as displaying the startup title and paths defined in the config.py file."
   ]
  },
  {
   "cell_type": "code",
   "execution_count": null,
   "metadata": {},
   "outputs": [
    {
     "name": "stdout",
     "output_type": "stream",
     "text": [
      "\u001b[92;1m12:05:18.0 -   || *****************************************\u001b[0;0m\n\u001b[92;1m12:05:18.0 -   || * SPIROU @(#) Geneva Observatory (0.1.029)\u001b[0;0m\n\u001b[92;1m12:05:18.0 -   || *****************************************\u001b[0;0m\n\u001b[92;1m12:05:18.0 -   ||(dir_data_raw)      DRS_DATA_RAW=/scratch/Projects/spirou_py3/data/raw\u001b[0;0m\n\u001b[92;1m12:05:18.0 -   ||(dir_data_reduc)    DRS_DATA_REDUC=/scratch/Projects/spirou_py3/data/reduced\u001b[0;0m\n\u001b[92;1m12:05:18.0 -   ||(dir_calib_db)      DRS_CALIB_DB=/scratch/Projects/spirou_py3/data/calibDB\u001b[0;0m\n\u001b[92;1m12:05:18.0 -   ||(dir_data_msg)      DRS_DATA_MSG=/scratch/Projects/spirou_py3/data/msg\u001b[0;0m\n\u001b[92;1m12:05:18.0 -   ||(print_level)       PRINT_LEVEL=all         %(error/warning/info/all)\u001b[0;0m\n\u001b[92;1m12:05:18.0 -   ||(log_level)         LOG_LEVEL=all         %(error/warning/info/all)\u001b[0;0m\n\u001b[92;1m12:05:18.0 -   ||(plot_graph)        DRS_PLOT=1            %(def/undef/trigger)\u001b[0;0m\n\u001b[92;1m12:05:18.0 -   ||(used_date)         DRS_USED_DATE=undefined\u001b[0;0m\n\u001b[92;1m12:05:18.0 -   ||(working_dir)       DRS_DATA_WORKING=/scratch/Projects/spirou_py3/data/tmp\u001b[0;0m\n\u001b[92;1m12:05:18.0 -   ||                    DRS_INTERACTIVE is not set, running on-line mode\u001b[0;0m\n\u001b[92;1m12:05:18.0 -   ||                    DRS_DEBUG is set, debug mode level:1\u001b[0;0m\n"
     ]
    }
   ],
   "source": [
    "# Begin function\n",
    "__NAME__ = 'my test code'\n",
    "p = spirouStartup.Begin(recipe=__NAME__)"
   ]
  },
  {
   "cell_type": "markdown",
   "metadata": {},
   "source": [
    "Taking a look at what is contained in \"p\" at this point is shown below. It should be representative of the constants defined in constants.py where type casting to floats/ints and booleans has been done where possible."
   ]
  },
  {
   "cell_type": "code",
   "execution_count": 3,
   "metadata": {},
   "outputs": [
    {
     "data": {
      "text/plain": [
       "{'COLOURED_LOG': True,\n 'DRS_CALIB_DB': '/scratch/Projects/spirou_py3/data/calibDB',\n 'DRS_CONFIG': '/scratch/Projects/spirou_py3/spirou_py3/INTROOT/config/',\n 'DRS_DATA_MSG': '/scratch/Projects/spirou_py3/data/msg',\n 'DRS_DATA_RAW': '/scratch/Projects/spirou_py3/data/raw',\n 'DRS_DATA_REDUC': '/scratch/Projects/spirou_py3/data/reduced',\n 'DRS_DATA_WORKING': '/scratch/Projects/spirou_py3/data/tmp',\n 'DRS_DEBUG': 1,\n 'DRS_INTERACTIVE': 0,\n 'DRS_MAN': '/scratch/Projects/spirou_py3/spirou_py3/INTROOT/man/',\n 'DRS_NAME': 'SPIROU',\n 'DRS_PLOT': 1,\n 'DRS_ROOT': '/scratch/Projects/spirou_py3/spirou_py3/INTROOT/',\n 'DRS_USED_DATE': 'undefined',\n 'DRS_VERSION': '0.1.029',\n 'ICDP_NAME': 'constants_SPIROU.py',\n 'LOG_LEVEL': 'all',\n 'PRINT_LEVEL': 'all',\n 'SPECIAL_NAME': 'special_config_SPIROU.py',\n 'TDATA': '/scratch/Projects/spirou_py3/data/'}"
      ]
     },
     "execution_count": 3,
     "metadata": {},
     "output_type": "execute_result"
    }
   ],
   "source": [
    "p"
   ]
  },
  {
   "cell_type": "markdown",
   "metadata": {},
   "source": [
    "Note we can also look at where each key was defined:"
   ]
  },
  {
   "cell_type": "code",
   "execution_count": 4,
   "metadata": {},
   "outputs": [
    {
     "data": {
      "text/plain": [
       "{'COLOURED_LOG': '/scratch/Projects/spirou_py3/spirou_py3/INTROOT/config/config.py',\n 'DRS_CALIB_DB': '/scratch/Projects/spirou_py3/spirou_py3/INTROOT/config/config.py',\n 'DRS_CONFIG': 'spirouConfig.py.check_params()',\n 'DRS_DATA_MSG': '/scratch/Projects/spirou_py3/spirou_py3/INTROOT/config/config.py',\n 'DRS_DATA_RAW': '/scratch/Projects/spirou_py3/spirou_py3/INTROOT/config/config.py',\n 'DRS_DATA_REDUC': '/scratch/Projects/spirou_py3/spirou_py3/INTROOT/config/config.py',\n 'DRS_DATA_WORKING': '/scratch/Projects/spirou_py3/spirou_py3/INTROOT/config/config.py',\n 'DRS_DEBUG': '/scratch/Projects/spirou_py3/spirou_py3/INTROOT/config/config.py',\n 'DRS_INTERACTIVE': 'spirouConfig.py.check_params()',\n 'DRS_MAN': 'spirouConfig.py.check_params()',\n 'DRS_NAME': 'spirouConfig.Constants',\n 'DRS_PLOT': '/scratch/Projects/spirou_py3/spirou_py3/INTROOT/config/config.py',\n 'DRS_ROOT': '/scratch/Projects/spirou_py3/spirou_py3/INTROOT/config/config.py',\n 'DRS_USED_DATE': 'spirouConfig.py.check_params()',\n 'DRS_VERSION': 'spirouConfig.Constants',\n 'ICDP_NAME': '/scratch/Projects/spirou_py3/spirou_py3/INTROOT/config/config.py',\n 'LOG_LEVEL': '/scratch/Projects/spirou_py3/spirou_py3/INTROOT/config/config.py',\n 'PRINT_LEVEL': '/scratch/Projects/spirou_py3/spirou_py3/INTROOT/config/config.py',\n 'SPECIAL_NAME': '/scratch/Projects/spirou_py3/spirou_py3/INTROOT/config/config.py',\n 'TDATA': '/scratch/Projects/spirou_py3/spirou_py3/INTROOT/config/config.py'}"
      ]
     },
     "execution_count": 4,
     "metadata": {},
     "output_type": "execute_result"
    }
   ],
   "source": [
    "p.sources"
   ]
  },
  {
   "cell_type": "markdown",
   "metadata": {},
   "source": [
    "## LoadArguments"
   ]
  },
  {
   "cell_type": "markdown",
   "metadata": {},
   "source": [
    "This function is the second argument to run. It deals with loading of the arguments both from the recipes main() arguments and from run time (i.e. after the file name when called from python/ipython or a console). \n",
    "\n",
    "By default the user will either have to define arguements from the command line or in the function call to the recipes \"main\" function.\n",
    "\n",
    "i.e. for cal_DARK_spirou.py one could call the following from the command line:\n",
    ">> cal_DARK_Spirou.py 20170710 dark_dark\n",
    "\n",
    "or in python:\n",
    "\n",
    "cal_DARK_spirou.main(night_name=nightname, files=filenames)"
   ]
  },
  {
   "cell_type": "code",
   "execution_count": 5,
   "metadata": {},
   "outputs": [],
   "source": [
    "# we will assume we are inside the cal_DARK_Spirou.main function and have called \n",
    "#   the arguments correctly:\n",
    "night_name = '20170710'\n",
    "files = ['dark_dark02d406.fits']\n",
    "\n",
    "# Notebook only code\n",
    "import sys\n",
    "sys.argv = ['cal_DARK_spirou.py']"
   ]
  },
  {
   "cell_type": "markdown",
   "metadata": {},
   "source": [
    "we can then call the LoadArguments function"
   ]
  },
  {
   "cell_type": "code",
   "execution_count": 6,
   "metadata": {},
   "outputs": [
    {
     "name": "stdout",
     "output_type": "stream",
     "text": [
      "\u001b[92;1m12:05:27.0 -   |cal_DARK_spirou|Now running : cal_DARK_spirou on file(s): \u001b[0;0m\n\u001b[92;1m12:05:27.0 -   |cal_DARK_spirou|On directory /scratch/Projects/spirou_py3/data/raw/20170710\u001b[0;0m\n\u001b[92;1m12:05:27.0 -   |cal_DARK_spirou|ICDP_NAME loaded from: /scratch/Projects/spirou_py3/spirou_py3/INTROOT/config/constants_SPIROU.py\u001b[0;0m\n"
     ]
    }
   ],
   "source": [
    "p = spirouStartup.LoadArguments(p, night_name, files)"
   ]
  },
  {
   "cell_type": "markdown",
   "metadata": {},
   "source": [
    "Taking a look a \"p\" now we can see it has added the \"run time\" arguements and additional constants from the constants_SPIROU.py file. Note below we only print the key names."
   ]
  },
  {
   "cell_type": "code",
   "execution_count": 7,
   "metadata": {
    "collapsed": false
   },
   "outputs": [
    {
     "name": "stdout",
     "output_type": "stream",
     "text": [
      "['DRS_PLOT', 'DRS_DEBUG', 'TDATA', 'DRS_ROOT', 'DRS_DATA_RAW', 'DRS_DATA_REDUC', 'DRS_CALIB_DB', 'DRS_DATA_MSG', 'DRS_DATA_WORKING', 'PRINT_LEVEL', 'LOG_LEVEL', 'COLOURED_LOG', 'SPECIAL_NAME', 'ICDP_NAME', 'DRS_NAME', 'DRS_VERSION', 'DRS_CONFIG', 'DRS_MAN', 'DRS_USED_DATE', 'DRS_INTERACTIVE', 'ARG_NIGHT_NAME', 'PROGRAM', 'ARG_FILE_NAMES', 'STR_FILE_NAMES', 'FITSFILENAME', 'LOG_OPT', 'NBFRAMES', 'REDUCED_DIR', 'RAW_DIR', 'IC_DISPLAY_TIMEOUT', 'IC_CCDX_BLUE_LOW', 'IC_CCDX_BLUE_HIGH', 'IC_CCDY_BLUE_LOW', 'IC_CCDY_BLUE_HIGH', 'IC_CCDX_RED_LOW', 'IC_CCDX_RED_HIGH', 'IC_CCDY_RED_LOW', 'IC_CCDY_RED_HIGH', 'IC_CCDX_LOW', 'IC_CCDX_HIGH', 'IC_CCDY_LOW', 'IC_CCDY_HIGH', 'FIBER_TYPES', 'NBFIB_FPALL', 'IC_FIRST_ORDER_JUMP_FPALL', 'IC_LOCNBMAXO_FPALL', 'QC_LOC_NBO_FPALL', 'FIB_TYPE_FPALL', 'IC_EXT_RANGE1_FPALL', 'IC_EXT_RANGE2_FPALL', 'IC_EXT_RANGE_FPALL', 'LOC_FILE_FPALL', 'ORDERP_FILE_FPALL', 'IC_EXT_D_RANGE_FPALL', 'DARK_QMIN', 'DARK_QMAX', 'HISTO_BINS', 'HISTO_RANGE_LOW', 'HISTO_RANGE_HIGH', 'DARK_CUTLIMIT', 'LOC_BOX_SIZE', 'IC_OFFSET', 'IC_CENT_COL', 'IC_EXT_WINDOW', 'IC_IMAGE_GAP', 'IC_LOCSTEPC', 'IC_WIDTHMIN', 'IC_LOCNBPIX', 'IC_MIN_AMPLITUDE', 'IC_LOCSEUIL', 'IC_SATSEUIL', 'IC_LOCDFITC', 'IC_LOCDFITW', 'IC_LOCDFITP', 'IC_MAX_RMS_CENTER', 'IC_MAX_PTP_CENTER', 'IC_PTPORMS_CENTER', 'IC_MAX_RMS_FWHM', 'IC_MAX_PTP_FRACFWHM', 'IC_LOC_DELTA_WIDTH', 'IC_LOCOPT1', 'IC_TILT_COI', 'IC_FACDEC', 'IC_TILT_FIT', 'IC_SLIT_ORDER_PLOT', 'IC_DO_BKGR_SUBTRACTION', 'IC_BKGR_WINDOW', 'IC_TILT_NBO', 'IC_FF_SIGDET', 'IC_EXTFBLAZ', 'IC_BLAZE_FITN', 'IC_FF_ORDER_PLOT', 'IC_FF_PLOT_ALL_ORDERS', 'IC_EXTOPT', 'IC_EXTNBSIG', 'IC_EXTRACT_TYPE', 'IC_EXT_SIGDET', 'IC_EXT_ORDER_PLOT', 'IC_DRIFT_NOISE', 'IC_DRIFT_MAXFLUX', 'IC_DRIFT_BOXSIZE', 'DRIFT_NLARGE', 'DRIFT_FILE_SKIP', 'DRIFT_E2DS_FILE_SKIP', 'DRIFT_PEAK_FILE_SKIP', 'IC_DRIFT_CUT_RAW', 'IC_DRIFT_CUT_E2DS', 'IC_DRIFT_N_ORDER_MAX', 'IC_DRIFT_PEAK_N_ORDER_MIN', 'IC_DRIFT_PEAK_N_ORDER_MAX', 'DRIFT_TYPE_RAW', 'DRIFT_TYPE_E2DS', 'IC_DRIFT_ORDER_PLOT', 'DRIFT_PEAK_MINMAX_BOXSIZE', 'DRIFT_PEAK_BORDER_SIZE', 'DRIFT_PEAK_FPBOX_SIZE', 'DRIFT_PEAK_PEAK_SIG_LIM', 'DRIFT_PEAK_INTER_PEAK_SPACING', 'DRIFT_PEAK_EXP_WIDTH', 'DRIFT_PEAK_NORM_WIDTH_CUT', 'DRIFT_PEAK_GETDRIFT_GAUSSFIT', 'DRIFT_PEAK_PEARSONR_CUT', 'DRIFT_PEAK_SIGMACLIP', 'DRIFT_PEAK_PLOT_LINE_LOG_AMP', 'DRIFT_PEAK_SELECTED_ORDER', 'BADPIX_FLAT_MED_WID', 'BADPIX_ILLUM_CUT', 'BADPIX_FLAT_CUT_RATIO', 'BADPIX_MAX_HOTPIX', 'BADPIX_NORM_PERCENTILE', 'IC_CCF_WIDTH', 'IC_CCF_STEP', 'IC_W_MASK_MIN', 'IC_MASK_WIDTH', 'CCF_BERV', 'CCF_BERV_MAX', 'CCF_DET_NOISE', 'CCF_FIT_TYPE', 'CCF_NUM_ORDERS_MAX', 'QC_MAX_DARKLEVEL', 'QC_MAX_DEAD', 'QC_MAX_DARK', 'QC_DARK_TIME', 'QC_LOC_MAXLOCFIT_REMOVED_CTR', 'QC_LOC_MAXLOCFIT_REMOVED_WID', 'QC_LOC_RMSMAX_CENTER', 'QC_LOC_RMSMAX_FWHM', 'QC_FF_RMS', 'QC_LOC_FLUMAX', 'QC_SLIT_RMS', 'QC_SLIT_MIN', 'QC_SLIT_MAX', 'QC_MAX_SIGNAL', 'IC_CALIBDB_FILENAME', 'CALIB_MAX_WAIT', 'CALIB_DB_MATCH', 'KW_ACQTIME_KEY', 'KW_ACQTIME_KEY_UNIX', 'KW_BBAD', 'KW_BBFLAT', 'KW_BHOT', 'KW_BNDARK', 'KW_BNFLAT', 'KW_CCD_CONAD', 'KW_CCD_SIGDET', 'KW_CCF_CDELT', 'KW_CCF_CONTRAST', 'KW_CCF_CRVAL', 'KW_CCF_CTYPE', 'KW_CCF_FWHM', 'KW_CCF_LINES', 'KW_CCF_MASK', 'KW_CCF_MAXCPP', 'KW_CCF_RV', 'KW_CCF_RVC', 'KW_DARK_B_DEAD', 'KW_DARK_B_MED', 'KW_DARK_CUT', 'KW_DARK_DEAD', 'KW_DARK_MED', 'KW_DARK_R_DEAD', 'KW_DARK_R_MED', 'KW_DPRTYPE', 'KW_EXPTIME', 'KW_EXTRA_SN', 'KW_FLAT_RMS', 'KW_GAIN', 'KW_LOCO_BCKGRD', 'KW_LOCO_CTR_COEFF', 'KW_LOCO_DEG_C', 'KW_LOCO_DEG_E', 'KW_LOCO_DEG_W', 'KW_LOCO_DELTA', 'KW_LOCO_FILE', 'KW_LOCO_FWHM_COEFF', 'KW_LOCO_NBO', 'KW_LOC_MAXFLX', 'KW_LOC_RMS_CTR', 'KW_LOC_RMS_WID', 'KW_LOC_SMAXPTS_CTR', 'KW_LOC_SMAXPTS_WID', 'KW_RDNOISE', 'KW_TH_COEFF_PREFIX', 'KW_TH_LL_D', 'KW_TH_NAXIS1', 'KW_TH_NAXIS2', 'KW_TH_ORD_N', 'KW_TILT', 'KW_DRS_QC', 'KW_ROOT_DRS_FLAT', 'KW_ROOT_DRS_HC', 'KW_ROOT_DRS_LOC', 'KW_VERSION']\n"
     ]
    }
   ],
   "source": [
    "print(list(p.keys()))"
   ]
  },
  {
   "cell_type": "markdown",
   "metadata": {},
   "source": [
    "Sources are set for all variables, some examples are shown below. Note that strings are evaluated (i.e. \"IC_CCDX_RED_LOW = 2028\" value is a int not a string."
   ]
  },
  {
   "cell_type": "code",
   "execution_count": 8,
   "metadata": {
    "collapsed": false
   },
   "outputs": [
    {
     "name": "stdout",
     "output_type": "stream",
     "text": [
      "\n - key = \"DRS_NAME\"\n\tvalue=SPIROU\n\ttype=<class 'str'>\n\tsource=spirouConfig.Constants\n\n - key = \"IC_CCDX_RED_LOW\"\n\tvalue=2028\n\ttype=<class 'int'>\n\tsource=/scratch/Projects/spirou_py3/spirou_py3/INTROOT/config/constants_SPIROU.py\n\n - key = \"IC_CCDX_BLUE_LOW\"\n\tvalue=1848\n\ttype=<class 'int'>\n\tsource=/scratch/Projects/spirou_py3/spirou_py3/INTROOT/config/constants_SPIROU.py\n\n - key = \"KW_VERSION\"\n\tvalue=['VERSION', 'SPIROU_0.1.029', 'DRS version']\n\ttype=<class 'list'>\n\tsource=spirouKeywords.py\n"
     ]
    }
   ],
   "source": [
    "keys = ['DRS_NAME', 'IC_CCDX_RED_LOW', 'IC_CCDX_BLUE_LOW', 'KW_VERSION']\n",
    "\n",
    "for key in keys:\n",
    "    args = [key, p[key], type(p[key]), p.sources[key]]\n",
    "    print('\\n - key = \"{0}\"\\n\\tvalue={1}\\n\\ttype={2}\\n\\tsource={3}'.format(*args))"
   ]
  },
  {
   "cell_type": "markdown",
   "metadata": {},
   "source": [
    "# InitialFileSetup"
   ]
  },
  {
   "cell_type": "markdown",
   "metadata": {},
   "source": [
    "This is used to set up files and check them for required prefixes, and loads the calibration database if it is reuiqred. Below we use the example of cal_loc_RAW_spirou.py where either \"dark_flat\"  or \"flat_dark\" is required (and a set of different fiber parameter are required for each - i.e. \"dark_flat\" means we are using fiber \"C\" and \"flat_dark\" means we are using fibers \"AB\") "
   ]
  },
  {
   "cell_type": "code",
   "execution_count": 10,
   "metadata": {},
   "outputs": [
    {
     "name": "stdout",
     "output_type": "stream",
     "text": [
      "\u001b[92;1m12:05:37.0 -   || *****************************************\u001b[0;0m\n\u001b[92;1m12:05:37.0 -   || * SPIROU @(#) Geneva Observatory (0.1.029)\u001b[0;0m\n\u001b[92;1m12:05:37.0 -   || *****************************************\u001b[0;0m\n\u001b[92;1m12:05:37.0 -   ||(dir_data_raw)      DRS_DATA_RAW=/scratch/Projects/spirou_py3/data/raw\u001b[0;0m\n\u001b[92;1m12:05:37.0 -   ||(dir_data_reduc)    DRS_DATA_REDUC=/scratch/Projects/spirou_py3/data/reduced\u001b[0;0m\n\u001b[92;1m12:05:37.0 -   ||(dir_calib_db)      DRS_CALIB_DB=/scratch/Projects/spirou_py3/data/calibDB\u001b[0;0m\n\u001b[92;1m12:05:37.0 -   ||(dir_data_msg)      DRS_DATA_MSG=/scratch/Projects/spirou_py3/data/msg\u001b[0;0m\n\u001b[92;1m12:05:37.0 -   ||(print_level)       PRINT_LEVEL=all         %(error/warning/info/all)\u001b[0;0m\n\u001b[92;1m12:05:37.0 -   ||(log_level)         LOG_LEVEL=all         %(error/warning/info/all)\u001b[0;0m\n\u001b[92;1m12:05:37.0 -   ||(plot_graph)        DRS_PLOT=1            %(def/undef/trigger)\u001b[0;0m\n\u001b[92;1m12:05:37.0 -   ||(used_date)         DRS_USED_DATE=undefined\u001b[0;0m\n\u001b[92;1m12:05:37.0 -   ||(working_dir)       DRS_DATA_WORKING=/scratch/Projects/spirou_py3/data/tmp\u001b[0;0m\n\u001b[92;1m12:05:37.0 -   ||                    DRS_INTERACTIVE is not set, running on-line mode\u001b[0;0m\n\u001b[92;1m12:05:37.0 -   ||                    DRS_DEBUG is set, debug mode level:1\u001b[0;0m\n\u001b[92;1m12:05:37.0 -   |cal_DARK_spirou|Now running : cal_DARK_spirou on file(s): \u001b[0;0m\n\u001b[92;1m12:05:37.0 -   |cal_DARK_spirou|On directory /scratch/Projects/spirou_py3/data/raw/20170710\u001b[0;0m\n\u001b[92;1m12:05:37.0 -   |cal_DARK_spirou|ICDP_NAME loaded from: /scratch/Projects/spirou_py3/spirou_py3/INTROOT/config/constants_SPIROU.py\u001b[0;0m\n\u001b[92;1m12:05:37.0 - * |cal_DARK_spirou|Correct type of image for localisation (dark_flat or flat_dark)\u001b[0;0m\n"
     ]
    },
    {
     "name": "stdout",
     "output_type": "stream",
     "text": [
      "\u001b[92;1m12:05:38.0 -   |cal_DARK_spirou|Calibration file: 20170710_flat_flat02f10_badpixel.fits already exists - not copied\u001b[0;0m\n\u001b[92;1m12:05:38.0 -   |cal_DARK_spirou|Calibration file: 20170710_flat_dark02f10_blaze_AB.fits already exists - not copied\u001b[0;0m\n\u001b[92;1m12:05:38.0 -   |cal_DARK_spirou|Calibration file: 20170710_dark_flat02f10_blaze_C.fits already exists - not copied\u001b[0;0m\n"
     ]
    },
    {
     "name": "stdout",
     "output_type": "stream",
     "text": [
      "\u001b[92;1m12:05:39.0 -   |cal_DARK_spirou|Calibration file: 20170710_dark_dark02d406.fits already exists - not copied\u001b[0;0m\n\u001b[92;1m12:05:39.0 -   |cal_DARK_spirou|Calibration file: 20170710_flat_dark02f10_flat_AB.fits already exists - not copied\u001b[0;0m\n\u001b[92;1m12:05:39.0 -   |cal_DARK_spirou|Calibration file: 20170710_dark_flat02f10_flat_C.fits already exists - not copied\u001b[0;0m\n\u001b[92;1m12:05:39.0 -   |cal_DARK_spirou|Calibration file: 20170710_flat_dark02f10_loco_AB.fits already exists - not copied\u001b[0;0m\n\u001b[92;1m12:05:39.0 -   |cal_DARK_spirou|Calibration file: 20170710_dark_flat02f10_loco_C.fits already exists - not copied\u001b[0;0m\n"
     ]
    },
    {
     "name": "stdout",
     "output_type": "stream",
     "text": [
      "\u001b[92;1m12:05:39.0 -   |cal_DARK_spirou|Calibration file: 20170710_flat_dark02f10_order_profile_AB.fits already exists - not copied\u001b[0;0m\n"
     ]
    },
    {
     "name": "stdout",
     "output_type": "stream",
     "text": [
      "\u001b[92;1m12:05:40.0 -   |cal_DARK_spirou|Calibration file: 20170710_dark_flat02f10_order_profile_C.fits already exists - not copied\u001b[0;0m\n\u001b[92;1m12:05:40.0 -   |cal_DARK_spirou|Calibration file: 20170710_fp_fp02a203_tilt.fits already exists - not copied\u001b[0;0m\n\u001b[92;1m12:05:40.0 -   |cal_DARK_spirou|Calibration file: spirou_wave_ini3.fits already exists - not copied\u001b[0;0m\n\u001b[92;1m12:05:40.0 -   |cal_DARK_spirou|Calibration file: 2017-10-11_21-32-17_hcone_hcone02c406_wave_AB.fits already exists - not copied\u001b[0;0m\n\u001b[92;1m12:05:40.0 -   |cal_DARK_spirou|Calibration file: spirou_wave_ini3.fits already exists - not copied\u001b[0;0m\n\u001b[92;1m12:05:40.0 -   |cal_DARK_spirou|Calibration file: 2017-10-11_21-32-17_hcone_hcone02c406_wave_C.fits already exists - not copied\u001b[0;0m\n"
     ]
    }
   ],
   "source": [
    "# cal_loc_RAW requires some additional imports\n",
    "from __future__ import division\n",
    "\n",
    "from SpirouDRS import spirouImage\n",
    "from SpirouDRS import spirouLOCOR\n",
    "from SpirouDRS import spirouStartup\n",
    "\n",
    "# redefine arguments\n",
    "night_name = '20170710'\n",
    "files = ['flat_dark02f10.fits', 'flat_dark03f10.fits',\n",
    "         'flat_dark04f10.fits', 'flat_dark05f10.fits',\n",
    "         'flat_dark06f10.fits']\n",
    "\n",
    "# ----------------------------------------------------------------------\n",
    "# Set up\n",
    "# ----------------------------------------------------------------------\n",
    "# get parameters from config files/run time args/load paths + calibdb\n",
    "p = spirouStartup.Begin(recipe=__NAME__)\n",
    "p = spirouStartup.LoadArguments(p, night_name, files)\n",
    "# run specific start up\n",
    "p = spirouStartup.InitialFileSetup(p,  calibdb=True)\n"
   ]
  },
  {
   "cell_type": "markdown",
   "metadata": {},
   "source": [
    "The DRS is now set up and if \"calibdb\" was True then we have access to the full calibration database (using \"fitsfilename\" as the reference to sort between files)"
   ]
  },
  {
   "cell_type": "code",
   "execution_count": 12,
   "metadata": {},
   "outputs": [
    {
     "name": "stdout",
     "output_type": "stream",
     "text": [
      "\nfitsfilename: /scratch/Projects/spirou_py3/data/raw/20170710/flat_dark02f10.fits\n\narg_file_names: ['flat_dark02f10.fits', 'flat_dark03f10.fits', 'flat_dark04f10.fits', 'flat_dark05f10.fits', 'flat_dark06f10.fits']\n\ncalib db: {'BADPIX': ['20170710', '20170710_flat_flat02f10_badpixel.fits'], 'BLAZE_AB': ['20170710', '20170710_flat_dark02f10_blaze_AB.fits'], 'BLAZE_C': ['20170710', '20170710_dark_flat02f10_blaze_C.fits'], 'DARK': ['20170710', '20170710_dark_dark02d406.fits'], 'FLAT_AB': ['20170710', '20170710_flat_dark02f10_flat_AB.fits'], 'FLAT_C': ['20170710', '20170710_dark_flat02f10_flat_C.fits'], 'LOC_AB': ['20170710', '20170710_flat_dark02f10_loco_AB.fits'], 'LOC_C': ['20170710', '20170710_dark_flat02f10_loco_C.fits'], 'ORDER_PROFILE_AB': ['20170710', '20170710_flat_dark02f10_order_profile_AB.fits'], 'ORDER_PROFILE_C': ['20170710', '20170710_dark_flat02f10_order_profile_C.fits'], 'TILT': ['20170710', '20170710_fp_fp02a203_tilt.fits'], 'WAVE_A': ['20170710', 'spirou_wave_ini3.fits'], 'WAVE_AB': ['AT4-04/2017-10-11_21-32-17', '2017-10-11_21-32-17_hcone_hcone02c406_wave_AB.fits'], 'WAVE_B': ['20170710', 'spirou_wave_ini3.fits'], 'WAVE_C': ['AT4-04/2017-10-11_21-32-17', '2017-10-11_21-32-17_hcone_hcone02c406_wave_C.fits']}\n"
     ]
    }
   ],
   "source": [
    "print('\\nfitsfilename: {0}'.format(p['fitsfilename']))\n",
    "print('\\narg_file_names: {0}'.format(p['arg_file_names']))\n",
    "print('\\ncalib db: {0}'.format(p['calibdb']))"
   ]
  },
  {
   "cell_type": "markdown",
   "metadata": {},
   "source": [
    "## Defining and updating variables using ParamDict\n",
    "\n",
    "One will need to update and set variables in the parameter dictionary at various points in a recipe. \n",
    "When one does this one should update the source(s). This is shown below.\n",
    "It is also possible to update/add multiple variables with one source.\n"
   ]
  },
  {
   "cell_type": "code",
   "execution_count": 13,
   "metadata": {},
   "outputs": [],
   "source": [
    "# set new variable\n",
    "p['MY_NEW_VARIABLE'] = 3.141592\n",
    "p.set_source('MY_NEW_VARIABLE', 'myprogram.myfunction1()')\n",
    "\n",
    "# update current variable and append source\n",
    "p['FITSFILENAME'] = 'newfile2'\n",
    "p.append_source('FITSFILENAME', 'myprogram.myfunction2()')\n",
    "\n",
    "# add multiple variables with same source name\n",
    "p['VAR1'] = 1\n",
    "p['VAR2'] = 2\n",
    "p['VAR3'] = 3\n",
    "p.set_sources(['VAR1', 'VAR2', 'VAR3'], 'myprogram.myfunction3()')\n",
    "\n",
    "p.append_sources(['VAR1', 'VAR3'], 'myprogram.main()')"
   ]
  },
  {
   "cell_type": "markdown",
   "metadata": {},
   "source": [
    "Below we show the output of each new key in \"p\""
   ]
  },
  {
   "cell_type": "code",
   "execution_count": 14,
   "metadata": {
    "collapsed": false
   },
   "outputs": [
    {
     "name": "stdout",
     "output_type": "stream",
     "text": [
      "\n - key = \"MY_NEW_VARIABLE\"\n\tvalue=3.141592\n\ttype=<class 'float'>\n\tsource=myprogram.myfunction1()\n\n - key = \"FITSFILENAME\"\n\tvalue=newfile2\n\ttype=<class 'str'>\n\tsource=spirouStarup.py.get_call_arg_files_fitsfilename() myprogram.myfunction2() myprogram.myfunction2()\n\n - key = \"VAR1\"\n\tvalue=1\n\ttype=<class 'int'>\n\tsource=myprogram.myfunction3() myprogram.main()\n\n - key = \"VAR2\"\n\tvalue=2\n\ttype=<class 'int'>\n\tsource=myprogram.myfunction3()\n\n - key = \"VAR3\"\n\tvalue=3\n\ttype=<class 'int'>\n\tsource=myprogram.myfunction3() myprogram.main()\n"
     ]
    }
   ],
   "source": [
    "keys = ['MY_NEW_VARIABLE', 'FITSFILENAME', 'VAR1', 'VAR2', 'VAR3']\n",
    "\n",
    "for key in keys:\n",
    "    args = [key, p[key], type(p[key]), p.sources[key]]\n",
    "    print('\\n - key = \"{0}\"\\n\\tvalue={1}\\n\\ttype={2}\\n\\tsource={3}'.format(*args))"
   ]
  },
  {
   "cell_type": "markdown",
   "metadata": {},
   "source": [
    "## Error and exception handling\n",
    "\n",
    "Constants and variables is one large area where errors and exceptions can be caused, be it from incorrectly defined constants entered by the users in the confirugations files, configuration files missing, illegal characters or a developer trying to access a key that does not exist. The parameter dictionary was designed with this in mind. It will use a special custom exception class (ConfigError) to guide the user/developer to a solution when an error/exception is generated, it is also designed to work with the WLOG logging function to provide easy feedback to the user. "
   ]
  },
  {
   "cell_type": "code",
   "execution_count": 15,
   "metadata": {},
   "outputs": [
    {
     "ename": "ConfigError",
     "evalue": "level=error: Config Error: Parameter \"random\" not found in parameter dictionary",
     "traceback": [
      "\u001b[0;31m---------------------------------------------------------------------------\u001b[0m",
      "\u001b[0;31mKeyError\u001b[0m                                  Traceback (most recent call last)",
      "\u001b[0;32m/scratch/Projects/spirou_py3/spirou_py3/INTROOT/SpirouDRS/spirouConfig/spirouConfig.py\u001b[0m in \u001b[0;36m__getitem__\u001b[0;34m(self, key)\u001b[0m\n\u001b[1;32m    145\u001b[0m         \u001b[0;32mtry\u001b[0m\u001b[0;34m:\u001b[0m\u001b[0;34m\u001b[0m\u001b[0m\n\u001b[0;32m--> 146\u001b[0;31m             \u001b[0;32mreturn\u001b[0m \u001b[0msuper\u001b[0m\u001b[0;34m(\u001b[0m\u001b[0mParamDict\u001b[0m\u001b[0;34m,\u001b[0m \u001b[0mself\u001b[0m\u001b[0;34m)\u001b[0m\u001b[0;34m.\u001b[0m\u001b[0m__getitem__\u001b[0m\u001b[0;34m(\u001b[0m\u001b[0mkey\u001b[0m\u001b[0;34m)\u001b[0m\u001b[0;34m\u001b[0m\u001b[0m\n\u001b[0m\u001b[1;32m    147\u001b[0m         \u001b[0;32mexcept\u001b[0m \u001b[0mKeyError\u001b[0m\u001b[0;34m:\u001b[0m\u001b[0;34m\u001b[0m\u001b[0m\n",
      "\u001b[0;31mKeyError\u001b[0m: 'RANDOM'",
      "\nDuring handling of the above exception, another exception occurred:\n",
      "\u001b[0;31mConfigError\u001b[0m                               Traceback (most recent call last)",
      "\u001b[0;32m<ipython-input-15-9d5ebfbc5eff>\u001b[0m in \u001b[0;36m<module>\u001b[0;34m()\u001b[0m\n\u001b[1;32m      1\u001b[0m \u001b[0;31m# try to access a undefined variable\u001b[0m\u001b[0;34m\u001b[0m\u001b[0;34m\u001b[0m\u001b[0m\n\u001b[0;32m----> 2\u001b[0;31m \u001b[0mmy_var\u001b[0m \u001b[0;34m=\u001b[0m \u001b[0mp\u001b[0m\u001b[0;34m[\u001b[0m\u001b[0;34m'random'\u001b[0m\u001b[0;34m]\u001b[0m\u001b[0;34m\u001b[0m\u001b[0m\n\u001b[0m",
      "\u001b[0;32m/scratch/Projects/spirou_py3/spirou_py3/INTROOT/SpirouDRS/spirouConfig/spirouConfig.py\u001b[0m in \u001b[0;36m__getitem__\u001b[0;34m(self, key)\u001b[0m\n\u001b[1;32m    148\u001b[0m             emsg = ('Config Error: Parameter \"{0}\" not found in parameter '\n\u001b[1;32m    149\u001b[0m                     'dictionary')\n\u001b[0;32m--> 150\u001b[0;31m             \u001b[0;32mraise\u001b[0m \u001b[0mConfigError\u001b[0m\u001b[0;34m(\u001b[0m\u001b[0memsg\u001b[0m\u001b[0;34m.\u001b[0m\u001b[0mformat\u001b[0m\u001b[0;34m(\u001b[0m\u001b[0moldkey\u001b[0m\u001b[0;34m)\u001b[0m\u001b[0;34m,\u001b[0m \u001b[0mlevel\u001b[0m\u001b[0;34m=\u001b[0m\u001b[0;34m'error'\u001b[0m\u001b[0;34m)\u001b[0m\u001b[0;34m\u001b[0m\u001b[0m\n\u001b[0m\u001b[1;32m    151\u001b[0m \u001b[0;34m\u001b[0m\u001b[0m\n\u001b[1;32m    152\u001b[0m     \u001b[0;32mdef\u001b[0m \u001b[0m__setitem__\u001b[0m\u001b[0;34m(\u001b[0m\u001b[0mself\u001b[0m\u001b[0;34m,\u001b[0m \u001b[0mkey\u001b[0m\u001b[0;34m,\u001b[0m \u001b[0mvalue\u001b[0m\u001b[0;34m,\u001b[0m \u001b[0msource\u001b[0m\u001b[0;34m=\u001b[0m\u001b[0;32mNone\u001b[0m\u001b[0;34m)\u001b[0m\u001b[0;34m:\u001b[0m\u001b[0;34m\u001b[0m\u001b[0m\n",
      "\u001b[0;31mConfigError\u001b[0m: level=error: Config Error: Parameter \"random\" not found in parameter dictionary"
     ],
     "output_type": "error"
    }
   ],
   "source": [
    "# try to access a undefined variable\n",
    "my_var = p['random']"
   ]
  },
  {
   "cell_type": "markdown",
   "metadata": {},
   "source": [
    "This can be caught and piped cleanly to the logging system as below.\n",
    "\n",
    "When a ConfigError is raise it has two attributes: \"level\" and \"message\"\n",
    "\n",
    "(i.e. ConfigError as e --> e.level and e.message)\n",
    "\n",
    "Note that the \"level\" of an exception is set to \"error\" and thus WLOG will exit."
   ]
  },
  {
   "cell_type": "code",
   "execution_count": 22,
   "metadata": {},
   "outputs": [
    {
     "name": "stdout",
     "output_type": "stream",
     "text": [
      "\nlevel = error\n\nmessage = Config Error: Parameter \"random\" not found in parameter dictionary\n\n Log message:\n\n\u001b[91;1m12:06:54.0 - ! |program|Config Error: Parameter \"random\" not found in parameter dictionary\u001b[0;0m\n\u001b[91;1m\n\n\tError found and running in DEBUG mode\n\u001b[0;0m\n"
     ]
    },
    {
     "ename": "SystemExit",
     "evalue": "1",
     "traceback": [
      "An exception has occurred, use %tb to see the full traceback.\n",
      "\u001b[0;31mSystemExit\u001b[0m\u001b[0;31m:\u001b[0m 1\n"
     ],
     "output_type": "error"
    },
    {
     "name": "stderr",
     "output_type": "stream",
     "text": [
      "/scratch/bin/anaconda3/lib/python3.6/site-packages/IPython/core/interactiveshell.py:2918: UserWarning: To exit: use 'exit', 'quit', or Ctrl-D.\n  warn(\"To exit: use 'exit', 'quit', or Ctrl-D.\", stacklevel=1)\n"
     ]
    }
   ],
   "source": [
    "from SpirouDRS.spirouConfig import ConfigError\n",
    "\n",
    "# try to get a constant\n",
    "try:\n",
    "    my_var = p['random']\n",
    "# catch the ConfigError\n",
    "except ConfigError as e:\n",
    "    print(\"\\nlevel = {0}\".format(e.level))\n",
    "    print(\"\\nmessage = {0}\".format(e.message))\n",
    "    # using with log\n",
    "    print(\"\\n Log message:\\n\")\n",
    "    WLOG(e.level, 'program', e.message)"
   ]
  },
  {
   "cell_type": "code",
   "execution_count": null,
   "metadata": {},
   "outputs": [],
   "source": []
  }
 ],
 "metadata": {
  "kernelspec": {
   "display_name": "Python 2",
   "language": "python",
   "name": "python2"
  },
  "language_info": {
   "codemirror_mode": {
    "name": "ipython",
    "version": 2
   },
   "file_extension": ".py",
   "mimetype": "text/x-python",
   "name": "python",
   "nbconvert_exporter": "python",
   "pygments_lexer": "ipython2",
   "version": "2.7.6"
  }
 },
 "nbformat": 4,
 "nbformat_minor": 0
}
