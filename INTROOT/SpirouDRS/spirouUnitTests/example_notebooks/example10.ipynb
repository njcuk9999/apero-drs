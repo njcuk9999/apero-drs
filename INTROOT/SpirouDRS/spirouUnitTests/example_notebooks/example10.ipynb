{
 "cells": [
  {
   "cell_type": "markdown",
   "metadata": {
    "collapsed": true
   },
   "source": [
    "# Using SPIRou Tools\n",
    "\n",
    "\n",
    "These are located in the spirouTools module:"
   ]
  },
  {
   "cell_type": "code",
   "execution_count": 1,
   "metadata": {},
   "outputs": [],
   "source": [
    "# just for ipython notebook\n",
    "import sys\n",
    "sys.argv = ['notebook']\n"
   ]
  },
  {
   "cell_type": "code",
   "execution_count": 2,
   "metadata": {},
   "outputs": [],
   "source": [
    "# import spirouTools\n",
    "from SpirouDRS.spirouTools import *"
   ]
  },
  {
   "cell_type": "markdown",
   "metadata": {},
   "source": [
    "## Display calibration database\n",
    "\n",
    "\n",
    "This command displays all the lines in the currently assigned master calibration database file."
   ]
  },
  {
   "cell_type": "code",
   "execution_count": 3,
   "metadata": {},
   "outputs": [
    {
     "name": "stdout",
     "output_type": "stream",
     "text": [
      "\u001b[92;1m14:19:41.0 -   |notebook|ICDP_NAME loaded from:\u001b[0;0m\n\u001b[92;1m14:19:41.0 -   |notebook|     /scratch/Projects/spirou_py3/spirou_py3/INTROOT/config/constants_SPIROU_H4RG.py\u001b[0;0m\n\u001b[92;1m14:19:41.0 -   |notebook|CalibDB located at: /scratch/Projects/spirou_py3/data_h4rg/calibDB/master_calib_SPIROU.txt\u001b[0;0m\n WAVE_AB AT4-04/2017-10-11_21-32-17 2017-10-11_21-32-17_hcone_hcone02c406_wave_AB.fits 2000-01-01-00:00:00.00 946684800\n WAVE_A 20170710 spirou_wave_ini3.fits 2000-01-01-00:00:00.00 946684800\n WAVE_B 20170710 spirou_wave_ini3.fits 2000-01-01-00:00:00.00 946684800\n WAVE_C AT4-04/2017-10-11_21-32-17 2017-10-11_21-32-17_hcone_hcone02c406_wave_C.fits 2000-01-01-00:00:00.00 946684800\n DARK AT5/20180409 20180409_dark_dark_001_pp.fits 2018-04-09-18:48:25.000000 1523299705.0\n BADPIX_OLD AT5/20180409 20180409_dark_dark_001_pp_badpixel.fits 2018-04-09-18:48:25.000000 1523299705.0\n BADPIX AT5/20180409 20180409_flat_flat_001_pp_badpixel.fits 2018-04-09-19:10:25.000000 1523301025.0\n ORDER_PROFILE_C AT5/20180409 20180409_dark_flat_001_pp_order_profile_C.fits 2018-04-09-19:00:01.000000 1523300401.0\n LOC_C AT5/20180409 20180409_dark_flat_001_pp_loco_C.fits 2018-04-09-19:00:01.000000 1523300401.0\n ORDER_PROFILE_AB AT5/20180409 20180409_flat_dark_001_pp_order_profile_AB.fits 2018-04-09-19:05:13.000000 1523300713.0\n LOC_AB AT5/20180409 20180409_flat_dark_001_pp_loco_AB.fits 2018-04-09-19:05:13.000000 1523300713.0\n TILT AT5/20180409 20180409_fp_fp_001_pp_tilt.fits 2018-04-09-19:30:29.000000 1523302229.0\n DARK AT5/20180409 20180409_dark_dark_001_pp.fits 2018-04-09-18:48:25.000000 1523299705.0\n BADPIX_OLD AT5/20180409 20180409_dark_dark_001_pp_badpixel.fits 2018-04-09-18:48:25.000000 1523299705.0\n"
     ]
    }
   ],
   "source": [
    "DisplayCalibDB()"
   ]
  },
  {
   "cell_type": "markdown",
   "metadata": {},
   "source": [
    "## Display DRS dependencies\n",
    "\n",
    "This command will display all dependencies (and version) currently being used by the DRS."
   ]
  },
  {
   "cell_type": "code",
   "execution_count": 4,
   "metadata": {},
   "outputs": [
    {
     "name": "stdout",
     "output_type": "stream",
     "text": [
      "\u001b[92;1m14:20:40.0 -   || *****************************************\u001b[0;0m\n\u001b[92;1m14:20:40.0 -   || * DRS Dependencies\u001b[0;0m\n\u001b[92;1m14:20:40.0 -   || *****************************************\u001b[0;0m\n\u001b[92;1m14:20:40.0 -   || *****************************************\u001b[0;0m\n\u001b[92;1m14:20:40.0 -   || * System information:\u001b[0;0m\n\u001b[92;1m14:20:40.0 -   || *****************************************\u001b[0;0m\n\u001b[92;1m14:20:40.0 -   ||    Python version = 3.6.4\u001b[0;0m\n\u001b[92;1m14:20:40.0 -   ||    Python distribution = Anaconda, Inc.\u001b[0;0m\n\u001b[92;1m14:20:40.0 -   ||    Distribution date = default, Jan 16 2018, 18:10:19\u001b[0;0m\n\u001b[92;1m14:20:40.0 -   ||    Dist Other = GCC 7.2.0\u001b[0;0m\n\u001b[92;1m14:20:40.0 -   ||    Path = \"/scratch/bin/anaconda3/bin/python\"\u001b[0;0m\n\u001b[92;1m14:20:40.0 -   ||    Platform = \"linux\"\u001b[0;0m\n\u001b[92;1m14:20:40.0 -   ||    Arg 1 = \"notebook\"\u001b[0;0m\n\u001b[92;1m14:20:40.0 -   || *****************************************\u001b[0;0m\n\u001b[92;1m14:20:40.0 -   |notebook|Getting python files\u001b[0;0m\n\u001b[92;1m14:20:40.0 -   |notebook|Getting import statements\u001b[0;0m\n"
     ]
    },
    {
     "name": "stdout",
     "output_type": "stream",
     "text": [
      "\u001b[92;1m14:20:41.0 -   |notebook|Stats:\u001b[0;0m\n\u001b[92;1m14:20:41.0 -   |notebook|\ttotal lines: 26098\u001b[0;0m\n\u001b[92;1m14:20:41.0 -   |notebook|\ttotal empty lines: 2224\u001b[0;0m\n\u001b[92;1m14:20:41.0 -   |notebook|\ttotal lines of comments: 13407\u001b[0;0m\n\u001b[92;1m14:20:41.0 -   |notebook|\ttotal lines of code: 10467\u001b[0;0m\n\u001b[92;1m14:20:41.0 -   |notebook|Import statements found are:\u001b[0;0m\n\u001b[92;1m14:20:41.0 -   |notebook|\tIPython         (6.2.1)\u001b[0;0m\n\u001b[92;1m14:20:41.0 -   |notebook|\tpdb             (No version info)\u001b[0;0m\n\u001b[92;1m14:20:41.0 -   |notebook|\tmatplotlib      (2.1.2)\u001b[0;0m\n\u001b[92;1m14:20:41.0 -   |notebook|\ttime            (No version info)\u001b[0;0m\n\u001b[92;1m14:20:41.0 -   |notebook|\t__future__      (No version info)\u001b[0;0m\n\u001b[92;1m14:20:41.0 -   |notebook|\tastropy         (2.0.3)\u001b[0;0m\n\u001b[92;1m14:20:41.0 -   |notebook|\tcalendar        (No version info)\u001b[0;0m\n\u001b[92;1m14:20:41.0 -   |notebook|\tcollections     (No version info)\u001b[0;0m\n\u001b[92;1m14:20:41.0 -   |notebook|\tdatetime        (No version info)\u001b[0;0m\n\u001b[92;1m14:20:41.0 -   |notebook|\tnumpy           (1.14.0)\u001b[0;0m\n\u001b[92;1m14:20:41.0 -   |notebook|\tscipy           (1.0.0)\u001b[0;0m\n\u001b[92;1m14:20:41.0 -   |notebook|\tcode            (No version info)\u001b[0;0m\n\u001b[92;1m14:20:41.0 -   |notebook|\tfilecmp         (No version info)\u001b[0;0m\n\u001b[92;1m14:20:41.0 -   |notebook|\tglob            (No version info)\u001b[0;0m\n\u001b[92;1m14:20:41.0 -   |notebook|\tos              (No version info)\u001b[0;0m\n\u001b[92;1m14:20:41.0 -   |notebook|\tpkg_resources   (No version info)\u001b[0;0m\n\u001b[92;1m14:20:41.0 -   |notebook|\tshutil          (No version info)\u001b[0;0m\n\u001b[92;1m14:20:41.0 -   |notebook|\tstring          (No version info)\u001b[0;0m\n\u001b[92;1m14:20:41.0 -   |notebook|\tsys             (No version info)\u001b[0;0m\n\u001b[92;1m14:20:41.0 -   |notebook|\twarnings        (No version info)\u001b[0;0m\n\u001b[92;1m14:20:41.0 - * |notebook|Recipe notebook has been successfully completed\u001b[0;0m\n"
     ]
    }
   ],
   "source": [
    "DRS_Dependencies()"
   ]
  },
  {
   "cell_type": "markdown",
   "metadata": {},
   "source": [
    "## Reset the DRS\n",
    "\n",
    "This command resets the DRS back to installation settings. This includes:\n",
    "- removing all files from the calibDB and master calibDB file\n",
    "- removing all files from the reduced folder\n",
    "- copying over files needed by the DRS (e.g. the files needed by the calibDB)\n",
    "\n",
    "Note you will be warner and are required to type \"yes\" or \"no\" when using in default mode however the warning can be shut off with keyword `warn=False`"
   ]
  },
  {
   "cell_type": "code",
   "execution_count": 12,
   "metadata": {},
   "outputs": [
    {
     "name": "stdout",
     "output_type": "stream",
     "text": [
      "\u001b[92;1m14:41:30.0 -   |notebook|Resetting reduced directory\u001b[0;0m\n\u001b[92;1m14:41:30.0 -   |notebook|    Removing file: /scratch/Projects/spirou_py3/data_h4rg/reduced/AT5/20180409/20180409_dark_dark_001_pp.fits\u001b[0;0m\n\u001b[92;1m14:41:30.0 -   |notebook|    Removing file: /scratch/Projects/spirou_py3/data_h4rg/reduced/AT5/20180409/20180409_dark_dark_001_pp_badpixel.fits\u001b[0;0m\n\u001b[92;1m14:41:30.0 -   |notebook|    Removing file: /scratch/Projects/spirou_py3/data_h4rg/reduced/AT5/20180409/20180409_flat_flat_001_pp_badpixel.fits\u001b[0;0m\n\u001b[92;1m14:41:30.0 -   |notebook|    Removing file: /scratch/Projects/spirou_py3/data_h4rg/reduced/AT5/20180409/spirou_wave_ini3.fits\u001b[0;0m\n\u001b[92;1m14:41:30.0 -   |notebook|    Removing file: /scratch/Projects/spirou_py3/data_h4rg/reduced/AT5/20180409/2017-10-11_21-32-17_hcone_hcone02c406_wave_AB.fits\u001b[0;0m\n\u001b[92;1m14:41:30.0 -   |notebook|    Removing file: /scratch/Projects/spirou_py3/data_h4rg/reduced/AT5/20180409/2017-10-11_21-32-17_hcone_hcone02c406_wave_C.fits\u001b[0;0m\n\u001b[92;1m14:41:30.0 -   |notebook|    Removing file: /scratch/Projects/spirou_py3/data_h4rg/reduced/AT5/20180409/20180409_dark_flat_001_pp_order_profile_C.fits\u001b[0;0m\n\u001b[92;1m14:41:30.0 -   |notebook|    Removing file: /scratch/Projects/spirou_py3/data_h4rg/reduced/AT5/20180409/20180409_dark_flat_001_pp_loco_C.fits\u001b[0;0m\n\u001b[92;1m14:41:30.0 -   |notebook|    Removing file: /scratch/Projects/spirou_py3/data_h4rg/reduced/AT5/20180409/20180409_dark_flat_001_pp_fwhm-order_C.fits\u001b[0;0m\n\u001b[92;1m14:41:30.0 -   |notebook|    Removing file: /scratch/Projects/spirou_py3/data_h4rg/reduced/AT5/20180409/20180409_dark_flat_001_pp_with-order_C.fits\u001b[0;0m\n\u001b[92;1m14:41:30.0 -   |notebook|    Removing file: /scratch/Projects/spirou_py3/data_h4rg/reduced/AT5/20180409/20180409_flat_dark_001_pp_order_profile_AB.fits\u001b[0;0m\n\u001b[92;1m14:41:30.0 -   |notebook|    Removing file: /scratch/Projects/spirou_py3/data_h4rg/reduced/AT5/20180409/20180409_flat_dark_001_pp_loco_AB.fits\u001b[0;0m\n\u001b[92;1m14:41:30.0 -   |notebook|    Removing file: /scratch/Projects/spirou_py3/data_h4rg/reduced/AT5/20180409/20180409_flat_dark_001_pp_fwhm-order_AB.fits\u001b[0;0m\n\u001b[92;1m14:41:30.0 -   |notebook|    Removing file: /scratch/Projects/spirou_py3/data_h4rg/reduced/AT5/20180409/20180409_flat_dark_001_pp_with-order_AB.fits\u001b[0;0m\n\u001b[92;1m14:41:30.0 -   |notebook|    Removing file: /scratch/Projects/spirou_py3/data_h4rg/reduced/AT5/20180409/20180409_fp_fp_001_pp_tilt.fits\u001b[0;0m\n\u001b[92;1m14:41:30.0 -   |notebook|    Removing file: /scratch/Projects/spirou_py3/data_h4rg/reduced/AT5/20180409/20180409_dark_flat_001_pp_blaze_C.fits\u001b[0;0m\n\u001b[92;1m14:41:30.0 -   |notebook|    Removing file: /scratch/Projects/spirou_py3/data_h4rg/reduced/AT5/20180409/20180409_dark_flat_001_pp_flat_C.fits\u001b[0;0m\n\u001b[92;1m14:41:30.0 -   |notebook|    Removing file: /scratch/Projects/spirou_py3/data_h4rg/reduced/AT5/20180409/20180409_flat_dark_001_pp_blaze_AB.fits\u001b[0;0m\n\u001b[92;1m14:41:30.0 -   |notebook|    Removing file: /scratch/Projects/spirou_py3/data_h4rg/reduced/AT5/20180409/20180409_flat_dark_001_pp_flat_AB.fits\u001b[0;0m\n\u001b[92;1m14:41:30.0 -   |notebook|    Removing file: /scratch/Projects/spirou_py3/data_h4rg/reduced/AT5/20180409/fp_fp_001_pp_e2ds_AB.fits\u001b[0;0m\n\u001b[92;1m14:41:30.0 -   |notebook|    Removing file: /scratch/Projects/spirou_py3/data_h4rg/reduced/AT5/20180409/fp_fp_001_pp_e2ds_A.fits\u001b[0;0m\n\u001b[92;1m14:41:30.0 -   |notebook|    Removing file: /scratch/Projects/spirou_py3/data_h4rg/reduced/AT5/20180409/fp_fp_001_pp_e2ds_B.fits\u001b[0;0m\n\u001b[92;1m14:41:30.0 -   |notebook|    Removing file: /scratch/Projects/spirou_py3/data_h4rg/reduced/AT5/20180409/fp_fp_001_pp_e2ds_C.fits\u001b[0;0m\n\u001b[92;1m14:41:30.0 -   |notebook|    Removing file: /scratch/Projects/spirou_py3/data_h4rg/reduced/AT5/20180409/hcone_hcone_001_pp_e2ds_AB.fits\u001b[0;0m\n\u001b[92;1m14:41:30.0 -   |notebook|    Removing file: /scratch/Projects/spirou_py3/data_h4rg/reduced/AT5/20180409/hcone_hcone_001_pp_e2ds_A.fits\u001b[0;0m\n\u001b[92;1m14:41:30.0 -   |notebook|    Removing file: /scratch/Projects/spirou_py3/data_h4rg/reduced/AT5/20180409/hcone_hcone_001_pp_e2ds_B.fits\u001b[0;0m\n\u001b[92;1m14:41:30.0 -   |notebook|    Removing file: /scratch/Projects/spirou_py3/data_h4rg/reduced/AT5/20180409/hcone_hcone_001_pp_e2ds_C.fits\u001b[0;0m\n\u001b[92;1m14:41:30.0 -   |notebook|Resetting calibration database\u001b[0;0m\n\u001b[92;1m14:41:30.0 -   |notebook|    Removing file: /scratch/Projects/spirou_py3/data_h4rg/calibDB/2017-10-11_21-32-17_hcone_hcone02c406_wave_AB.fits\u001b[0;0m\n\u001b[92;1m14:41:30.0 -   |notebook|    Removing file: /scratch/Projects/spirou_py3/data_h4rg/calibDB/2017-10-11_21-32-17_hcone_hcone02c406_wave_C.fits\u001b[0;0m\n\u001b[92;1m14:41:30.0 -   |notebook|    Removing file: /scratch/Projects/spirou_py3/data_h4rg/calibDB/spirou_wave_ini3.fits\u001b[0;0m\n\u001b[92;1m14:41:30.0 -   |notebook|    Removing file: /scratch/Projects/spirou_py3/data_h4rg/calibDB/tapas_combined_za=20.000000.fits\u001b[0;0m\n\u001b[92;1m14:41:30.0 -   |notebook|    Removing file: /scratch/Projects/spirou_py3/data_h4rg/calibDB/TAPAS_X_axis_speed_dv=0.5.fits\u001b[0;0m\n\u001b[92;1m14:41:30.0 -   |notebook|    Removing file: /scratch/Projects/spirou_py3/data_h4rg/calibDB/master_calib_SPIROU.txt\u001b[0;0m\n\u001b[92;1m14:41:30.0 -   |notebook|    Removing file: /scratch/Projects/spirou_py3/data_h4rg/calibDB/20180409_dark_dark_001_pp.fits\u001b[0;0m\n\u001b[92;1m14:41:30.0 -   |notebook|    Removing file: /scratch/Projects/spirou_py3/data_h4rg/calibDB/20180409_dark_dark_001_pp_badpixel.fits\u001b[0;0m\n\u001b[92;1m14:41:30.0 -   |notebook|    Removing file: /scratch/Projects/spirou_py3/data_h4rg/calibDB/20180409_flat_flat_001_pp_badpixel.fits\u001b[0;0m\n\u001b[92;1m14:41:30.0 -   |notebook|    Removing file: /scratch/Projects/spirou_py3/data_h4rg/calibDB/20180409_dark_flat_001_pp_order_profile_C.fits\u001b[0;0m\n\u001b[92;1m14:41:30.0 -   |notebook|    Removing file: /scratch/Projects/spirou_py3/data_h4rg/calibDB/20180409_dark_flat_001_pp_loco_C.fits\u001b[0;0m\n\u001b[92;1m14:41:30.0 -   |notebook|    Removing file: /scratch/Projects/spirou_py3/data_h4rg/calibDB/20180409_flat_dark_001_pp_order_profile_AB.fits\u001b[0;0m\n"
     ]
    },
    {
     "name": "stdout",
     "output_type": "stream",
     "text": [
      "\u001b[92;1m14:41:30.0 -   |notebook|    Removing file: /scratch/Projects/spirou_py3/data_h4rg/calibDB/20180409_flat_dark_001_pp_loco_AB.fits\u001b[0;0m\n\u001b[92;1m14:41:30.0 -   |notebook|    Removing file: /scratch/Projects/spirou_py3/data_h4rg/calibDB/20180409_fp_fp_001_pp_tilt.fits\u001b[0;0m\n\u001b[92;1m14:41:30.0 -   |notebook|Adding file: 2017-10-11_21-32-17_hcone_hcone02c406_wave_AB.fits to /scratch/Projects/spirou_py3/data_h4rg/calibDB\u001b[0;0m\n\u001b[92;1m14:41:30.0 -   |notebook|Adding file: 2017-10-11_21-32-17_hcone_hcone02c406_wave_C.fits to /scratch/Projects/spirou_py3/data_h4rg/calibDB\u001b[0;0m\n\u001b[92;1m14:41:30.0 -   |notebook|Adding file: spirou_wave_ini3.fits to /scratch/Projects/spirou_py3/data_h4rg/calibDB\u001b[0;0m\n\u001b[92;1m14:41:30.0 -   |notebook|Adding file: tapas_combined_za=20.000000.fits to /scratch/Projects/spirou_py3/data_h4rg/calibDB\u001b[0;0m\n\u001b[92;1m14:41:30.0 -   |notebook|Adding file: TAPAS_X_axis_speed_dv=0.5.fits to /scratch/Projects/spirou_py3/data_h4rg/calibDB\u001b[0;0m\n\u001b[92;1m14:41:30.0 -   |notebook|Adding file: master_calib_SPIROU.txt to /scratch/Projects/spirou_py3/data_h4rg/calibDB\u001b[0;0m\n\u001b[92;1m14:41:30.0 - * |notebook|Recipe notebook has been successfully completed\u001b[0;0m\n"
     ]
    }
   ],
   "source": [
    "# For notebook only warn=False (as we have no user input available)\n",
    "DRS_Reset(warn=False)"
   ]
  },
  {
   "cell_type": "markdown",
   "metadata": {},
   "source": [
    "## List all raw files and directories \n",
    "This command list all raw files and directories available with the current setup (i.e. DRS_DATA_RAW)\n"
   ]
  },
  {
   "cell_type": "code",
   "execution_count": 10,
   "metadata": {},
   "outputs": [
    {
     "name": "stdout",
     "output_type": "stream",
     "text": [
      "\u001b[92;1m14:26:55.0 -   |notebook|All RAW files in /scratch/Projects/spirou_py3/data_h4rg/raw are:\u001b[0;0m\n\t\t20180409\n\t\t\tdark_dark_001.fits\n\t\t\tdark_dark_aff_001.fits\n\t\t\tdark_dark_afp_001.fits\n\t\t\tdark_dark_ahc1_001.fits\n\t\t\tdark_dark_ahc2_001.fits\n\t\t\tdark_flat_001.fits\n\t\t\tdark_hcone_001.fits\n\t\t\tdark_hctwo_001.fits\n\t\t\tflat_dark_001.fits\n\t\t\tflat_flat_001.fits\n\t\t\tfp_fp_001.fits\n\t\t\thcone_dark_001.fits\n\t\t\thcone_hcone_001.fits\n\t\t\thctwo_dark_001.fits\n\t\t\thctwo_hctwo_001.fits\n\t\t\tdark_dark_001_pp.fits\n\t\t\tdark_dark_aff_001_pp.fits\n\t\t\tdark_dark_afp_001_pp.fits\n\t\t\tdark_dark_ahc1_001_pp.fits\n\t\t\tdark_dark_ahc2_001_pp.fits\n\t\t\tdark_flat_001_pp.fits\n\t\t\tdark_hcone_001_pp.fits\n\t\t\tdark_hctwo_001_pp.fits\n\t\t\tflat_dark_001_pp.fits\n\t\t\tflat_flat_001_pp.fits\n\t\t\tfp_fp_001_pp.fits\n\t\t\thcone_dark_001_pp.fits\n\t\t\thcone_hcone_001_pp.fits\n\t\t\thctwo_dark_001_pp.fits\n\t\t\thctwo_hctwo_001_pp.fits\n\t\t20180407\n\t\t\tdark_dark_001d.fits\n\t\t\tdark_flat_001f.fits\n\t\t\tflat_dark_001f.fits\n\t\t\tflat_flat_001f.fits\n\t\t\tfp_fp_001a.fits\n\t\t\thcone_hcone_001c.fits\n\t\t\tdark_dark_001d_pp.fits\n\t\t\tdark_flat_001f_pp.fits\n\t\t\tflat_dark_001f_pp.fits\n\t\t\tflat_flat_001f_pp.fits\n\t\t\tfp_fp_001a_pp.fits\n\t\t\thcone_hcone_001c_pp.fits\n\t\t20180424\n\t\t\tGl699_fp42o.fits\n\t\t\tGl699_fp42o_pp.fits\n"
     ]
    }
   ],
   "source": [
    "ListRawFiles()"
   ]
  },
  {
   "cell_type": "markdown",
   "metadata": {},
   "source": [
    "## List all reduced files and directories\n",
    "This command list all reduced files and directories available with the current setup (i.e. DRS_DATA_REDUC)\n"
   ]
  },
  {
   "cell_type": "code",
   "execution_count": 11,
   "metadata": {},
   "outputs": [
    {
     "name": "stdout",
     "output_type": "stream",
     "text": [
      "\u001b[92;1m14:41:01.0 -   |notebook|All REDUCED files in /scratch/Projects/spirou_py3/data_h4rg/reduced are:\u001b[0;0m\n\t\t20180409\n\t\t\t20180409_dark_dark_001_pp.fits\n\t\t\t20180409_dark_dark_001_pp_badpixel.fits\n\t\t\t20180409_flat_flat_001_pp_badpixel.fits\n\t\t\tspirou_wave_ini3.fits\n\t\t\t2017-10-11_21-32-17_hcone_hcone02c406_wave_AB.fits\n\t\t\t2017-10-11_21-32-17_hcone_hcone02c406_wave_C.fits\n\t\t\t20180409_dark_flat_001_pp_order_profile_C.fits\n\t\t\t20180409_dark_flat_001_pp_loco_C.fits\n\t\t\t20180409_dark_flat_001_pp_fwhm-order_C.fits\n\t\t\t20180409_dark_flat_001_pp_with-order_C.fits\n\t\t\t20180409_flat_dark_001_pp_order_profile_AB.fits\n\t\t\t20180409_flat_dark_001_pp_loco_AB.fits\n\t\t\t20180409_flat_dark_001_pp_fwhm-order_AB.fits\n\t\t\t20180409_flat_dark_001_pp_with-order_AB.fits\n\t\t\t20180409_fp_fp_001_pp_tilt.fits\n\t\t\t20180409_dark_flat_001_pp_blaze_C.fits\n\t\t\t20180409_dark_flat_001_pp_flat_C.fits\n\t\t\t20180409_flat_dark_001_pp_blaze_AB.fits\n\t\t\t20180409_flat_dark_001_pp_flat_AB.fits\n\t\t\tfp_fp_001_pp_e2ds_AB.fits\n\t\t\tfp_fp_001_pp_e2ds_A.fits\n\t\t\tfp_fp_001_pp_e2ds_B.fits\n\t\t\tfp_fp_001_pp_e2ds_C.fits\n\t\t\thcone_hcone_001_pp_e2ds_AB.fits\n\t\t\thcone_hcone_001_pp_e2ds_A.fits\n\t\t\thcone_hcone_001_pp_e2ds_B.fits\n\t\t\thcone_hcone_001_pp_e2ds_C.fits\n"
     ]
    }
   ],
   "source": [
    "ListReducedFiles()"
   ]
  },
  {
   "cell_type": "markdown",
   "metadata": {},
   "source": [
    "## List all calibration database files\n",
    "This command list all calibration database files available with the current setup (i.e. DRS_CALIB_DB)\n"
   ]
  },
  {
   "cell_type": "code",
   "execution_count": 13,
   "metadata": {},
   "outputs": [
    {
     "name": "stdout",
     "output_type": "stream",
     "text": [
      "\u001b[92;1m14:47:36.0 -   |notebook|All CALIB_DB files in /scratch/Projects/spirou_py3/data_h4rg/calibDB are:\u001b[0;0m\n\t\t\n\t\t\t2017-10-11_21-32-17_hcone_hcone02c406_wave_AB.fits\n\t\t\t2017-10-11_21-32-17_hcone_hcone02c406_wave_C.fits\n\t\t\tspirou_wave_ini3.fits\n\t\t\ttapas_combined_za=20.000000.fits\n\t\t\tTAPAS_X_axis_speed_dv=0.5.fits\n\t\t\tmaster_calib_SPIROU.txt\n"
     ]
    }
   ],
   "source": [
    "ListCalibFiles()"
   ]
  },
  {
   "cell_type": "code",
   "execution_count": null,
   "metadata": {},
   "outputs": [],
   "source": []
  }
 ],
 "metadata": {
  "kernelspec": {
   "display_name": "Python 2",
   "language": "python",
   "name": "python2"
  },
  "language_info": {
   "codemirror_mode": {
    "name": "ipython",
    "version": 2
   },
   "file_extension": ".py",
   "mimetype": "text/x-python",
   "name": "python",
   "nbconvert_exporter": "python",
   "pygments_lexer": "ipython2",
   "version": "2.7.6"
  }
 },
 "nbformat": 4,
 "nbformat_minor": 0
}
