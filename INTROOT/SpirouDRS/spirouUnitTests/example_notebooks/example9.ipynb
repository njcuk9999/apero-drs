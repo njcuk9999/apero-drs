{
 "cells": [
  {
   "cell_type": "markdown",
   "metadata": {
    "collapsed": true
   },
   "source": [
    "# Using the SPIRou unit test\n",
    "\n",
    "Mainly for use as a testing aid, the `unit_test.py` allows one to run a set of predefined files through the DRS recieps quickly.\n",
    "\n",
    "These predefined files are written in text files with the extension .run (By default these are located in the `./Runs/` directory.\n",
    "\n",
    "To run the unit test from the command line we do the following:\n",
    "\n",
    "- Change to the unit_test folder i.e. `.../INTROOT/SpirouDRS/spirouUnitTests/`)\n",
    "- Run the unit_test recipe:\n",
    "\n",
    ">> `unit_test.py run_name.run`\n",
    "\n",
    "Or from python:"
   ]
  },
  {
   "cell_type": "code",
   "execution_count": 6,
   "metadata": {},
   "outputs": [
    {
     "name": "stdout",
     "output_type": "stream",
     "text": [
      "\u001b[92;1m12:31:15.0 -   |unit_test|Now running : unit_test with: \u001b[0;0m\n\u001b[92;1m12:31:15.0 -   |unit_test|       -- runname=None \u001b[0;0m\n\u001b[92;1m12:31:15.0 -   |ipykernel_launcher|ICDP_NAME loaded from:\u001b[0;0m\n\u001b[92;1m12:31:15.0 -   |ipykernel_launcher|     /scratch/Projects/spirou_py3/spirou_py3/INTROOT/config/constants_SPIROU_H2RG.py\u001b[0;0m\n\u001b[91;1m12:31:15.0 - ! |unit_test|Unit test run file \"/scratch/Projects/spirou_py3/spirou_py3/INTROOT/SpirouDRS/spirouUnitTests/Runs/None\" does not exist\u001b[0;0m\n"
     ]
    },
    {
     "ename": "SystemExit",
     "evalue": "1",
     "traceback": [
      "An exception has occurred, use %tb to see the full traceback.\n",
      "\u001b[0;31mSystemExit\u001b[0m\u001b[0;31m:\u001b[0m 1\n"
     ],
     "output_type": "error"
    },
    {
     "name": "stderr",
     "output_type": "stream",
     "text": [
      "/scratch/bin/anaconda3/lib/python3.6/site-packages/IPython/core/interactiveshell.py:2918: UserWarning: To exit: use 'exit', 'quit', or Ctrl-D.\n  warn(\"To exit: use 'exit', 'quit', or Ctrl-D.\", stacklevel=1)\n"
     ]
    }
   ],
   "source": [
    "from SpirouDRS import spirouUnitTests\n",
    "\n",
    "# trick sys.argv (notebook only)\n",
    "import sys\n",
    "sys.argv = ['unit_test.py']\n",
    "\n",
    "# Note quiet = True just for notebook (avoids user input for reset check)\n",
    "ll = spirouUnitTests.UnitTest.main(runname='None', quiet=True)"
   ]
  },
  {
   "cell_type": "markdown",
   "metadata": {},
   "source": [
    "## Setting up the `.run` files\n",
    "\n",
    "Other than running the `unit_test.py` file one also needs to set up the .run files.\n",
    "\n",
    "These are very simple to set up and just require a file with `variable=value`.\n",
    "\n",
    "The values required are as follows:\n",
    "\n",
    "- `type`: string, the type of detector (i.e. H2RG or H4RG or the path to a custom config folder (i.e. the `DRS_UCONFIG` path)\n",
    "- `comparison`: bool, True or False. This is whether one wants to compare these files with identical files from the old DRS (Default is False unless you have the old DRS installed and have run these files on the DRS (and have modified the paths in `spirouUnitsTests.spirouUnitTests.py`)\n",
    "- `runX`: list for each run, list should be in order: recipe, night_name, argument1, argument2, argument3, .... where:\n",
    "\t- recipe: string, the recipe name (i.e. cal_DARK_spirou) without the extension\n",
    "\t- night_name: string, the directory in DRS_DATA_RAW which contains the raw files\n",
    "\t- argument1, argument2, argument3, ... : the arguments used after `recipe night_name` when calling the recipe from the command line\n",
    "\n",
    "The following shows a valid .run file (assuming one has the files in `DRS_DATA_RAW/night_name/` "
   ]
  },
  {
   "cell_type": "code",
   "execution_count": 3,
   "metadata": {},
   "outputs": [],
   "source": [
    "# ---------------------------------------------------\n",
    "#  File : 20170710.run\n",
    "# ---------------------------------------------------\n",
    "\n",
    "# define detector type (default = H4RG)\n",
    "type = \"H2RG\"\n",
    "\n",
    "# define whether we run the comparison with old drs (default = False)\n",
    "comparison = False\n",
    "\n",
    "# define run\n",
    "#    (Format = [recipe, night_name, argument1, argument2, argument3, ...])\n",
    "run0 = ['cal_DARK_spirou', '20170710', 'dark_dark02d406.fits']\n",
    "run1 = ['cal_BADPIX_spirou', '20170710', 'flat_flat02f10.fits', 'dark_dark02d406.fits']\n",
    "run2 = ['cal_loc_RAW_spirou', '20170710', 'flat_dark02f10.fits', 'flat_dark03f10.fits', 'flat_dark04f10.fits', 'flat_dark05f10.fits', 'flat_dark06f10.fits']\n",
    "run3 = ['cal_loc_RAW_spirou', '20170710', 'dark_flat02f10.fits', 'dark_flat03f10.fits', 'dark_flat04f10.fits', 'dark_flat05f10.fits', 'dark_flat06f10.fits']\n",
    "run4 = ['cal_SLIT_spirou', '20170710', 'fp_fp02a203.fits', 'fp_fp03a203.fits', 'fp_fp04a203.fits']\n",
    "run5 = ['cal_FF_RAW_spirou', '20170710', 'flat_dark02f10.fits', 'flat_dark03f10.fits', 'flat_dark04f10.fits', 'flat_dark05f10.fits', 'flat_dark06f10.fits']\n",
    "run6 = ['cal_FF_RAW_spirou', '20170710', 'dark_flat02f10.fits', 'dark_flat03f10.fits', 'dark_flat04f10.fits', 'dark_flat05f10.fits', 'dark_flat06f10.fits']\n",
    "run7 = ['cal_extract_RAW_spirou', '20170710', 'fp_fp02a203.fits']\n",
    "run8 = ['cal_extract_RAW_spirou', '20170710', 'fp_fp03a203.fits']\n",
    "run9 = ['cal_extract_RAW_spirou', '20170710', 'fp_fp04a203.fits']\n",
    "run10 = ['cal_extract_RAW_spirou', '20170710', 'hcone_hcone02c61.fits']\n",
    "run11 = ['cal_extract_RAW_spirou', '20170710', 'hcone_hcone03c61.fits']\n",
    "run12 = ['cal_extract_RAW_spirou', '20170710', 'hcone_hcone04c61.fits']\n",
    "run13 = ['cal_extract_RAW_spirou', '20170710', 'hcone_hcone05c61.fits']\n",
    "run14 = ['cal_extract_RAW_spirou', '20170710', 'hcone_hcone06c61.fits']\n",
    "run15 = ['cal_DRIFT_E2DS_spirou', '20170710', 'fp_fp02a203_e2ds_AB.fits']\n",
    "run16 = ['cal_DRIFTPEAK_E2DS_spirou', '20170710', 'fp_fp02a203_e2ds_AB.fits']\n",
    "run17 = ['cal_CCF_E2DS_spirou', '20170710', 'fp_fp02a203_e2ds_AB.fits', 'UrNe.mas', 0, 10, 0.1]"
   ]
  },
  {
   "cell_type": "markdown",
   "metadata": {},
   "source": [
    "and here is a short version:"
   ]
  },
  {
   "cell_type": "code",
   "execution_count": 4,
   "metadata": {},
   "outputs": [],
   "source": [
    "# ---------------------------------------------------\n",
    "#  File : test.run\n",
    "# ---------------------------------------------------\n",
    "\n",
    "# define detector type (default = H4RG)\n",
    "type = \"H2RG\"\n",
    "\n",
    "# define whether we run the comparison with old drs (default = False)\n",
    "comparison = False\n",
    "\n",
    "# define run\n",
    "#    (Format = [recipe, night_name, argument1, argument2, argument3, ...])\n",
    "run0 = ['cal_DARK_spirou', '20170710', 'dark_dark02d406.fits']\n",
    "run1 = ['cal_BADPIX_spirou', '20170710', 'flat_flat02f10.fits', 'dark_dark02d406.fits']\n"
   ]
  },
  {
   "cell_type": "markdown",
   "metadata": {},
   "source": [
    "This will run the DRS as follows:"
   ]
  },
  {
   "cell_type": "code",
   "execution_count": 5,
   "metadata": {},
   "outputs": [
    {
     "name": "stdout",
     "output_type": "stream",
     "text": [
      "\u001b[92;1m12:28:34.0 -   |unit_test|Now running : unit_test with: \u001b[0;0m\n\u001b[92;1m12:28:34.0 -   |unit_test|       -- runname=test.run \u001b[0;0m\n\u001b[92;1m12:28:34.0 -   |ipykernel_launcher|ICDP_NAME loaded from:\u001b[0;0m\n\u001b[92;1m12:28:34.0 -   |ipykernel_launcher|     /scratch/Projects/spirou_py3/spirou_py3/INTROOT/config/constants_SPIROU_H2RG.py\u001b[0;0m\n\u001b[92;1m12:28:34.0 -   |unit_test|\u001b[0;0m\n\u001b[93;1m12:28:34.0 - @ |unit_test| *****************************************\u001b[0;0m\n\u001b[93;1m12:28:34.0 - @ |unit_test| START OF UNIT TESTS\u001b[0;0m\n\u001b[93;1m12:28:34.0 - @ |unit_test| *****************************************\u001b[0;0m\n\u001b[92;1m12:28:34.0 -   |unit_test|\u001b[0;0m\n\u001b[92;1m12:28:34.0 -   |unit_test|\u001b[0;0m\n\u001b[93;1m12:28:34.0 - @ |unit_test| *****************************************\u001b[0;0m\n\u001b[93;1m12:28:34.0 - @ |unit_test| RUN0:cal_DARK_spirou\u001b[0;0m\n\u001b[93;1m12:28:34.0 - @ |unit_test| *****************************************\u001b[0;0m\n\u001b[92;1m12:28:34.0 -   |unit_test|\u001b[0;0m\n\u001b[92;1m12:28:34.0 -   || *****************************************\u001b[0;0m\n\u001b[92;1m12:28:34.0 -   || * SPIROU @(#) Geneva Observatory (0.2.002)\u001b[0;0m\n\u001b[92;1m12:28:34.0 -   || *****************************************\u001b[0;0m\n\u001b[92;1m12:28:34.0 -   ||(dir_data_raw)      DRS_DATA_RAW=/scratch/Projects/spirou_py3/data/raw\u001b[0;0m\n\u001b[92;1m12:28:34.0 -   ||(dir_data_reduc)    DRS_DATA_REDUC=/scratch/Projects/spirou_py3/data/reduced\u001b[0;0m\n\u001b[92;1m12:28:34.0 -   ||(dir_drs_config)    DRS_CONFIG=/scratch/Projects/spirou_py3/spirou_py3/INTROOT/config/\u001b[0;0m\n\u001b[92;1m12:28:34.0 -   ||(dir_drs_uconfig)   DRS_UCONFIG=/home/cook/spirou_config_H2RG/\u001b[0;0m\n\u001b[92;1m12:28:34.0 -   ||(dir_calib_db)      DRS_CALIB_DB=/scratch/Projects/spirou_py3/data/calibDB\u001b[0;0m\n\u001b[92;1m12:28:34.0 -   ||(dir_data_msg)      DRS_DATA_MSG=/scratch/Projects/spirou_py3/data/msg\u001b[0;0m\n\u001b[92;1m12:28:34.0 -   ||(print_level)       PRINT_LEVEL=all         %(error/warning/info/all)\u001b[0;0m\n\u001b[92;1m12:28:34.0 -   ||(log_level)         LOG_LEVEL=all         %(error/warning/info/all)\u001b[0;0m\n\u001b[92;1m12:28:34.0 -   ||(plot_graph)        DRS_PLOT=1            %(def/undef/trigger)\u001b[0;0m\n\u001b[92;1m12:28:34.0 -   ||(used_date)         DRS_USED_DATE=undefined\u001b[0;0m\n\u001b[92;1m12:28:34.0 -   ||(working_dir)       DRS_DATA_WORKING=/scratch/Projects/spirou_py3/data/tmp\u001b[0;0m\n\u001b[92;1m12:28:34.0 -   ||                    DRS_INTERACTIVE is not set, running on-line mode\u001b[0;0m\n\u001b[92;1m12:28:34.0 -   |RUN0:cal_DARK_spirou|Now running : RUN0:cal_DARK_spirou on file(s): \u001b[0;0m\n\u001b[92;1m12:28:34.0 -   |RUN0:cal_DARK_spirou|On directory /scratch/Projects/spirou_py3/data/raw/20170710\u001b[0;0m\n\u001b[92;1m12:28:34.0 -   |ipykernel_launcher|ICDP_NAME loaded from:\u001b[0;0m\n\u001b[92;1m12:28:34.0 -   |ipykernel_launcher|     /scratch/Projects/spirou_py3/spirou_py3/INTROOT/config/constants_SPIROU_H2RG.py\u001b[0;0m\n\u001b[92;1m12:28:34.0 - * |RUN0:cal_DARK_spirou|Correct type of image for dark (dark_dark)\u001b[0;0m\n\u001b[92;1m12:28:34.0 - * |RUN0:cal_DARK_spirou|Now processing Image TYPE UNKNOWN with RUN0:cal_DARK_spirou recipe\u001b[0;0m\n\u001b[92;1m12:28:34.0 -   |RUN0:cal_DARK_spirou|Reading Image /scratch/Projects/spirou_py3/data/raw/20170710/dark_dark02d406.fits\u001b[0;0m\n\u001b[92;1m12:28:34.0 -   |RUN0:cal_DARK_spirou|Image 2048 x 2048 loaded\u001b[0;0m\n"
     ]
    },
    {
     "name": "stdout",
     "output_type": "stream",
     "text": [
      "\u001b[92;1m12:28:34.0 - * |RUN0:cal_DARK_spirou|Dark Time = 597.489 s\u001b[0;0m\n"
     ]
    },
    {
     "name": "stdout",
     "output_type": "stream",
     "text": [
      "\u001b[92;1m12:28:35.0 -   |RUN0:cal_DARK_spirou|Doing Dark measurement\u001b[0;0m\n"
     ]
    },
    {
     "name": "stdout",
     "output_type": "stream",
     "text": [
      "\u001b[92;1m12:28:35.0 - * |RUN0:cal_DARK_spirou|In Whole det: Frac dead pixels= 14.659 % - Median= 0.35 ADU/s - Percent[5:95]= 0.08-99.57 ADU/s\u001b[0;0m\n\u001b[92;1m12:28:35.0 - * |RUN0:cal_DARK_spirou|In Blue part: Frac dead pixels= 0.997 % - Median= 0.15 ADU/s - Percent[5:95]= 0.09-0.53 ADU/s\u001b[0;0m\n\u001b[92;1m12:28:35.0 - * |RUN0:cal_DARK_spirou|In Red part : Frac dead pixels= 20.534 % - Median= 2.11 ADU/s - Percent[5:95]= 0.18-232.09 ADU/s\u001b[0;0m\n\u001b[92;1m12:28:35.0 - * |RUN0:cal_DARK_spirou|Frac pixels with DARK > 100.00 ADU/s = 4.257 %\u001b[0;0m\n\u001b[93;1m12:28:35.0 - @ |python warning Line 143  warning reads: invalid value encountered in greater|\u001b[0;0m\n\u001b[92;1m12:28:35.0 - * |RUN0:cal_DARK_spirou|Total Frac dead pixels (N.A.N) + DARK > 100.00 ADU/s = 18.916 %\u001b[0;0m\n"
     ]
    },
    {
     "name": "stdout",
     "output_type": "stream",
     "text": [
      "\u001b[92;1m12:28:36.0 - * |RUN0:cal_DARK_spirou|QUALITY CONTROL SUCCESSFUL - Well Done -\u001b[0;0m\n\u001b[92;1m12:28:36.0 -   |RUN0:cal_DARK_spirou|Saving Dark frame in 20170710_dark_dark02d406.fits\u001b[0;0m\n"
     ]
    },
    {
     "name": "stdout",
     "output_type": "stream",
     "text": [
      "\u001b[93;1m12:28:36.0 - @ |python warning Line 980  warning reads: Card is too long, comment will be truncated.|\u001b[0;0m\n\u001b[92;1m12:28:36.0 -   |RUN0:cal_DARK_spirou|Saving Bad Pixel Map in 20170710_dark_dark02d406_badpixel.fits\u001b[0;0m\n"
     ]
    },
    {
     "name": "stdout",
     "output_type": "stream",
     "text": [
      "\u001b[93;1m12:28:37.0 - @ |python warning Line 980  warning reads: Card is too long, comment will be truncated.|\u001b[0;0m\n\u001b[92;1m12:28:37.0 - * |RUN0:cal_DARK_spirou|Updating Calib Data Base with DARK\u001b[0;0m\n"
     ]
    },
    {
     "name": "stdout",
     "output_type": "stream",
     "text": [
      "\u001b[92;1m12:28:37.0 - * |RUN0:cal_DARK_spirou|Updating Calib Data Base with BADPIX_OLD\u001b[0;0m\n\u001b[92;1m12:28:37.0 - * |RUN0:cal_DARK_spirou|Recipe RUN0:cal_DARK_spirou has been successfully completed\u001b[0;0m\n\u001b[92;1m12:28:37.0 -   |unit_test|\u001b[0;0m\n\u001b[93;1m12:28:37.0 - @ |unit_test| *****************************************\u001b[0;0m\n\u001b[93;1m12:28:37.0 - @ |unit_test| RUN1:cal_BADPIX_spirou\u001b[0;0m\n\u001b[93;1m12:28:37.0 - @ |unit_test| *****************************************\u001b[0;0m\n\u001b[92;1m12:28:37.0 -   |unit_test|\u001b[0;0m\n\u001b[92;1m12:28:37.0 -   || *****************************************\u001b[0;0m\n\u001b[92;1m12:28:37.0 -   || * SPIROU @(#) Geneva Observatory (0.2.002)\u001b[0;0m\n\u001b[92;1m12:28:37.0 -   || *****************************************\u001b[0;0m\n\u001b[92;1m12:28:37.0 -   ||(dir_data_raw)      DRS_DATA_RAW=/scratch/Projects/spirou_py3/data/raw\u001b[0;0m\n\u001b[92;1m12:28:37.0 -   ||(dir_data_reduc)    DRS_DATA_REDUC=/scratch/Projects/spirou_py3/data/reduced\u001b[0;0m\n\u001b[92;1m12:28:37.0 -   ||(dir_drs_config)    DRS_CONFIG=/scratch/Projects/spirou_py3/spirou_py3/INTROOT/config/\u001b[0;0m\n\u001b[92;1m12:28:37.0 -   ||(dir_drs_uconfig)   DRS_UCONFIG=/home/cook/spirou_config_H2RG/\u001b[0;0m\n\u001b[92;1m12:28:37.0 -   ||(dir_calib_db)      DRS_CALIB_DB=/scratch/Projects/spirou_py3/data/calibDB\u001b[0;0m\n\u001b[92;1m12:28:37.0 -   ||(dir_data_msg)      DRS_DATA_MSG=/scratch/Projects/spirou_py3/data/msg\u001b[0;0m\n\u001b[92;1m12:28:37.0 -   ||(print_level)       PRINT_LEVEL=all         %(error/warning/info/all)\u001b[0;0m\n\u001b[92;1m12:28:37.0 -   ||(log_level)         LOG_LEVEL=all         %(error/warning/info/all)\u001b[0;0m\n\u001b[92;1m12:28:37.0 -   ||(plot_graph)        DRS_PLOT=1            %(def/undef/trigger)\u001b[0;0m\n\u001b[92;1m12:28:37.0 -   ||(used_date)         DRS_USED_DATE=undefined\u001b[0;0m\n\u001b[92;1m12:28:37.0 -   ||(working_dir)       DRS_DATA_WORKING=/scratch/Projects/spirou_py3/data/tmp\u001b[0;0m\n\u001b[92;1m12:28:37.0 -   ||                    DRS_INTERACTIVE is not set, running on-line mode\u001b[0;0m\n\u001b[92;1m12:28:37.0 -   |RUN1:cal_BADPIX_spirou|Now running : RUN1:cal_BADPIX_spirou with: \u001b[0;0m\n\u001b[92;1m12:28:37.0 -   |RUN1:cal_BADPIX_spirou|       -- flatfile=flat_flat02f10.fits \u001b[0;0m\n\u001b[92;1m12:28:37.0 -   |RUN1:cal_BADPIX_spirou|       -- darkfile=dark_dark02d406.fits \u001b[0;0m\n\u001b[92;1m12:28:37.0 -   |ipykernel_launcher|ICDP_NAME loaded from:\u001b[0;0m\n\u001b[92;1m12:28:37.0 -   |ipykernel_launcher|     /scratch/Projects/spirou_py3/spirou_py3/INTROOT/config/constants_SPIROU_H2RG.py\u001b[0;0m\n\u001b[92;1m12:28:37.0 - * |ipykernel_launcher|Correct type of image for FLAT (flat_flat)\u001b[0;0m\n\u001b[92;1m12:28:37.0 - * |RUN1:cal_BADPIX_spirou|Now processing Image TYPE FLAT with RUN1:cal_BADPIX_spirou recipe\u001b[0;0m\n\u001b[92;1m12:28:37.0 - * |ipykernel_launcher|Correct type of image for DARK (dark_dark)\u001b[0;0m\n\u001b[92;1m12:28:37.0 - * |RUN1:cal_BADPIX_spirou|Now processing Image TYPE DARK with RUN1:cal_BADPIX_spirou recipe\u001b[0;0m\n\u001b[92;1m12:28:37.0 -   |RUN1:cal_BADPIX_spirou|Reading FLAT Image /scratch/Projects/spirou_py3/data/raw/20170710/flat_flat02f10.fits\u001b[0;0m\n\u001b[92;1m12:28:37.0 -   |RUN1:cal_BADPIX_spirou|FLAT Image 2048 x 2048 loaded\u001b[0;0m\n\u001b[92;1m12:28:37.0 -   |RUN1:cal_BADPIX_spirou|Reading DARK Image /scratch/Projects/spirou_py3/data/raw/20170710/dark_dark02d406.fits\u001b[0;0m\n\u001b[92;1m12:28:37.0 -   |RUN1:cal_BADPIX_spirou|DARK Image 2048 x 2048 loaded\u001b[0;0m\n\u001b[92;1m12:28:37.0 -   |RUN1:cal_BADPIX_spirou|Normalising the flat\u001b[0;0m\n"
     ]
    },
    {
     "name": "stdout",
     "output_type": "stream",
     "text": [
      "\u001b[92;1m12:28:38.0 -   |RUN1:cal_BADPIX_spirou|Looking for bad pixels\u001b[0;0m\n"
     ]
    },
    {
     "name": "stdout",
     "output_type": "stream",
     "text": [
      "\u001b[92;1m12:28:39.0 -   |RUN1:cal_BADPIX_spirou|Fraction of hot pixels from dark: 3.01 %\u001b[0;0m\n\u001b[92;1m12:28:39.0 -   |RUN1:cal_BADPIX_spirou|Fraction of bad pixels from flat: 1.66 %\u001b[0;0m\n\u001b[92;1m12:28:39.0 -   |RUN1:cal_BADPIX_spirou|Fraction of non-finite pixels in dark: 20.76 %\u001b[0;0m\n\u001b[92;1m12:28:39.0 -   |RUN1:cal_BADPIX_spirou|Fraction of non-finite pixels in flat: 14.66 %\u001b[0;0m\n\u001b[92;1m12:28:39.0 -   |RUN1:cal_BADPIX_spirou|Fraction of bad pixels with all criteria: 24.87 %\u001b[0;0m\n"
     ]
    },
    {
     "name": "stdout",
     "output_type": "stream",
     "text": [
      "\u001b[92;1m12:28:39.0 -   |RUN1:cal_BADPIX_spirou|Image format changed to 1930x2035\u001b[0;0m\n\u001b[92;1m12:28:39.0 - * |RUN1:cal_BADPIX_spirou|QUALITY CONTROL SUCCESSFUL - Well Done -\u001b[0;0m\n\u001b[92;1m12:28:39.0 -   |RUN1:cal_BADPIX_spirou|Saving Bad Pixel Map in 20170710_flat_flat02f10_badpixel.fits\u001b[0;0m\n\u001b[93;1m12:28:40.0 - @ |python warning Line 980  warning reads: Card is too long, comment will be truncated.|\u001b[0;0m\n\u001b[92;1m12:28:40.0 - * |RUN1:cal_BADPIX_spirou|Updating Calib Data Base with BADPIX\u001b[0;0m\n\u001b[92;1m12:28:40.0 - * |RUN1:cal_BADPIX_spirou|Recipe RUN1:cal_BADPIX_spirou has been successfully completed\u001b[0;0m\n\u001b[92;1m12:28:40.0 -   |unit_test|\u001b[0;0m\n\u001b[92;1m12:28:40.0 -   |unit_test| *****************************************\u001b[0;0m\n\u001b[92;1m12:28:40.0 -   |unit_test| TIMING STATS\u001b[0;0m\n\u001b[92;1m12:28:40.0 -   |unit_test| *****************************************\u001b[0;0m\n\u001b[92;1m12:28:40.0 -   |unit_test|\u001b[0;0m\n\u001b[92;1m12:28:40.0 -   |unit_test|\tRUN0:cal_DARK_spirou\tTime taken = 2.829 s\u001b[0;0m\n\u001b[92;1m12:28:40.0 -   |unit_test|\tRUN1:cal_BADPIX_spirou\tTime taken = 2.505 s\u001b[0;0m\n\u001b[92;1m12:28:40.0 -   |unit_test|\u001b[0;0m\n\u001b[92;1m12:28:40.0 - * |unit_test|Recipe unit_test has been successfully completed\u001b[0;0m\n"
     ]
    }
   ],
   "source": [
    "ll = spirouUnitTests.UnitTest.main(runname='test.run', quiet=True)"
   ]
  }
 ],
 "metadata": {
  "kernelspec": {
   "display_name": "Python 2",
   "language": "python",
   "name": "python2"
  },
  "language_info": {
   "codemirror_mode": {
    "name": "ipython",
    "version": 2
   },
   "file_extension": ".py",
   "mimetype": "text/x-python",
   "name": "python",
   "nbconvert_exporter": "python",
   "pygments_lexer": "ipython2",
   "version": "2.7.6"
  }
 },
 "nbformat": 4,
 "nbformat_minor": 0
}
