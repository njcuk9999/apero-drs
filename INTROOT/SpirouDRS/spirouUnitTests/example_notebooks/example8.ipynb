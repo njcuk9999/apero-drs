{
 "cells": [
  {
   "cell_type": "markdown",
   "metadata": {
    "collapsed": true
   },
   "source": [
    "# Using the logging (WLOG)\n",
    "\n",
    "Printing and logging is controlled via the `WLOG` function (`SpirouDRS.spirouCore.spirouLog.logger` aliased to `WLOG`)\n",
    "\n",
    "\n",
    "The first thing that is needed is the import and alias to the logger function (`WLOG`):"
   ]
  },
  {
   "cell_type": "code",
   "execution_count": 3,
   "metadata": {},
   "outputs": [],
   "source": [
    "from SpirouDRS import spirouCore\n",
    "\n",
    "# Get Logging function\n",
    "WLOG = spirouCore.wlog"
   ]
  },
  {
   "cell_type": "markdown",
   "metadata": {},
   "source": [
    "Then we can use the logger as follows:\n",
    "\n",
    "`WLOG(level, program, message)`\n",
    "\n",
    "and produces the following entry:\n",
    "\n",
    "\t`HH:MM:SS.s - char | program | message`\n",
    "\n",
    "where:\n",
    "\n",
    "- level: (string) is the type of log message we are producing by default it can be one of the following \"all\", \"info\", 'warning\", \"error\" or \"\" (a blank string). It also sets the \"char\" in the printed entry. This chooses the colour of the text\n",
    "\n",
    "- program: (string) is the \"program\" message that is printed/logged (i.e. the recipe that is being run or any other custom string that is required)\n",
    "\n",
    "- message: (string) this is the message part of the print statement/log statement.\n",
    "\n",
    "Below we show each of these in use:"
   ]
  },
  {
   "cell_type": "code",
   "execution_count": 5,
   "metadata": {},
   "outputs": [],
   "source": [
    "# set up a program name\n",
    "program = \"test program\"\n"
   ]
  },
  {
   "cell_type": "markdown",
   "metadata": {},
   "source": [
    "### General/info message:"
   ]
  },
  {
   "cell_type": "code",
   "execution_count": 7,
   "metadata": {},
   "outputs": [
    {
     "name": "stdout",
     "output_type": "stream",
     "text": [
      "\u001b[92;1m11:22:16.0 -   |test program|This is a general message\u001b[0;0m\n\u001b[92;1m11:22:16.0 -   |test program|This is a general message\u001b[0;0m\n\u001b[92;1m11:22:16.0 - * |test program|This is an info message\u001b[0;0m\n"
     ]
    }
   ],
   "source": [
    "WLOG('', program, 'This is a general message')\n",
    "WLOG('all', program, 'This is a general message')\n",
    "WLOG('info', program, 'This is an info message')"
   ]
  },
  {
   "cell_type": "markdown",
   "metadata": {},
   "source": [
    "### Warning message:"
   ]
  },
  {
   "cell_type": "code",
   "execution_count": 9,
   "metadata": {},
   "outputs": [
    {
     "name": "stdout",
     "output_type": "stream",
     "text": [
      "\u001b[93;1m11:23:07.0 - @ |test program|This is a warning messagge\u001b[0;0m\n"
     ]
    }
   ],
   "source": [
    "WLOG('warning', program, 'This is a warning messagge')"
   ]
  },
  {
   "cell_type": "markdown",
   "metadata": {},
   "source": [
    "### Error message:\n",
    "\n",
    "An error message (by default) has an added feature. An error will automatically stop the recipe. Therefore using a error logging should only be used when the recipes cannot continue afterwards.\n",
    "\n",
    "In the DRS (in none interactive mode) this exit will be silent. If `DEBUG=1` the error will be handled and the user will be able to debug from the point of exit (unlike uncatch python errors)."
   ]
  },
  {
   "cell_type": "code",
   "execution_count": 12,
   "metadata": {
    "collapsed": false
   },
   "outputs": [
    {
     "name": "stdout",
     "output_type": "stream",
     "text": [
      "\u001b[91;1m11:28:45.0 - ! |test program|This is an error message\u001b[0;0m\n"
     ]
    },
    {
     "ename": "SystemExit",
     "evalue": "1",
     "traceback": [
      "An exception has occurred, use %tb to see the full traceback.\n",
      "\u001b[0;31mSystemExit\u001b[0m\u001b[0;31m:\u001b[0m 1\n"
     ],
     "output_type": "error"
    }
   ],
   "source": [
    "WLOG('error', program, 'This is an error message')"
   ]
  },
  {
   "cell_type": "markdown",
   "metadata": {},
   "source": [
    "## Customising the logger\n",
    "\n",
    "There are several ways these default settings can be changed/modified. They are:\n",
    "- changing the levels\n",
    "- changing the levels that exit python\n",
    "- changing which levels write to the standard output (the screen)\n",
    "- changing which levels write to the log file\n",
    "- changing the colours of the levels (when coloured text is enabled)\n",
    "\n",
    "These are shown below and are changable in `SpirouDRS.spirouConfig.spirouConst.py`"
   ]
  },
  {
   "cell_type": "code",
   "execution_count": 14,
   "metadata": {},
   "outputs": [],
   "source": [
    "# noinspection PyPep8Naming\n",
    "def LOG_TRIG_KEYS():\n",
    "    \"\"\"\n",
    "    The log trigger key characters to use in log. Keys must be the same as\n",
    "    spirouConst.WRITE_LEVELS()\n",
    "\n",
    "    i.e.\n",
    "\n",
    "    if the following is defined:\n",
    "    >> trig_key[error] = '!'\n",
    "    and the following log is used:\n",
    "    >> WLOG('error', 'program', 'message')\n",
    "    the output is:\n",
    "    >> print(\"TIMESTAMP - ! |program|message\")\n",
    "\n",
    "    :return trig_key: dictionary, contains all the trigger keys and the\n",
    "                      characters/strings to use in logging. Keys must be the\n",
    "                      same as spirouConst.WRITE_LEVELS()\n",
    "    \"\"\"\n",
    "    # The trigger character to display for each\n",
    "    trig_key = dict(all=' ', error='!', warning='@', info='*', graph='~')\n",
    "    return trig_key\n",
    "\n",
    "\n",
    "# noinspection PyPep8Naming\n",
    "def WRITE_LEVEL():\n",
    "    \"\"\"\n",
    "    The write levels. Keys must be the same as spirouConst.LOG_TRIG_KEYS()\n",
    "\n",
    "    The write levels define which levels are logged and printed (based on\n",
    "    constants \"PRINT_LEVEL\" and \"LOG_LEVEL\" in the primary config file\n",
    "\n",
    "    i.e. if\n",
    "    >> PRINT_LEVEL = 'warning'\n",
    "    then no level with a numerical value less than\n",
    "    >> write_level['warning']\n",
    "    will be printed to the screen\n",
    "\n",
    "    similarly if\n",
    "    >> LOG_LEVEL = 'error'\n",
    "    then no level with a numerical value less than\n",
    "    >> write_level['error']\n",
    "    will be printed to the log file\n",
    "\n",
    "    :return write_level: dictionary, contains the keys and numerical levels\n",
    "                         of each trigger level. Keys must be the same as\n",
    "                         spirouConst.LOG_TRIG_KEYS()\n",
    "    \"\"\"\n",
    "    write_level = dict(error=3, warning=2, info=1, graph=0, all=0)\n",
    "    return write_level\n",
    "\n",
    "\n",
    "# noinspection PyPep8Naming\n",
    "def LOG_CAUGHT_WARNINGS():\n",
    "    \"\"\"\n",
    "    Defines a master switch, whether to report warnings that are caught in\n",
    "\n",
    "    >> with warnings.catch_warnings(record=True) as w:\n",
    "    >>     code_that_may_gen_warnings\n",
    "\n",
    "    :return warn: bool, if True reports warnings, if False does not\n",
    "    \"\"\"\n",
    "    # Define whether we warn\n",
    "    warn = True\n",
    "    return warn\n",
    "\n",
    "\n",
    "# noinspection PyPep8Naming\n",
    "def COLOUREDLEVELS():\n",
    "    \"\"\"\n",
    "    Defines the colours if using coloured log.\n",
    "    Allowed colour strings are found here:\n",
    "            see here:\n",
    "            http://ozzmaker.com/add-colour-to-text-in-python/\n",
    "            or in spirouConst.bcolors (colour class):\n",
    "                HEADER, OKBLUE, OKGREEN, WARNING, FAIL,\n",
    "                BOLD, UNDERLINE\n",
    "\n",
    "    :return clevels: dictionary, containing all the keys identical to\n",
    "                     LOG_TRIG_KEYS or WRITE_LEVEL, values must be strings\n",
    "                     that prodive colour information to python print statement\n",
    "                     see here:\n",
    "                         http://ozzmaker.com/add-colour-to-text-in-python/\n",
    "    \"\"\"\n",
    "    # reference:\n",
    "    # http://ozzmaker.com/add-colour-to-text-in-python/\n",
    "    clevels = dict(error=BColors.FAIL,  # red\n",
    "                   warning=BColors.WARNING,  # yellow\n",
    "                   info=BColors.OKGREEN,  # green\n",
    "                   graph=BColors.OKBLUE,  # green\n",
    "                   all=BColors.OKGREEN)  # green\n",
    "    return clevels\n",
    "\n",
    "\n",
    "# defines the colours\n",
    "class BColors:\n",
    "    HEADER = '\\033[95;1m'\n",
    "    OKBLUE = '\\033[94;1m'\n",
    "    OKGREEN = '\\033[92;1m'\n",
    "    WARNING = '\\033[93;1m'\n",
    "    FAIL = '\\033[91;1m'\n",
    "    ENDC = '\\033[0;0m'\n",
    "    BOLD = '\\033[1m'\n",
    "    UNDERLINE = '\\033[4m'"
   ]
  },
  {
   "cell_type": "code",
   "execution_count": null,
   "metadata": {},
   "outputs": [],
   "source": []
  }
 ],
 "metadata": {
  "kernelspec": {
   "display_name": "Python 2",
   "language": "python",
   "name": "python2"
  },
  "language_info": {
   "codemirror_mode": {
    "name": "ipython",
    "version": 2
   },
   "file_extension": ".py",
   "mimetype": "text/x-python",
   "name": "python",
   "nbconvert_exporter": "python",
   "pygments_lexer": "ipython2",
   "version": "2.7.6"
  }
 },
 "nbformat": 4,
 "nbformat_minor": 0
}
