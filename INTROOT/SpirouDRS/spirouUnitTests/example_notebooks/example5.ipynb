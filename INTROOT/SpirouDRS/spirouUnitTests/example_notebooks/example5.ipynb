{
 "cells": [
  {
   "cell_type": "markdown",
   "metadata": {
    "collapsed": true
   },
   "source": [
    "# Some common python 3 features that may be unfamiliar\n",
    "\n",
    "Below are a few common features introduced in python 3 that may be unfamiliar (note they all work in the latest versions of python 3)"
   ]
  },
  {
   "cell_type": "markdown",
   "metadata": {},
   "source": [
    "## The print function\n",
    "\n",
    "This is a very basic change. Python 3 will no longer accept the print statement without parantheses.\n",
    "\n",
    "For example:"
   ]
  },
  {
   "cell_type": "code",
   "execution_count": 1,
   "metadata": {},
   "outputs": [
    {
     "name": "stdout",
     "output_type": "stream",
     "text": [
      "string\n"
     ]
    }
   ],
   "source": [
    "# python 2\n",
    "print 'string'"
   ]
  },
  {
   "cell_type": "code",
   "execution_count": 2,
   "metadata": {},
   "outputs": [],
   "source": [
    "# python 3"
   ]
  },
  {
   "cell_type": "code",
   "execution_count": 3,
   "metadata": {},
   "outputs": [
    {
     "name": "stdout",
     "output_type": "stream",
     "text": [
      "string\n"
     ]
    }
   ],
   "source": [
    "print('string')"
   ]
  },
  {
   "cell_type": "markdown",
   "metadata": {},
   "source": [
    "## Integer division\n",
    "\n",
    "Integer division is now not the default (even for integers) i.e. x/y will always give a float even if x and y are intergers."
   ]
  },
  {
   "cell_type": "code",
   "execution_count": 4,
   "metadata": {},
   "outputs": [
    {
     "name": "stdout",
     "output_type": "stream",
     "text": [
      "2\n"
     ]
    }
   ],
   "source": [
    "# python 2\n",
    "x = 13\n",
    "y = 5\n",
    "print x/y"
   ]
  },
  {
   "cell_type": "code",
   "execution_count": 6,
   "metadata": {},
   "outputs": [
    {
     "name": "stdout",
     "output_type": "stream",
     "text": [
      "2.6\n"
     ]
    }
   ],
   "source": [
    "# this is needed in python 2 to make it the same as python 3\n",
    "from __future__ import division\n",
    "\n",
    "# python 3\n",
    "x = 13\n",
    "y = 5\n",
    "print(x/y)"
   ]
  },
  {
   "cell_type": "code",
   "execution_count": 7,
   "metadata": {},
   "outputs": [
    {
     "name": "stdout",
     "output_type": "stream",
     "text": [
      "2\n"
     ]
    }
   ],
   "source": [
    "# integer division is done as follows:\n",
    "x = 13\n",
    "y = 5\n",
    "print(x//y)"
   ]
  },
  {
   "cell_type": "markdown",
   "metadata": {},
   "source": [
    "## String formatting\n",
    "\n",
    "This is by far the most useful change. In python 2 pushing ints, floats, strings into another string was done using the % operator. This has now been replaced with the use of {} and a .format method.\n",
    "\n",
    "i.e."
   ]
  },
  {
   "cell_type": "code",
   "execution_count": 11,
   "metadata": {},
   "outputs": [
    {
     "name": "stdout",
     "output_type": "stream",
     "text": [
      "x multiplied y = 3 * 100 = 314\n"
     ]
    }
   ],
   "source": [
    "# python 2\n",
    "x = 3.14159265359\n",
    "y = 100\n",
    "kind = 'multiplied'\n",
    "symbol = '*'\n",
    "\n",
    "statement = 'x %s y = %d %s %d = %d' % (kind, x, symbol, y, x*y)\n",
    "\n",
    "print(statement)"
   ]
  },
  {
   "cell_type": "code",
   "execution_count": 18,
   "metadata": {},
   "outputs": [
    {
     "name": "stdout",
     "output_type": "stream",
     "text": [
      "x multiplied y = 3.14159265359 * 100 = 314.159265359\n"
     ]
    }
   ],
   "source": [
    "# python 3\n",
    "x = 3.14159265359\n",
    "y = 100\n",
    "kind = 'multiplied'\n",
    "symbol = '*'\n",
    "\n",
    "statement = 'x {} y = {} {} {} = {}'.format(kind, x, symbol, y, x*y)\n",
    "\n",
    "print(statement)"
   ]
  },
  {
   "cell_type": "markdown",
   "metadata": {},
   "source": [
    "Note that number formatting is similar:"
   ]
  },
  {
   "cell_type": "code",
   "execution_count": 15,
   "metadata": {},
   "outputs": [
    {
     "name": "stdout",
     "output_type": "stream",
     "text": [
      "x multiplied y = 3.14 * 100.00 = 314.16\n"
     ]
    }
   ],
   "source": [
    "# python 2\n",
    "statement = 'x %s y = %.2f %s %.2f = %.2f' % (kind, x, symbol, y, x*y)\n",
    "\n",
    "print(statement)"
   ]
  },
  {
   "cell_type": "code",
   "execution_count": 19,
   "metadata": {},
   "outputs": [
    {
     "name": "stdout",
     "output_type": "stream",
     "text": [
      "x multiplied y = 3.14 * 100.00 = 314.16\n"
     ]
    }
   ],
   "source": [
    "# python 3\n",
    "statement = 'x {} y = {:.2f} {} {:.2f} = {:.2f}'.format(kind, x, symbol, y, x*y)\n",
    "\n",
    "print(statement)"
   ]
  },
  {
   "cell_type": "markdown",
   "metadata": {},
   "source": [
    "However unlike in python 2, we can order inputs, repeat inputs, and even access elements from dictionarys:"
   ]
  },
  {
   "cell_type": "code",
   "execution_count": 37,
   "metadata": {},
   "outputs": [
    {
     "name": "stdout",
     "output_type": "stream",
     "text": [
      "List: x multiplied y = 3.14 * 100.00 = 314.16\n"
     ]
    }
   ],
   "source": [
    "# python 3 string formatting with list\n",
    "mylist = [x, y, x*y, x*x, kind, symbol]\n",
    "statement = 'List: x {4} y = {0:.2f} {5} {1:.2f} = {2:.2f}'.format(*mylist)\n",
    "print(statement)"
   ]
  },
  {
   "cell_type": "code",
   "execution_count": 36,
   "metadata": {},
   "outputs": [
    {
     "name": "stdout",
     "output_type": "stream",
     "text": [
      "Dict: x multiplied y = 3.14 * 100.00 = 314.16\n"
     ]
    }
   ],
   "source": [
    "# python 3 string formatting with dictionary\n",
    "p = dict()\n",
    "p['x'] = 3.14159265359\n",
    "p['y'] = 100\n",
    "p['xy'] = x * y\n",
    "p['xx'] = x * x\n",
    "p['mult'] = 'multiplied'\n",
    "p['m_s'] = '*'\n",
    "\n",
    "statement = 'Dict: x {mult} y = {x:.2f} {m_s} {y:.2f} = {xy:.2f}'.format(**p)\n",
    "print(statement)"
   ]
  },
  {
   "cell_type": "code",
   "execution_count": 35,
   "metadata": {},
   "outputs": [
    {
     "name": "stdout",
     "output_type": "stream",
     "text": [
      "List: x * x = 3.14 * 3.14 = 9.87\n",
      "Dict: x * x = 3.14 * 3.14 = 9.87\n"
     ]
    }
   ],
   "source": [
    "# python 3 string formatting with repetition\n",
    "statement1 = 'List: x {5} x = {0:.2f} {5} {0:.2f} = {3:.2f}'.format(*mylist)\n",
    "print(statement1)\n",
    "\n",
    "statement2 = 'Dict: x {m_s} x = {x:.2f} {m_s} {x:.2f} = {xx:.2f}'.format(**p)\n",
    "print(statement2)\n"
   ]
  }
 ],
 "metadata": {
  "kernelspec": {
   "display_name": "py2",
   "language": "python",
   "name": "py2"
  },
  "language_info": {
   "codemirror_mode": {
    "name": "ipython",
    "version": 2
   },
   "file_extension": ".py",
   "mimetype": "text/x-python",
   "name": "python",
   "nbconvert_exporter": "python",
   "pygments_lexer": "ipython2",
   "version": "2.7.14"
  }
 },
 "nbformat": 4,
 "nbformat_minor": 1
}
